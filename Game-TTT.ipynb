{
 "cells": [
  {
   "cell_type": "code",
   "execution_count": 6,
   "id": "5be4167f",
   "metadata": {},
   "outputs": [],
   "source": [
    "def demo_board():\n",
    "    print(f\" {1} | {2} | {3} \")\n",
    "    print(f\"-----------\")\n",
    "    print(f\" {4} | {5} | {6} \")\n",
    "    print(f\"-----------\")\n",
    "    print(f\" {7} | {8} | {9} \")"
   ]
  },
  {
   "cell_type": "code",
   "execution_count": 7,
   "id": "82fc9a96",
   "metadata": {},
   "outputs": [
    {
     "name": "stdout",
     "output_type": "stream",
     "text": [
      " 1 | 2 | 3 \n",
      "-----------\n",
      " 4 | 5 | 6 \n",
      "-----------\n",
      " 7 | 8 | 9 \n"
     ]
    }
   ],
   "source": [
    "demo_board()"
   ]
  },
  {
   "cell_type": "code",
   "execution_count": 15,
   "id": "8057d648",
   "metadata": {},
   "outputs": [],
   "source": [
    "def board(mylist):\n",
    "    print(f\" {mylist[0]} | {mylist[1]} | {mylist[2]} \")\n",
    "    print(f\"-----------\")\n",
    "    print(f\" {mylist[3]} | {mylist[4]} | {mylist[5]} \")\n",
    "    print(f\"-----------\")\n",
    "    print(f\" {mylist[6]} | {mylist[7]} | {mylist[8]} \")"
   ]
  },
  {
   "cell_type": "code",
   "execution_count": 20,
   "id": "3a74bf4b",
   "metadata": {},
   "outputs": [],
   "source": [
    "mylist = [\" \"]*9"
   ]
  },
  {
   "cell_type": "code",
   "execution_count": 21,
   "id": "f2d8d9a6",
   "metadata": {},
   "outputs": [
    {
     "name": "stdout",
     "output_type": "stream",
     "text": [
      "   |   |   \n",
      "-----------\n",
      "   |   |   \n",
      "-----------\n",
      "   |   |   \n"
     ]
    }
   ],
   "source": [
    "board(mylist)"
   ]
  },
  {
   "cell_type": "code",
   "execution_count": null,
   "id": "6ab8b230",
   "metadata": {},
   "outputs": [],
   "source": [
    "def user_input():\n",
    "    "
   ]
  }
 ],
 "metadata": {
  "kernelspec": {
   "display_name": "Python 3",
   "language": "python",
   "name": "python3"
  },
  "language_info": {
   "codemirror_mode": {
    "name": "ipython",
    "version": 3
   },
   "file_extension": ".py",
   "mimetype": "text/x-python",
   "name": "python",
   "nbconvert_exporter": "python",
   "pygments_lexer": "ipython3",
   "version": "3.8.5"
  }
 },
 "nbformat": 4,
 "nbformat_minor": 5
}
