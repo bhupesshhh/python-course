{
 "cells": [
  {
   "cell_type": "markdown",
   "id": "af338936",
   "metadata": {},
   "source": [
    "# Advance Python 2\n",
    "\n",
    "* Working with Images\n",
    "* Working with CSV\n",
    "* Working with Excel\n",
    "* Working with PDFs\n",
    "* Working with Emails"
   ]
  },
  {
   "cell_type": "code",
   "execution_count": null,
   "id": "13516dc3",
   "metadata": {},
   "outputs": [],
   "source": []
  }
 ],
 "metadata": {
  "kernelspec": {
   "display_name": "Python 3",
   "language": "python",
   "name": "python3"
  },
  "language_info": {
   "codemirror_mode": {
    "name": "ipython",
    "version": 3
   },
   "file_extension": ".py",
   "mimetype": "text/x-python",
   "name": "python",
   "nbconvert_exporter": "python",
   "pygments_lexer": "ipython3",
   "version": "3.8.5"
  }
 },
 "nbformat": 4,
 "nbformat_minor": 5
}
