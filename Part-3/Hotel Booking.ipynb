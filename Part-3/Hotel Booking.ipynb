{
 "cells": [
  {
   "cell_type": "code",
   "execution_count": 1,
   "id": "ddd8ead3",
   "metadata": {},
   "outputs": [],
   "source": [
    "import bs4\n",
    "import requests\n",
    "import lxml\n",
    "import pandas"
   ]
  },
  {
   "cell_type": "code",
   "execution_count": 68,
   "id": "7aafabbc",
   "metadata": {},
   "outputs": [],
   "source": [
    "link = \"https://www.booking.com/searchresults.html?label=gen173nr-1FCAEoggI46AdIM1gEaGyIAQGYATG4ARnIAQ_YAQHoAQH4AQKIAgGoAgO4AoaV8YYGwAIB0gIkMjJhMDljN2MtYTY5ZC00Mjc2LTg1NTItYjgxOGJmZWJjNDFh2AIF4AIB&sid=8e1ad45f6e4a3b40651fb45baa946a34&tmpl=searchresults&class_interval=1&dest_id=-2102774&dest_type=city&label_click=undef&raw_dest_type=city&room1=A%2CA&sb_price_type=total&shw_aparth=1&slp_r_match=0&srpvid=f3844bfa43800232&ssb=empty&top_ufis=1&rows=0\"\n",
    "\n",
    "headers = {'User-Agent':'Mozilla/5.0 (Macintosh; Intel Mac OS X 10_11_2) AppleWebKit/601.3.9 (KHTML, like Gecko) Version/9.0.2 Safari/601.3.9'}\n",
    "\n",
    "# Request for the URL\n",
    "page = requests.get(link, headers=headers)\n",
    "\n",
    "# Make it a soup\n",
    "soup = bs4.BeautifulSoup(page.text,\"lxml\")"
   ]
  },
  {
   "cell_type": "code",
   "execution_count": 95,
   "id": "adace174",
   "metadata": {},
   "outputs": [],
   "source": [
    "#soup"
   ]
  },
  {
   "cell_type": "code",
   "execution_count": 70,
   "id": "56512313",
   "metadata": {},
   "outputs": [],
   "source": [
    "# Name of the Hotel\n",
    "\n",
    "name = soup.select(\".sr_item_content.sr_item_content_slider_wrapper\")[0].select(\"a\")[0].select(\"span\")[0].getText()"
   ]
  },
  {
   "cell_type": "code",
   "execution_count": 71,
   "id": "f3ffa7be",
   "metadata": {},
   "outputs": [
    {
     "data": {
      "text/plain": [
       "'FabHotel Shree Sai Residency Lonavala'"
      ]
     },
     "execution_count": 71,
     "metadata": {},
     "output_type": "execute_result"
    }
   ],
   "source": [
    "name.split(\"\\n\")[1]"
   ]
  },
  {
   "cell_type": "code",
   "execution_count": 72,
   "id": "7f8c4da7",
   "metadata": {},
   "outputs": [],
   "source": [
    "# Name of the place\n",
    "\n",
    "place = soup.select(\".sr_item_content.sr_item_content_slider_wrapper\")[0].select(\"a\")[1].getText()"
   ]
  },
  {
   "cell_type": "code",
   "execution_count": 73,
   "id": "19ff396c",
   "metadata": {},
   "outputs": [
    {
     "data": {
      "text/plain": [
       "'Lonavala'"
      ]
     },
     "execution_count": 73,
     "metadata": {},
     "output_type": "execute_result"
    }
   ],
   "source": [
    "place.split(\"\\n\")[1]"
   ]
  },
  {
   "cell_type": "code",
   "execution_count": 114,
   "id": "8c97e267",
   "metadata": {},
   "outputs": [],
   "source": [
    "review = soup.select(\".sr_item_content.sr_item_content_slider_wrapper\")[0].select(\"a\")[2].getText()"
   ]
  },
  {
   "cell_type": "code",
   "execution_count": 115,
   "id": "0d687721",
   "metadata": {},
   "outputs": [
    {
     "data": {
      "text/plain": [
       "['7.8    ', 'Good', '   4 reviews   ', 'Opens in new window']"
      ]
     },
     "execution_count": 115,
     "metadata": {},
     "output_type": "execute_result"
    }
   ],
   "source": [
    "review.strip().split(\"\\n\")"
   ]
  },
  {
   "cell_type": "code",
   "execution_count": null,
   "id": "005afea4",
   "metadata": {},
   "outputs": [],
   "source": []
  },
  {
   "cell_type": "code",
   "execution_count": 92,
   "id": "79a9be28",
   "metadata": {},
   "outputs": [],
   "source": [
    "center_distance = soup.select(\".sr_item_content.sr_item_content_slider_wrapper\")[0].select(\".sr_card_address_line\")[0].getText()"
   ]
  },
  {
   "cell_type": "code",
   "execution_count": 94,
   "id": "bf6fe484",
   "metadata": {},
   "outputs": [
    {
     "data": {
      "text/plain": [
       "'4.1 km from centre'"
      ]
     },
     "execution_count": 94,
     "metadata": {},
     "output_type": "execute_result"
    }
   ],
   "source": [
    "center_distance.strip().split(\"\\n\")[-1]"
   ]
  },
  {
   "cell_type": "code",
   "execution_count": 105,
   "id": "36b18852",
   "metadata": {},
   "outputs": [
    {
     "data": {
      "text/plain": [
       "<div class=\"sr_item_content sr_item_content_slider_wrapper\">\n",
       "<div class=\"sr_property_block_main_row\">\n",
       "<div class=\"sr_item_main_block\">\n",
       "<div class=\"sr-hotel__title-wrap\">\n",
       "<h3 class=\"sr-hotel__title\">\n",
       "<a class=\"js-sr-hotel-link hotel_name_link url\" href=\"\n",
       "/hotel/in/oyo-63336-sai-residency.en-gb.html?label=gen173nr-1FCAEoggI46AdIM1gEaGyIAQGYATG4ARnIAQ_YAQHoAQH4AQKIAgGoAgO4AoaV8YYGwAIB0gIkMjJhMDljN2MtYTY5ZC00Mjc2LTg1NTItYjgxOGJmZWJjNDFh2AIF4AIB&amp;sid=455438acfb57c4d3b2c551c92e47c794&amp;dest_id=-2102774&amp;dest_type=city&amp;group_adults=2&amp;group_children=0&amp;hapos=1&amp;hpos=1&amp;no_rooms=1&amp;sr_order=popularity&amp;srepoch=1625051957&amp;srpvid=d5274f9ad95d01b7&amp;ucfs=1&amp;from=searchresults\n",
       ";highlight_room=#hotelTmpl\" rel=\"noopener\" target=\"_blank\">\n",
       "<span class=\"sr-hotel__name\" data-et-click=\"   \">\n",
       "FabHotel Shree Sai Residency Lonavala\n",
       "</span>\n",
       "<span class=\"invisible_spoken\">Opens in new window</span>\n",
       "</a>\n",
       "</h3>\n",
       "<span class=\"sr-hotel__title-badges\">\n",
       "<span class=\"c-accommodation-classification-rating\">\n",
       "<span class=\"c-accommodation-classification-rating__badge c-accommodation-classification-rating__badge--stars c-accommodation-classification-rating__badge--with-tooltip\" data-component=\"accommodation-classification-rating\" data-et-mouseenter=\"customGoal:NAFLeNIJJMDEbedHIKZNMUO:1\" title='\n",
       "&lt;p&gt;This star rating is provided to Booking.com by the property, and is usually determined by an official hotel rating organisation or another third party. &lt;/p&gt;\n",
       "&lt;p&gt;\n",
       "&lt;a href=\"https://booking.com/content/terms.en-gb.html?label=gen173nr-1FCAEoggI46AdIM1gEaGyIAQGYATG4ARnIAQ_YAQHoAQH4AQKIAgGoAgO4AoaV8YYGwAIB0gIkMjJhMDljN2MtYTY5ZC00Mjc2LTg1NTItYjgxOGJmZWJjNDFh2AIF4AIB;sid=455438acfb57c4d3b2c551c92e47c794;srpvid=d5274f9ad95d01b7#tcs_s8\" class=\"bui-link\" target=\"_blank\"&gt;\n",
       "You can find out more in our Terms and Conditions.\n",
       "&lt;/a&gt;\n",
       "&lt;/p&gt;\n",
       "'>\n",
       "<span aria-label=\"3 out of 5\" class=\"bui-rating bui-rating--smaller\" role=\"img\">\n",
       "<span aria-hidden=\"true\" class=\"bui-icon bui-rating__item bui-icon--medium\" role=\"presentation\">\n",
       "<svg aria-hidden=\"true\" focusable=\"false\" role=\"img\" viewbox=\"0 0 24 24\" xmlns=\"http://www.w3.org/2000/svg\">\n",
       "<path d=\"M23.555,8.729a1.505,1.505,0,0,0-1.406-.98H16.062a.5.5,0,0,1-.472-.334L13.405,1.222a1.5,1.5,0,0,0-2.81,0l-.005.016L8.41,7.415a.5.5,0,0,1-.471.334H1.85A1.5,1.5,0,0,0,.887,10.4l5.184,4.3a.5.5,0,0,1,.155.543L4.048,21.774a1.5,1.5,0,0,0,2.31,1.684l5.346-3.92a.5.5,0,0,1,.591,0l5.344,3.919a1.5,1.5,0,0,0,2.312-1.683l-2.178-6.535a.5.5,0,0,1,.155-.543l5.194-4.306A1.5,1.5,0,0,0,23.555,8.729Z\"></path>\n",
       "</svg>\n",
       "</span>\n",
       "<span aria-hidden=\"true\" class=\"bui-icon bui-rating__item bui-icon--medium\" role=\"presentation\">\n",
       "<svg aria-hidden=\"true\" focusable=\"false\" role=\"img\" viewbox=\"0 0 24 24\" xmlns=\"http://www.w3.org/2000/svg\">\n",
       "<path d=\"M23.555,8.729a1.505,1.505,0,0,0-1.406-.98H16.062a.5.5,0,0,1-.472-.334L13.405,1.222a1.5,1.5,0,0,0-2.81,0l-.005.016L8.41,7.415a.5.5,0,0,1-.471.334H1.85A1.5,1.5,0,0,0,.887,10.4l5.184,4.3a.5.5,0,0,1,.155.543L4.048,21.774a1.5,1.5,0,0,0,2.31,1.684l5.346-3.92a.5.5,0,0,1,.591,0l5.344,3.919a1.5,1.5,0,0,0,2.312-1.683l-2.178-6.535a.5.5,0,0,1,.155-.543l5.194-4.306A1.5,1.5,0,0,0,23.555,8.729Z\"></path>\n",
       "</svg>\n",
       "</span>\n",
       "<span aria-hidden=\"true\" class=\"bui-icon bui-rating__item bui-icon--medium\" role=\"presentation\">\n",
       "<svg aria-hidden=\"true\" focusable=\"false\" role=\"img\" viewbox=\"0 0 24 24\" xmlns=\"http://www.w3.org/2000/svg\">\n",
       "<path d=\"M23.555,8.729a1.505,1.505,0,0,0-1.406-.98H16.062a.5.5,0,0,1-.472-.334L13.405,1.222a1.5,1.5,0,0,0-2.81,0l-.005.016L8.41,7.415a.5.5,0,0,1-.471.334H1.85A1.5,1.5,0,0,0,.887,10.4l5.184,4.3a.5.5,0,0,1,.155.543L4.048,21.774a1.5,1.5,0,0,0,2.31,1.684l5.346-3.92a.5.5,0,0,1,.591,0l5.344,3.919a1.5,1.5,0,0,0,2.312-1.683l-2.178-6.535a.5.5,0,0,1,.155-.543l5.194-4.306A1.5,1.5,0,0,0,23.555,8.729Z\"></path>\n",
       "</svg>\n",
       "</span>\n",
       "</span>\n",
       "</span>\n",
       "</span>\n",
       "<span data-et-view=\"TPOaXGZCHQGPGJIMADXRT:1\"></span>\n",
       "<svg aria-hidden=\"true\" class=\"bk-icon -iconset-thumbs_up_square pp-icon-valign--tbottom js-preferred-property-copy-cached\" data-bui-component=\"Tooltip\" data-et-mouseenter=\"\n",
       "customGoal:TPOaXGZCHQGPGJIMADXRT:1\n",
       "\" data-tooltip-position=\"bottom\" data-tooltip-text=\"...\" fill=\"#FEBB02\" focusable=\"false\" height=\"20\" rel=\"300\" role=\"presentation\" viewbox=\"0 0 128 128\" width=\"20\"><path d=\"M112 8H16a8 8 0 0 0-8 8v96a8 8 0 0 0 8 8h96a8 8 0 0 0 8-8V16a8 8 0 0 0-8-8zM48 96H24V58h24zm56-25a8.7 8.7 0 0 1-2 6 8.9 8.9 0 0 1 1 4 6.9 6.9 0 0 1-5 7c-.5 4-4.8 8-9 8H56V58l10.3-23.3a5.4 5.4 0 0 1 10.1 2.7 10.3 10.3 0 0 1-.6 2.7L72 52h23c4.5 0 9 3.5 9 8a9.2 9.2 0 0 1-2 5.3 7.5 7.5 0 0 1 2 5.7z\"></path></svg>\n",
       "</span>\n",
       "</div>\n",
       "<div class=\"sr_card_address_line\">\n",
       "<a class=\"bui-link\" data-coords=\"73.436479,18.738836\" data-et-click=\"customGoal:HZUaQRSeBcKHSYeGXT:1\" data-google-track=\"Click/Action: sr_map_link_used\" data-map-caption=\"\" href=\"/hotel/in/oyo-63336-sai-residency.en-gb.html?label=gen173nr-1FCAEoggI46AdIM1gEaGyIAQGYATG4ARnIAQ_YAQHoAQH4AQKIAgGoAgO4AoaV8YYGwAIB0gIkMjJhMDljN2MtYTY5ZC00Mjc2LTg1NTItYjgxOGJmZWJjNDFh2AIF4AIB&amp;amp;amp;sid=455438acfb57c4d3b2c551c92e47c794&amp;amp;amp;dest_id=-2102774&amp;amp;amp;dest_type=city&amp;amp;amp;group_adults=2&amp;amp;amp;group_children=0&amp;amp;amp;hapos=1&amp;amp;amp;hpos=1&amp;amp;amp;no_rooms=1&amp;amp;amp;sr_order=popularity&amp;amp;amp;srepoch=1625051957&amp;amp;amp;srpvid=d5274f9ad95d01b7&amp;amp;amp;ucfs=1&amp;amp;amp;from=searchresults;map=1&amp;amp;amp;msd=1#hotelTmpl\" rel=\"noopener\" target=\"_blank\">\n",
       "Lonavala\n",
       "<span class=\"sr_card_address_line__item\">\n",
       "<span class=\"sr_card_address_line__dot-separator\"></span>\n",
       "Show on map</span>\n",
       "</a>\n",
       "<span class=\"sr_card_address_line__dot-separator\"></span>\n",
       "<span data-bui-component=\"Tooltip\" data-et-mouseenter=\"customGoal:HZUaQRSeBcKHSYeGXT:2\" data-tooltip-follow=\"\" data-tooltip-light=\"\" data-tooltip-position=\"top\" title=\"This is the straight-line distance on the map. Actual travel distance may vary.\">\n",
       "<span class=\"sr_card_address_line__user_destination_address\">\n",
       "4.1 km from centre\n",
       "</span>\n",
       "</span>\n",
       "</div>\n",
       "<span data-et-view=\"HZUaQWNdbLEHJefTLKGBfSGeFTYcUO:1\"></span>\n",
       "<div class=\"hotel_desc\">\n",
       "FabHotel Shree Sai Residency Lonavala is situated in Lonavala, within 7 km of Bhushi Dam and 13 km of Lion's Point. With free WiFi, this 3-star hotel offers a 24-hour front desk and a shared kitchen. \n",
       "</div>\n",
       "<div class=\"lbsr clearfix sr-booked-x-times\" data-et-view=\"\">\n",
       "<div class=\"sr--x-times-booked js_sr_persuation_msg\">\n",
       "<div class=\"lastbooking\" rel=\"300\">\n",
       "Booked 2 times in the last 6 hours\n",
       "</div>\n",
       "</div>\n",
       "</div>\n",
       "</div>\n",
       "<div class=\"sr_item_review_block\">\n",
       "<div class=\"reviewFloater reviewFloaterBadge__container\">\n",
       "<div class=\"sr-review-score\" data-ugc-review-nr=\"4\" data-ugc-review-score=\"7.8\">\n",
       "<a class=\"sr-review-score__link\" href=\"/hotel/in/oyo-63336-sai-residency.en-gb.html?label=gen173nr-1FCAEoggI46AdIM1gEaGyIAQGYATG4ARnIAQ_YAQHoAQH4AQKIAgGoAgO4AoaV8YYGwAIB0gIkMjJhMDljN2MtYTY5ZC00Mjc2LTg1NTItYjgxOGJmZWJjNDFh2AIF4AIB&amp;amp;sid=455438acfb57c4d3b2c551c92e47c794&amp;amp;dest_id=-2102774&amp;amp;dest_type=city&amp;amp;group_adults=2&amp;amp;group_children=0&amp;amp;hapos=1&amp;amp;hpos=1&amp;amp;no_rooms=1&amp;amp;sr_order=popularity&amp;amp;srepoch=1625051957&amp;amp;srpvid=d5274f9ad95d01b7&amp;amp;ucfs=1&amp;amp;from=searchresults;from_sr_review=1;#hotelTmpl\" target=\"_blank\">\n",
       "<div class=\"bui-review-score c-score bui-review-score--end\"> <div aria-label=\"Scored 7.8 \" class=\"bui-review-score__badge\"> 7.8 </div> <div class=\"bui-review-score__content\"> <div class=\"bui-review-score__title\"> \n",
       "Good\n",
       " </div> <div class=\"bui-review-score__text\"> 4 reviews </div> </div> </div>\n",
       "<span class=\"invisible_spoken\">Opens in new window</span>\n",
       "</a>\n",
       "</div>\n",
       "<div class=\"sr-cta-button-row sr-cta-button-top-spacing\" data-et-click=\"\">\n",
       "<a class=\"txp-cta bui-button bui-button--primary sr_cta_button no_dates_click jq_tooltip\" data-click-store-id=\"sr-compset-5840511\" data-et-click=\"customGoal:OQLOLOLOMSVSRQbVKKMadMUWe:1 customGoal:OQLOLOLOMSVSRQbVKKMadMUWe:2 customGoal:OLGPQPMbYWMZMO:1 \" data-title=\"Enter your check-in and check-out dates in the search box on the left to see the exact room prices for your stay and to be able to sort by price.\n",
       "\" href=\"#hotelTmpl\" rel=\"220\" target=\"_blank\">\n",
       "<span class=\"bui-button__text js-sr-cta-text\">\n",
       "Show prices\n",
       "<span class=\"invisible_spoken\">Opens in new window</span>\n",
       "</span>\n",
       "</a>\n",
       "</div>\n",
       "</div>\n",
       "</div>\n",
       "</div>\n",
       "<div class=\"sr-badges__row\">\n",
       "<span data-et-view=\"\n",
       "OLGPTLKGBfRAOTAcaNYCLUC:1\n",
       "\"></span>\n",
       "</div>\n",
       "<div class=\"sr_rooms_table_block clearfix sr_card_rooms_container\">\n",
       "<div class=\"room_details\">\n",
       "</div>\n",
       "</div>\n",
       "</div>"
      ]
     },
     "execution_count": 105,
     "metadata": {},
     "output_type": "execute_result"
    }
   ],
   "source": [
    "soup.select(\".sr_item_content.sr_item_content_slider_wrapper\")[0]"
   ]
  },
  {
   "cell_type": "code",
   "execution_count": 111,
   "id": "f46c6403",
   "metadata": {},
   "outputs": [
    {
     "data": {
      "text/plain": [
       "\"FabHotel Shree Sai Residency Lonavala is situated in Lonavala, within 7 km of Bhushi Dam and 13 km of Lion's Point. With free WiFi, this 3-star hotel offers a 24-hour front desk and a shared kitchen. \""
      ]
     },
     "execution_count": 111,
     "metadata": {},
     "output_type": "execute_result"
    }
   ],
   "source": [
    "soup.select(\".sr_item_content.sr_item_content_slider_wrapper\")[0].select(\".hotel_desc\")[0].getText().split(\"\\n\")[1]"
   ]
  },
  {
   "cell_type": "code",
   "execution_count": null,
   "id": "f70896e2",
   "metadata": {},
   "outputs": [],
   "source": []
  },
  {
   "cell_type": "code",
   "execution_count": 131,
   "id": "8dc5998f",
   "metadata": {},
   "outputs": [],
   "source": [
    "## Final Setup for Scraping (Lonavala)\n",
    "\n",
    "link = \"https://www.booking.com/searchresults.html?aid=304142&label=gen173nr-1DCBkoggI46AdIM1gEaGyIAQGYATG4ARnIAQ_YAQPoAQH4AQKIAgGoAgO4AqGa8YYGwAIB0gIkMDhmM2QwZTktYzYxNS00NzM4LWE1MjktZjA3OWRjYjNhZGY22AIE4AIB&sid=8e1ad45f6e4a3b40651fb45baa946a34&tmpl=searchresults&class_interval=1&dest_id=-2102774&dest_type=city&from_history=1&group_adults=2&group_children=0&idf=1&label_click=undef&no_rooms=1&order=bayesian_review_score&raw_dest_type=city&room1=A%2CA&sb_price_type=total&shw_aparth=1&si=re&si=re&si=re&si=re&si=re&si=re&slp_r_match=0&srpvid=233c575349ec0137&ssb=empty&top_ufis=1&track_hp_back_button=1&rows=25&offset={}\"\n",
    "headers = {'User-Agent':'Mozilla/5.0 (Macintosh; Intel Mac OS X 10_11_2) AppleWebKit/601.3.9 (KHTML, like Gecko) Version/9.0.2 Safari/601.3.9'}\n",
    "\n",
    "\n",
    "# Empty Dictonary for storing \n",
    "\n",
    "scrape_dict = {\n",
    "    \"Name\" : [],\n",
    "    \"Place\" : [],\n",
    "    \"Rating Point\" : [],\n",
    "    \"Rating Category\" : [],\n",
    "    \"Number of Reviews\" : [],\n",
    "    \"Distance from Centre\" : [],\n",
    "    \"Description\" : [] }\n",
    "\n",
    "\n",
    "for num in range(0,451,25):\n",
    "    \n",
    "    # Request for the URL\n",
    "    page = requests.get(link.format(num), headers=headers)\n",
    "    # Make it a soup\n",
    "    soup = bs4.BeautifulSoup(page.text,\"lxml\")\n",
    "    \n",
    "    # Get the blocks\n",
    "    blocks = soup.select(\".sr_item_content.sr_item_content_slider_wrapper\")\n",
    "    \n",
    "    # For all the blocks\n",
    "    for block in blocks:\n",
    "        \n",
    "        # Get the details\n",
    "        name = block.select(\"a\")[0].select(\"span\")[0].getText().split(\"\\n\")[1]\n",
    "        place = block.select(\"a\")[1].getText().split(\"\\n\")[1]\n",
    "        try:\n",
    "            rating_num = block.select(\"a\")[2].getText().strip().split(\"\\n\")[0].rstrip().lstrip()\n",
    "            rating_value = block.select(\"a\")[2].getText().strip().split(\"\\n\")[1].rstrip().lstrip()\n",
    "            review = block.select(\"a\")[2].getText().strip().split(\"\\n\")[2].rstrip().lstrip()\n",
    "        except:\n",
    "            rating_num = 0\n",
    "            rating_value = 0\n",
    "            review = 0\n",
    "        center_distance = block.select(\".sr_card_address_line\")[0].getText().strip().split(\"\\n\")[-1].split()[0]\n",
    "        description = block.select(\".hotel_desc\")[0].getText().split(\"\\n\")[1]\n",
    "        \n",
    "        # Add the details\n",
    "        scrape_dict[\"Name\"].append(name)\n",
    "        scrape_dict[\"Place\"].append(place)\n",
    "        scrape_dict[\"Rating Point\"].append(rating_num)\n",
    "        scrape_dict[\"Rating Category\"].append(rating_value)\n",
    "        scrape_dict[\"Number of Reviews\"].append(review)\n",
    "        scrape_dict[\"Distance from Centre\"].append(center_distance)\n",
    "        scrape_dict[\"Description\"].append(description)\n",
    "\n",
    "df = pandas.DataFrame(scrape_dict)"
   ]
  },
  {
   "cell_type": "code",
   "execution_count": 139,
   "id": "c90728a5",
   "metadata": {},
   "outputs": [
    {
     "data": {
      "text/plain": [
       "Shivom Villa 6 By Vista Rooms                     3\n",
       "Mehta Mansion by Vista Rooms                      3\n",
       "FabHotel Shree Sai Residency Lonavala             2\n",
       "Hotel Nandanvan by Royal Stay                     2\n",
       "EKO STAY- Villa BLANCO                            2\n",
       "                                                 ..\n",
       "Darshan villa Kasa                                1\n",
       "The Happy Hive by Vista Rooms                     1\n",
       "Hotel Dreamland                                   1\n",
       "El Paradiso                                       1\n",
       "Blue Heaven- Lonavala 2 Bhk with private pool!    1\n",
       "Name: Name, Length: 429, dtype: int64"
      ]
     },
     "execution_count": 139,
     "metadata": {},
     "output_type": "execute_result"
    }
   ],
   "source": [
    "df[\"Name\"].value_counts()"
   ]
  },
  {
   "cell_type": "code",
   "execution_count": 141,
   "id": "66367441",
   "metadata": {},
   "outputs": [],
   "source": [
    "df.drop_duplicates(subset=\"Name\",keep=False,inplace=True)"
   ]
  },
  {
   "cell_type": "code",
   "execution_count": 145,
   "id": "eb1421e1",
   "metadata": {},
   "outputs": [
    {
     "data": {
      "text/html": [
       "<div>\n",
       "<style scoped>\n",
       "    .dataframe tbody tr th:only-of-type {\n",
       "        vertical-align: middle;\n",
       "    }\n",
       "\n",
       "    .dataframe tbody tr th {\n",
       "        vertical-align: top;\n",
       "    }\n",
       "\n",
       "    .dataframe thead th {\n",
       "        text-align: right;\n",
       "    }\n",
       "</style>\n",
       "<table border=\"1\" class=\"dataframe\">\n",
       "  <thead>\n",
       "    <tr style=\"text-align: right;\">\n",
       "      <th></th>\n",
       "      <th>Name</th>\n",
       "      <th>Place</th>\n",
       "      <th>Rating Point</th>\n",
       "      <th>Rating Category</th>\n",
       "      <th>Number of Reviews</th>\n",
       "      <th>Distance from Centre</th>\n",
       "      <th>Description</th>\n",
       "    </tr>\n",
       "  </thead>\n",
       "  <tbody>\n",
       "    <tr>\n",
       "      <th>0</th>\n",
       "      <td>Fazlani Natures Nest- A Wellness Retreat</td>\n",
       "      <td>Lonavala</td>\n",
       "      <td>8.8</td>\n",
       "      <td>Fabulous</td>\n",
       "      <td>181 reviews</td>\n",
       "      <td>23.9</td>\n",
       "      <td>Boasting a restaurant, garden and views of lak...</td>\n",
       "    </tr>\n",
       "    <tr>\n",
       "      <th>1</th>\n",
       "      <td>Nostravila</td>\n",
       "      <td>Lonavala</td>\n",
       "      <td>8.9</td>\n",
       "      <td>Fabulous</td>\n",
       "      <td>158 reviews</td>\n",
       "      <td>7.4</td>\n",
       "      <td>Nostravila provides air-conditioned accommodat...</td>\n",
       "    </tr>\n",
       "    <tr>\n",
       "      <th>2</th>\n",
       "      <td>Blue Waters Resort Lonavala.</td>\n",
       "      <td>Lonavala</td>\n",
       "      <td>8.9</td>\n",
       "      <td>Fabulous</td>\n",
       "      <td>32 reviews</td>\n",
       "      <td>2.3</td>\n",
       "      <td>Located in Lonavala, Blue Waters Resort Lonava...</td>\n",
       "    </tr>\n",
       "    <tr>\n",
       "      <th>3</th>\n",
       "      <td>Par-X Mist View 9B - 4BHK Villa &amp; Private Pool</td>\n",
       "      <td>Lonavala</td>\n",
       "      <td>9.0</td>\n",
       "      <td>Superb</td>\n",
       "      <td>30 reviews</td>\n",
       "      <td>1.7</td>\n",
       "      <td>Featuring garden views, Par-X Mist View 9B - 4...</td>\n",
       "    </tr>\n",
       "    <tr>\n",
       "      <th>4</th>\n",
       "      <td>Par-X Mist View 10A 4BHK Villa &amp; Private Pool</td>\n",
       "      <td>Lonavala</td>\n",
       "      <td>9.3</td>\n",
       "      <td>Superb</td>\n",
       "      <td>21 reviews</td>\n",
       "      <td>1.4</td>\n",
       "      <td>Situated in Lonavala, 8 km from Bhushi Dam and...</td>\n",
       "    </tr>\n",
       "    <tr>\n",
       "      <th>...</th>\n",
       "      <td>...</td>\n",
       "      <td>...</td>\n",
       "      <td>...</td>\n",
       "      <td>...</td>\n",
       "      <td>...</td>\n",
       "      <td>...</td>\n",
       "      <td>...</td>\n",
       "    </tr>\n",
       "    <tr>\n",
       "      <th>399</th>\n",
       "      <td>4 BhK Villa in lonavala</td>\n",
       "      <td>Lonavala</td>\n",
       "      <td>0</td>\n",
       "      <td>0</td>\n",
       "      <td>0</td>\n",
       "      <td>0.9</td>\n",
       "      <td>Offering garden views, 4 BhK Villa in lonavala...</td>\n",
       "    </tr>\n",
       "    <tr>\n",
       "      <th>400</th>\n",
       "      <td>Sai Villa Lonavala</td>\n",
       "      <td>Lonavala</td>\n",
       "      <td>0</td>\n",
       "      <td>0</td>\n",
       "      <td>0</td>\n",
       "      <td>3.8</td>\n",
       "      <td>Boasting garden views, Sai Villa Lonavala feat...</td>\n",
       "    </tr>\n",
       "    <tr>\n",
       "      <th>401</th>\n",
       "      <td>Leisurely Lakehouse 7Bhk, Pawna Lake</td>\n",
       "      <td>Lonavala</td>\n",
       "      <td>0</td>\n",
       "      <td>0</td>\n",
       "      <td>0</td>\n",
       "      <td>8</td>\n",
       "      <td>Boasting a private pool and garden views, Leis...</td>\n",
       "    </tr>\n",
       "    <tr>\n",
       "      <th>402</th>\n",
       "      <td>Wildberry Woodberry - 3 bedroom villa</td>\n",
       "      <td>Lonavala</td>\n",
       "      <td>0</td>\n",
       "      <td>0</td>\n",
       "      <td>0</td>\n",
       "      <td>8.5</td>\n",
       "      <td>Set just 15 km from Bhushi Dam, Wildberry Wood...</td>\n",
       "    </tr>\n",
       "    <tr>\n",
       "      <th>403</th>\n",
       "      <td>Wildberry 7 - 3 bedroom villa</td>\n",
       "      <td>Lonavala</td>\n",
       "      <td>0</td>\n",
       "      <td>0</td>\n",
       "      <td>0</td>\n",
       "      <td>8.5</td>\n",
       "      <td>Wildberry 7 - 3 bedroom villa, a property with...</td>\n",
       "    </tr>\n",
       "  </tbody>\n",
       "</table>\n",
       "<p>404 rows × 7 columns</p>\n",
       "</div>"
      ],
      "text/plain": [
       "                                               Name     Place Rating Point  \\\n",
       "0          Fazlani Natures Nest- A Wellness Retreat  Lonavala          8.8   \n",
       "1                                        Nostravila  Lonavala          8.9   \n",
       "2                      Blue Waters Resort Lonavala.  Lonavala          8.9   \n",
       "3    Par-X Mist View 9B - 4BHK Villa & Private Pool  Lonavala          9.0   \n",
       "4     Par-X Mist View 10A 4BHK Villa & Private Pool  Lonavala          9.3   \n",
       "..                                              ...       ...          ...   \n",
       "399                         4 BhK Villa in lonavala  Lonavala            0   \n",
       "400                              Sai Villa Lonavala  Lonavala            0   \n",
       "401            Leisurely Lakehouse 7Bhk, Pawna Lake  Lonavala            0   \n",
       "402           Wildberry Woodberry - 3 bedroom villa  Lonavala            0   \n",
       "403                   Wildberry 7 - 3 bedroom villa  Lonavala            0   \n",
       "\n",
       "    Rating Category Number of Reviews Distance from Centre  \\\n",
       "0          Fabulous       181 reviews                 23.9   \n",
       "1          Fabulous       158 reviews                  7.4   \n",
       "2          Fabulous        32 reviews                  2.3   \n",
       "3            Superb        30 reviews                  1.7   \n",
       "4            Superb        21 reviews                  1.4   \n",
       "..              ...               ...                  ...   \n",
       "399               0                 0                  0.9   \n",
       "400               0                 0                  3.8   \n",
       "401               0                 0                    8   \n",
       "402               0                 0                  8.5   \n",
       "403               0                 0                  8.5   \n",
       "\n",
       "                                           Description  \n",
       "0    Boasting a restaurant, garden and views of lak...  \n",
       "1    Nostravila provides air-conditioned accommodat...  \n",
       "2    Located in Lonavala, Blue Waters Resort Lonava...  \n",
       "3    Featuring garden views, Par-X Mist View 9B - 4...  \n",
       "4    Situated in Lonavala, 8 km from Bhushi Dam and...  \n",
       "..                                                 ...  \n",
       "399  Offering garden views, 4 BhK Villa in lonavala...  \n",
       "400  Boasting garden views, Sai Villa Lonavala feat...  \n",
       "401  Boasting a private pool and garden views, Leis...  \n",
       "402  Set just 15 km from Bhushi Dam, Wildberry Wood...  \n",
       "403  Wildberry 7 - 3 bedroom villa, a property with...  \n",
       "\n",
       "[404 rows x 7 columns]"
      ]
     },
     "execution_count": 145,
     "metadata": {},
     "output_type": "execute_result"
    }
   ],
   "source": [
    "df.reset_index(drop=True)"
   ]
  },
  {
   "cell_type": "code",
   "execution_count": 146,
   "id": "d549e865",
   "metadata": {},
   "outputs": [],
   "source": [
    "## Final Setup for Scraping (Lonavala)\n",
    "\n",
    "link = \"https://www.booking.com/searchresults.html?aid=304142&label=gen173nr-1DCBkoggI46AdIM1gEaGyIAQGYATG4ARnIAQ_YAQPoAQH4AQKIAgGoAgO4AqGa8YYGwAIB0gIkMDhmM2QwZTktYzYxNS00NzM4LWE1MjktZjA3OWRjYjNhZGY22AIE4AIB&sid=8e1ad45f6e4a3b40651fb45baa946a34&tmpl=searchresults&class_interval=1&dest_id=4127&dest_type=region&group_adults=2&group_children=0&label_click=undef&no_rooms=1&order=score&raw_dest_type=region&room1=A%2CA&sb_price_type=total&shw_aparth=1&slp_r_match=0&srpvid=c6355897e0d600eb&ssb=empty&top_ufis=1&rows=25&offset={}\"\n",
    "headers = {'User-Agent':'Mozilla/5.0 (Macintosh; Intel Mac OS X 10_11_2) AppleWebKit/601.3.9 (KHTML, like Gecko) Version/9.0.2 Safari/601.3.9'}\n",
    "\n",
    "\n",
    "# Empty Dictonary for storing \n",
    "\n",
    "scrape_dict = {\n",
    "    \"Name\" : [],\n",
    "    \"Place\" : [],\n",
    "    \"Rating Point\" : [],\n",
    "    \"Rating Category\" : [],\n",
    "    \"Number of Reviews\" : [],\n",
    "    \"Distance from Centre\" : [],\n",
    "    \"Description\" : [] }\n",
    "\n",
    "\n",
    "for num in range(0,976,25):\n",
    "    \n",
    "    # Request for the URL\n",
    "    page = requests.get(link.format(num), headers=headers)\n",
    "    # Make it a soup\n",
    "    soup = bs4.BeautifulSoup(page.text,\"lxml\")\n",
    "    \n",
    "    # Get the blocks\n",
    "    blocks = soup.select(\".sr_item_content.sr_item_content_slider_wrapper\")\n",
    "    \n",
    "    # For all the blocks\n",
    "    for block in blocks:\n",
    "        \n",
    "        # Get the details\n",
    "        name = block.select(\"a\")[0].select(\"span\")[0].getText().split(\"\\n\")[1]\n",
    "        place = block.select(\"a\")[1].getText().split(\"\\n\")[1]\n",
    "        try:\n",
    "            rating_num = block.select(\"a\")[2].getText().strip().split(\"\\n\")[0].rstrip().lstrip()\n",
    "            rating_value = block.select(\"a\")[2].getText().strip().split(\"\\n\")[1].rstrip().lstrip()\n",
    "            review = block.select(\"a\")[2].getText().strip().split(\"\\n\")[2].rstrip().lstrip()\n",
    "        except:\n",
    "            rating_num = 0\n",
    "            rating_value = 0\n",
    "            review = 0\n",
    "        center_distance = block.select(\".sr_card_address_line\")[0].getText().strip().split(\"\\n\")[-1].split()[0]\n",
    "        description = block.select(\".hotel_desc\")[0].getText().split(\"\\n\")[1]\n",
    "        \n",
    "        # Add the details\n",
    "        scrape_dict[\"Name\"].append(name)\n",
    "        scrape_dict[\"Place\"].append(place)\n",
    "        scrape_dict[\"Rating Point\"].append(rating_num)\n",
    "        scrape_dict[\"Rating Category\"].append(rating_value)\n",
    "        scrape_dict[\"Number of Reviews\"].append(review)\n",
    "        scrape_dict[\"Distance from Centre\"].append(center_distance)\n",
    "        scrape_dict[\"Description\"].append(description)\n",
    "\n",
    "df1 = pandas.DataFrame(scrape_dict)"
   ]
  },
  {
   "cell_type": "code",
   "execution_count": 150,
   "id": "1760db4d",
   "metadata": {},
   "outputs": [],
   "source": [
    "df1.drop_duplicates(subset=\"Name\",keep=False,inplace=True)"
   ]
  },
  {
   "cell_type": "code",
   "execution_count": 151,
   "id": "c2aeb57b",
   "metadata": {},
   "outputs": [
    {
     "data": {
      "text/plain": [
       "867"
      ]
     },
     "execution_count": 151,
     "metadata": {},
     "output_type": "execute_result"
    }
   ],
   "source": [
    "len(df1)"
   ]
  },
  {
   "cell_type": "code",
   "execution_count": null,
   "id": "5847150d",
   "metadata": {},
   "outputs": [],
   "source": []
  }
 ],
 "metadata": {
  "kernelspec": {
   "display_name": "Python 3",
   "language": "python",
   "name": "python3"
  },
  "language_info": {
   "codemirror_mode": {
    "name": "ipython",
    "version": 3
   },
   "file_extension": ".py",
   "mimetype": "text/x-python",
   "name": "python",
   "nbconvert_exporter": "python",
   "pygments_lexer": "ipython3",
   "version": "3.8.5"
  }
 },
 "nbformat": 4,
 "nbformat_minor": 5
}
