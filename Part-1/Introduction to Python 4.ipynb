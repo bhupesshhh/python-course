{
 "cells": [
  {
   "cell_type": "markdown",
   "id": "7d1e1889",
   "metadata": {},
   "source": [
    "# Introduction to Python 4\n",
    "\n",
    "Topics covered:\n",
    "\n",
    "* Object Oriented Programming\n",
    "* Create user defined objects with class\n",
    "* Class Object Attributes\n",
    "* Class Object Methods\n",
    "* Inheritence\n",
    "* Polymorphism (Optional)\n",
    "* Dunder Methods (Optional)\n",
    "* Small OOP Usage\n",
    "* Large OOP Usage\n",
    "\n",
    "**Minor Project 4**"
   ]
  },
  {
   "cell_type": "markdown",
   "id": "5830bc18",
   "metadata": {},
   "source": [
    "## 4.1 Object Oriented Programming\n",
    "\n",
    "- Allows to create different objects and relavant functions for those objects.\n",
    "\n",
    "- Helps to create resuable objects and code which is easy to organise."
   ]
  },
  {
   "cell_type": "markdown",
   "id": "38145093",
   "metadata": {},
   "source": [
    "**Syntax of Object Oriented Programming**\n",
    "\n",
    "`class` SomeClassName():\n",
    "    \n",
    "    def __init__(self,att1,att2):\n",
    "        self.att1 = att1\n",
    "        self.att2 = att2\n",
    "        \n",
    "    def some_method(self):\n",
    "        # Perform Some Action\n",
    "        return #something"
   ]
  },
  {
   "cell_type": "markdown",
   "id": "bf2bba27",
   "metadata": {},
   "source": [
    "1. objects and class are interchangable\n",
    "2. Use camel casing for the name\n",
    "3. Inside function called as method\n",
    "4. __init__ = A special Method\n",
    "5. att1 and att1 is attached with self (not to call some global variable)\n",
    "6. There can be more than one methods connected with class"
   ]
  },
  {
   "cell_type": "markdown",
   "id": "c3a2d892",
   "metadata": {},
   "source": [
    "## 4.2 Create user defined objects with `class`"
   ]
  },
  {
   "cell_type": "code",
   "execution_count": 1,
   "id": "ecff3d8e",
   "metadata": {},
   "outputs": [],
   "source": [
    "# Make an Example class\n",
    "class Example():\n",
    "    pass"
   ]
  },
  {
   "cell_type": "code",
   "execution_count": 2,
   "id": "027a5eee",
   "metadata": {},
   "outputs": [],
   "source": [
    "# Create an instance of Sample Class\n",
    "\n",
    "hello = Example()"
   ]
  },
  {
   "cell_type": "code",
   "execution_count": 3,
   "id": "838821cc",
   "metadata": {},
   "outputs": [
    {
     "data": {
      "text/plain": [
       "__main__.Example"
      ]
     },
     "execution_count": 3,
     "metadata": {},
     "output_type": "execute_result"
    }
   ],
   "source": [
    "# Check the type of our newly created object\n",
    "\n",
    "type(hello)"
   ]
  },
  {
   "cell_type": "code",
   "execution_count": null,
   "id": "41b556f8",
   "metadata": {},
   "outputs": [],
   "source": []
  },
  {
   "cell_type": "code",
   "execution_count": null,
   "id": "b17aedb5",
   "metadata": {},
   "outputs": [],
   "source": []
  },
  {
   "cell_type": "code",
   "execution_count": 4,
   "id": "0d58330e",
   "metadata": {},
   "outputs": [],
   "source": [
    "# Make a new Plant class with attributes\n",
    "class Plant():\n",
    "    \n",
    "    def __init__(self,species,colour):\n",
    "        self.species = species\n",
    "        self.colour = colour"
   ]
  },
  {
   "cell_type": "code",
   "execution_count": 5,
   "id": "df62b794",
   "metadata": {},
   "outputs": [
    {
     "ename": "TypeError",
     "evalue": "__init__() missing 2 required positional arguments: 'species' and 'colour'",
     "output_type": "error",
     "traceback": [
      "\u001b[0;31m---------------------------------------------------------------------------\u001b[0m",
      "\u001b[0;31mTypeError\u001b[0m                                 Traceback (most recent call last)",
      "\u001b[0;32m<ipython-input-5-6ffe246c0195>\u001b[0m in \u001b[0;36m<module>\u001b[0;34m\u001b[0m\n\u001b[0;32m----> 1\u001b[0;31m \u001b[0mmy_plant\u001b[0m \u001b[0;34m=\u001b[0m \u001b[0mPlant\u001b[0m\u001b[0;34m(\u001b[0m\u001b[0;34m)\u001b[0m\u001b[0;34m\u001b[0m\u001b[0;34m\u001b[0m\u001b[0m\n\u001b[0m",
      "\u001b[0;31mTypeError\u001b[0m: __init__() missing 2 required positional arguments: 'species' and 'colour'"
     ]
    }
   ],
   "source": [
    "my_plant = Plant()"
   ]
  },
  {
   "cell_type": "code",
   "execution_count": null,
   "id": "28ffcfbc",
   "metadata": {},
   "outputs": [],
   "source": [
    "my_plant = Plant(\"ficus\",\"red\")"
   ]
  },
  {
   "cell_type": "code",
   "execution_count": null,
   "id": "9fa70882",
   "metadata": {},
   "outputs": [],
   "source": [
    "my_plant.species"
   ]
  },
  {
   "cell_type": "code",
   "execution_count": null,
   "id": "068e1c5f",
   "metadata": {},
   "outputs": [],
   "source": [
    "my_plant.colour"
   ]
  },
  {
   "cell_type": "markdown",
   "id": "24fdda0a",
   "metadata": {},
   "source": [
    "**Note:** \n",
    "\n",
    "* `__init__` can be said as constructor for a class. It automatically calls upon when an instance is created.\n",
    "* `self` is repesents the instance of the objcet itself. Other OOP langugaes also use it but its hidden but not for python. `self` is used by convention. We can use anything we would like but that may not be good for others."
   ]
  },
  {
   "cell_type": "code",
   "execution_count": null,
   "id": "1d3eaafb",
   "metadata": {},
   "outputs": [],
   "source": [
    "# Make an Example class\n",
    "class Example():\n",
    "    \n",
    "    def __init__(line,mycolour):\n",
    "        \n",
    "        # For attribute\n",
    "        \n",
    "        # Taking an argument\n",
    "        # Assigning the argument with line.attribute (self.attribute)\n",
    "        line.attribute = mycolour "
   ]
  },
  {
   "cell_type": "code",
   "execution_count": null,
   "id": "517ac863",
   "metadata": {},
   "outputs": [],
   "source": [
    "example_name = Example(\"Blue\")"
   ]
  },
  {
   "cell_type": "code",
   "execution_count": null,
   "id": "a7ffb969",
   "metadata": {},
   "outputs": [],
   "source": [
    "example_name.attribute"
   ]
  },
  {
   "cell_type": "code",
   "execution_count": null,
   "id": "f5fa56a4",
   "metadata": {},
   "outputs": [],
   "source": []
  },
  {
   "cell_type": "code",
   "execution_count": null,
   "id": "929fe161",
   "metadata": {},
   "outputs": [],
   "source": [
    "# Make an Example class as per Python Convention\n",
    "class Example():\n",
    "    \n",
    "    def __init__(self,name,age,colour,student):\n",
    "        # Expects String\n",
    "        self.name = name\n",
    "        # Expects Integer\n",
    "        self.age = age\n",
    "        # Expects String\n",
    "        self.colour = colour\n",
    "        # Expects Boolean\n",
    "        self.student = student"
   ]
  },
  {
   "cell_type": "code",
   "execution_count": null,
   "id": "ae06f4c3",
   "metadata": {},
   "outputs": [],
   "source": [
    "my_bio = Example(name=\"Bhupesh\",age=24,colour=\"Blue\",student=True)"
   ]
  },
  {
   "cell_type": "code",
   "execution_count": null,
   "id": "4df825fa",
   "metadata": {},
   "outputs": [],
   "source": [
    "my_bio.name"
   ]
  },
  {
   "cell_type": "code",
   "execution_count": null,
   "id": "efaf9cb6",
   "metadata": {},
   "outputs": [],
   "source": [
    "my_bio.age"
   ]
  },
  {
   "cell_type": "code",
   "execution_count": null,
   "id": "d26e4092",
   "metadata": {},
   "outputs": [],
   "source": [
    "my_bio.colour"
   ]
  },
  {
   "cell_type": "code",
   "execution_count": null,
   "id": "5d62e695",
   "metadata": {},
   "outputs": [],
   "source": [
    "my_bio.student"
   ]
  },
  {
   "cell_type": "code",
   "execution_count": null,
   "id": "fcc26e75",
   "metadata": {},
   "outputs": [],
   "source": [
    "type(my_bio)"
   ]
  },
  {
   "cell_type": "code",
   "execution_count": null,
   "id": "254117f7",
   "metadata": {},
   "outputs": [],
   "source": []
  },
  {
   "cell_type": "code",
   "execution_count": null,
   "id": "637ec1b9",
   "metadata": {},
   "outputs": [],
   "source": []
  },
  {
   "cell_type": "markdown",
   "id": "2569e848",
   "metadata": {},
   "source": [
    "## 4.3 Class Object Attributes"
   ]
  },
  {
   "cell_type": "code",
   "execution_count": null,
   "id": "e80ef75d",
   "metadata": {},
   "outputs": [],
   "source": [
    "# Make an Example class as per Python Convention\n",
    "class Person():\n",
    "    \n",
    "    #Class Object Attribute (Same for all)\n",
    "    species = \"mammal\"\n",
    "    scientific_name = \"homo sapiens\"\n",
    "    \n",
    "    def __init__(self,name,age,colour,student):\n",
    "        # Expects String\n",
    "        self.name = name\n",
    "        # Expects Integer\n",
    "        self.age = age\n",
    "        # Expects String\n",
    "        self.colour = colour\n",
    "        # Expects Boolean\n",
    "        self.student = student"
   ]
  },
  {
   "cell_type": "code",
   "execution_count": null,
   "id": "7cde12de",
   "metadata": {},
   "outputs": [],
   "source": [
    "my_bio = Person(name=\"Ankush\",age=23,colour=\"red\",student=False)"
   ]
  },
  {
   "cell_type": "code",
   "execution_count": null,
   "id": "99314759",
   "metadata": {},
   "outputs": [],
   "source": [
    "my_bio.scientific_name"
   ]
  },
  {
   "cell_type": "code",
   "execution_count": null,
   "id": "b769fbe4",
   "metadata": {},
   "outputs": [],
   "source": [
    "my_bio.species"
   ]
  },
  {
   "cell_type": "code",
   "execution_count": null,
   "id": "b24bac31",
   "metadata": {},
   "outputs": [],
   "source": []
  },
  {
   "cell_type": "code",
   "execution_count": null,
   "id": "75314a77",
   "metadata": {},
   "outputs": [],
   "source": []
  },
  {
   "cell_type": "markdown",
   "id": "aa62e631",
   "metadata": {},
   "source": [
    "## 4.4 Class Object Methods\n",
    "\n",
    "Difference between method and function ?\n",
    "- Method is a function inside a class.\n",
    "\n",
    "Difference between attributes and methods ?\n",
    "- With the way we call them:\n",
    "    - 1. Attributes is called without `()` cause its just a callback\n",
    "    - 2. Methods are called with `()` and any varible inside if needed. Beacuse they needs to be executed.\n",
    " "
   ]
  },
  {
   "cell_type": "code",
   "execution_count": 6,
   "id": "3b875281",
   "metadata": {},
   "outputs": [],
   "source": [
    "class Rectangle():\n",
    "    \n",
    "    # Class Object Attributes\n",
    "    vertices = 4\n",
    "    sides = 4\n",
    "    \n",
    "    # Inititaion of the Rectangle Class instances\n",
    "    def __init__(self,length=1,breadth=1):\n",
    "        self.length = length\n",
    "        self.breadth = breadth\n",
    "        self.area = length*breadth\n",
    "        self.perimeter = 2*(length+breadth)\n",
    "    \n",
    "    # Method to update its length\n",
    "    def update_length(self,number):\n",
    "        self.length = number\n",
    "        return self.length\n",
    "    \n",
    "    # Update to update its breadth\n",
    "    def update_breadth(self,number):\n",
    "        self.breadth = number\n",
    "        return self.breadth\n",
    "    \n",
    "    # Method to show a pictorial representaion of the rectangle\n",
    "    def show_rectangle(self,marker):\n",
    "        print(((f\"{marker}\"*self.length)+\"\\n\")*self.breadth)"
   ]
  },
  {
   "cell_type": "code",
   "execution_count": 7,
   "id": "69cb4639",
   "metadata": {},
   "outputs": [],
   "source": [
    "my_square = Rectangle(length=5, breadth=3)"
   ]
  },
  {
   "cell_type": "code",
   "execution_count": 8,
   "id": "ae7ed08e",
   "metadata": {},
   "outputs": [
    {
     "name": "stdout",
     "output_type": "stream",
     "text": [
      "BBBBB\n",
      "BBBBB\n",
      "BBBBB\n",
      "\n"
     ]
    }
   ],
   "source": [
    "my_square.show_rectangle(\"B\")"
   ]
  },
  {
   "cell_type": "code",
   "execution_count": 9,
   "id": "98fbc0ec",
   "metadata": {},
   "outputs": [
    {
     "data": {
      "text/plain": [
       "15"
      ]
     },
     "execution_count": 9,
     "metadata": {},
     "output_type": "execute_result"
    }
   ],
   "source": [
    "my_square.area"
   ]
  },
  {
   "cell_type": "code",
   "execution_count": 10,
   "id": "912b75ba",
   "metadata": {},
   "outputs": [
    {
     "data": {
      "text/plain": [
       "16"
      ]
     },
     "execution_count": 10,
     "metadata": {},
     "output_type": "execute_result"
    }
   ],
   "source": [
    "my_square.perimeter"
   ]
  },
  {
   "cell_type": "code",
   "execution_count": 11,
   "id": "e12f8b95",
   "metadata": {},
   "outputs": [
    {
     "data": {
      "text/plain": [
       "10"
      ]
     },
     "execution_count": 11,
     "metadata": {},
     "output_type": "execute_result"
    }
   ],
   "source": [
    "my_square.update_breadth(10)"
   ]
  },
  {
   "cell_type": "code",
   "execution_count": 12,
   "id": "fdfe076f",
   "metadata": {},
   "outputs": [
    {
     "data": {
      "text/plain": [
       "10"
      ]
     },
     "execution_count": 12,
     "metadata": {},
     "output_type": "execute_result"
    }
   ],
   "source": [
    "my_square.breadth"
   ]
  },
  {
   "cell_type": "code",
   "execution_count": 13,
   "id": "be4d608b",
   "metadata": {},
   "outputs": [
    {
     "name": "stdout",
     "output_type": "stream",
     "text": [
      "%%%%%\n",
      "%%%%%\n",
      "%%%%%\n",
      "%%%%%\n",
      "%%%%%\n",
      "%%%%%\n",
      "%%%%%\n",
      "%%%%%\n",
      "%%%%%\n",
      "%%%%%\n",
      "\n"
     ]
    }
   ],
   "source": [
    "my_square.show_rectangle(\"%\")"
   ]
  },
  {
   "cell_type": "code",
   "execution_count": 14,
   "id": "1d1d237f",
   "metadata": {},
   "outputs": [
    {
     "data": {
      "text/plain": [
       "15"
      ]
     },
     "execution_count": 14,
     "metadata": {},
     "output_type": "execute_result"
    }
   ],
   "source": [
    "my_square.update_length(15)"
   ]
  },
  {
   "cell_type": "code",
   "execution_count": 15,
   "id": "88080267",
   "metadata": {},
   "outputs": [
    {
     "name": "stdout",
     "output_type": "stream",
     "text": [
      "%%%%%%%%%%%%%%%\n",
      "%%%%%%%%%%%%%%%\n",
      "%%%%%%%%%%%%%%%\n",
      "%%%%%%%%%%%%%%%\n",
      "%%%%%%%%%%%%%%%\n",
      "%%%%%%%%%%%%%%%\n",
      "%%%%%%%%%%%%%%%\n",
      "%%%%%%%%%%%%%%%\n",
      "%%%%%%%%%%%%%%%\n",
      "%%%%%%%%%%%%%%%\n",
      "\n"
     ]
    }
   ],
   "source": [
    "my_square.show_rectangle(\"%\")"
   ]
  },
  {
   "cell_type": "code",
   "execution_count": null,
   "id": "95e13f84",
   "metadata": {},
   "outputs": [],
   "source": []
  },
  {
   "cell_type": "code",
   "execution_count": null,
   "id": "a0d4f674",
   "metadata": {},
   "outputs": [],
   "source": []
  },
  {
   "cell_type": "markdown",
   "id": "80065b27",
   "metadata": {},
   "source": [
    "## 4.5 Inheritence\n",
    "\n",
    "It's a way to make new classes with the classes that has been already defined for us.\n",
    "\n",
    "Why its good ?\n",
    "- Ability to reuse code that has already been written.\n",
    "- To reduce the complexity of the code."
   ]
  },
  {
   "cell_type": "code",
   "execution_count": 16,
   "id": "c442b8a7",
   "metadata": {},
   "outputs": [],
   "source": [
    "# Make a new class\n",
    "\n",
    "class Phone():\n",
    "    \n",
    "    # Initiation\n",
    "    def __init__(self):\n",
    "        print(\"A new Phone created!\")\n",
    "        \n",
    "    # A method\n",
    "    def who_am_i(self):\n",
    "        print(\"This is a phone.\")\n",
    "    \n",
    "    # A method\n",
    "    def am_i_electronic(self):\n",
    "        print(\"I am an electronic product.\")"
   ]
  },
  {
   "cell_type": "code",
   "execution_count": 17,
   "id": "2d2eb15d",
   "metadata": {},
   "outputs": [
    {
     "name": "stdout",
     "output_type": "stream",
     "text": [
      "A new Phone created!\n"
     ]
    }
   ],
   "source": [
    "my_phone = Phone()"
   ]
  },
  {
   "cell_type": "code",
   "execution_count": 18,
   "id": "93428d2a",
   "metadata": {},
   "outputs": [
    {
     "name": "stdout",
     "output_type": "stream",
     "text": [
      "I am an electronic product.\n"
     ]
    }
   ],
   "source": [
    "my_phone.am_i_electronic()"
   ]
  },
  {
   "cell_type": "code",
   "execution_count": 19,
   "id": "cb4967b5",
   "metadata": {},
   "outputs": [
    {
     "name": "stdout",
     "output_type": "stream",
     "text": [
      "This is a phone.\n"
     ]
    }
   ],
   "source": [
    "my_phone.who_am_i()"
   ]
  },
  {
   "cell_type": "markdown",
   "id": "8d463b96",
   "metadata": {},
   "source": [
    "**Note:** This can be considered as a base class which can be used by the new classes that are formed."
   ]
  },
  {
   "cell_type": "code",
   "execution_count": 20,
   "id": "92c7583d",
   "metadata": {},
   "outputs": [],
   "source": [
    "# Make new class that use the Phone class\n",
    "\n",
    "class Nokia(Phone):\n",
    "    \n",
    "    def __init__(self):\n",
    "        Phone.__init__(self)\n",
    "        print(\"Nokia phone created!\")\n",
    "        \n",
    "    # We can overwrite some methods if we like\n",
    "    def who_am_i(self):\n",
    "        print(\"This is a Nokia phone.\")\n",
    "        \n",
    "    # We can add more methods in this\n",
    "    def tagline(self):\n",
    "        print(\"Connecting People\")"
   ]
  },
  {
   "cell_type": "code",
   "execution_count": 21,
   "id": "7daaf5e3",
   "metadata": {},
   "outputs": [
    {
     "name": "stdout",
     "output_type": "stream",
     "text": [
      "A new Phone created!\n",
      "Nokia phone created!\n"
     ]
    }
   ],
   "source": [
    "# Now we have inherited the methods of the base class\n",
    "\n",
    "my_new_phone = Nokia()"
   ]
  },
  {
   "cell_type": "code",
   "execution_count": 22,
   "id": "ff3e09c6",
   "metadata": {},
   "outputs": [
    {
     "name": "stdout",
     "output_type": "stream",
     "text": [
      "I am an electronic product.\n"
     ]
    }
   ],
   "source": [
    "my_new_phone.am_i_electronic()"
   ]
  },
  {
   "cell_type": "code",
   "execution_count": 23,
   "id": "a9ef4746",
   "metadata": {},
   "outputs": [
    {
     "name": "stdout",
     "output_type": "stream",
     "text": [
      "This is a Nokia phone.\n"
     ]
    }
   ],
   "source": [
    "my_new_phone.who_am_i()"
   ]
  },
  {
   "cell_type": "markdown",
   "id": "b57c5938",
   "metadata": {},
   "source": [
    "**Note:** No we can use the old methods with a new class. As well as the new methods"
   ]
  },
  {
   "cell_type": "code",
   "execution_count": 24,
   "id": "60aafdd9",
   "metadata": {},
   "outputs": [
    {
     "name": "stdout",
     "output_type": "stream",
     "text": [
      "Connecting People\n"
     ]
    }
   ],
   "source": [
    "my_new_phone.tagline()"
   ]
  },
  {
   "cell_type": "code",
   "execution_count": null,
   "id": "d9a10b79",
   "metadata": {},
   "outputs": [],
   "source": []
  },
  {
   "cell_type": "code",
   "execution_count": null,
   "id": "ae951a35",
   "metadata": {},
   "outputs": [],
   "source": []
  },
  {
   "cell_type": "markdown",
   "id": "68f30772",
   "metadata": {},
   "source": [
    "## 4.6 Polymorphism\n",
    "\n",
    "Same method can be called for different class objects."
   ]
  },
  {
   "cell_type": "code",
   "execution_count": 25,
   "id": "e9f0caf1",
   "metadata": {},
   "outputs": [],
   "source": [
    "class Box():\n",
    "    \n",
    "    def __init__(self,name):\n",
    "        self.name = name\n",
    "        \n",
    "    def characteristics(self):\n",
    "        return self.name + \" has square shape.\""
   ]
  },
  {
   "cell_type": "code",
   "execution_count": 26,
   "id": "21c33781",
   "metadata": {},
   "outputs": [],
   "source": [
    "class Sphere():\n",
    "    \n",
    "    def __init__(self,name):\n",
    "        self.name = name\n",
    "        \n",
    "    def characteristics(self):\n",
    "        return self.name + \" has circle shape.\""
   ]
  },
  {
   "cell_type": "code",
   "execution_count": 27,
   "id": "34de6dd4",
   "metadata": {},
   "outputs": [],
   "source": [
    "cuboid = Box(\"cuboid\")"
   ]
  },
  {
   "cell_type": "code",
   "execution_count": 28,
   "id": "fd13bc54",
   "metadata": {},
   "outputs": [],
   "source": [
    "ball = Sphere(\"ball\")"
   ]
  },
  {
   "cell_type": "code",
   "execution_count": 29,
   "id": "528c9f08",
   "metadata": {},
   "outputs": [
    {
     "data": {
      "text/plain": [
       "'cuboid has square shape.'"
      ]
     },
     "execution_count": 29,
     "metadata": {},
     "output_type": "execute_result"
    }
   ],
   "source": [
    "cuboid.characteristics()"
   ]
  },
  {
   "cell_type": "code",
   "execution_count": 30,
   "id": "3173afca",
   "metadata": {},
   "outputs": [
    {
     "data": {
      "text/plain": [
       "'ball has circle shape.'"
      ]
     },
     "execution_count": 30,
     "metadata": {},
     "output_type": "execute_result"
    }
   ],
   "source": [
    "ball.characteristics()"
   ]
  },
  {
   "cell_type": "code",
   "execution_count": 31,
   "id": "7b76d78b",
   "metadata": {},
   "outputs": [],
   "source": [
    "# Here we have two distinct objects but with same function name"
   ]
  },
  {
   "cell_type": "code",
   "execution_count": 32,
   "id": "d0071eaf",
   "metadata": {},
   "outputs": [
    {
     "name": "stdout",
     "output_type": "stream",
     "text": [
      "<class '__main__.Sphere'>\n",
      "ball has circle shape.\n",
      "<class '__main__.Box'>\n",
      "cuboid has square shape.\n"
     ]
    }
   ],
   "source": [
    "# To show polymorphism\n",
    "\n",
    "for shape in [ball,cuboid]:\n",
    "    print(type(shape)) # To show the object type\n",
    "    print(shape.characteristics()) # To show the function"
   ]
  },
  {
   "cell_type": "code",
   "execution_count": 33,
   "id": "c0cd0a14",
   "metadata": {},
   "outputs": [],
   "source": [
    "# Another way\n",
    "\n",
    "def shape_characteristics(shape):\n",
    "    print(shape.characteristics())"
   ]
  },
  {
   "cell_type": "code",
   "execution_count": 34,
   "id": "28269b11",
   "metadata": {},
   "outputs": [
    {
     "name": "stdout",
     "output_type": "stream",
     "text": [
      "ball has circle shape.\n"
     ]
    }
   ],
   "source": [
    "shape_characteristics(ball)"
   ]
  },
  {
   "cell_type": "code",
   "execution_count": 35,
   "id": "d7c067e3",
   "metadata": {},
   "outputs": [
    {
     "name": "stdout",
     "output_type": "stream",
     "text": [
      "cuboid has square shape.\n"
     ]
    }
   ],
   "source": [
    "shape_characteristics(cuboid)"
   ]
  },
  {
   "cell_type": "markdown",
   "id": "09b88000",
   "metadata": {},
   "source": [
    "### Polymorphism with Abstract class and Inheritance"
   ]
  },
  {
   "cell_type": "code",
   "execution_count": 36,
   "id": "df0a1a8b",
   "metadata": {},
   "outputs": [],
   "source": [
    "class Shape():\n",
    "    \n",
    "    def __init__(self,name):\n",
    "        self.name = name\n",
    "        \n",
    "    def characteristics(self):\n",
    "        raise NotImplementedError(\"Subclass must use this function\")"
   ]
  },
  {
   "cell_type": "code",
   "execution_count": 37,
   "id": "50f81f44",
   "metadata": {},
   "outputs": [],
   "source": [
    "aaa = Shape(\"aaa\")"
   ]
  },
  {
   "cell_type": "code",
   "execution_count": 38,
   "id": "fb8b72a4",
   "metadata": {},
   "outputs": [
    {
     "ename": "NotImplementedError",
     "evalue": "Subclass must use this function",
     "output_type": "error",
     "traceback": [
      "\u001b[0;31m---------------------------------------------------------------------------\u001b[0m",
      "\u001b[0;31mNotImplementedError\u001b[0m                       Traceback (most recent call last)",
      "\u001b[0;32m<ipython-input-38-d9f0e47fb3ac>\u001b[0m in \u001b[0;36m<module>\u001b[0;34m\u001b[0m\n\u001b[0;32m----> 1\u001b[0;31m \u001b[0maaa\u001b[0m\u001b[0;34m.\u001b[0m\u001b[0mcharacteristics\u001b[0m\u001b[0;34m(\u001b[0m\u001b[0;34m)\u001b[0m \u001b[0;31m# As we not intended to use this class on its own\u001b[0m\u001b[0;34m\u001b[0m\u001b[0;34m\u001b[0m\u001b[0m\n\u001b[0m",
      "\u001b[0;32m<ipython-input-36-61104b5160ad>\u001b[0m in \u001b[0;36mcharacteristics\u001b[0;34m(self)\u001b[0m\n\u001b[1;32m      5\u001b[0m \u001b[0;34m\u001b[0m\u001b[0m\n\u001b[1;32m      6\u001b[0m     \u001b[0;32mdef\u001b[0m \u001b[0mcharacteristics\u001b[0m\u001b[0;34m(\u001b[0m\u001b[0mself\u001b[0m\u001b[0;34m)\u001b[0m\u001b[0;34m:\u001b[0m\u001b[0;34m\u001b[0m\u001b[0;34m\u001b[0m\u001b[0m\n\u001b[0;32m----> 7\u001b[0;31m         \u001b[0;32mraise\u001b[0m \u001b[0mNotImplementedError\u001b[0m\u001b[0;34m(\u001b[0m\u001b[0;34m\"Subclass must use this function\"\u001b[0m\u001b[0;34m)\u001b[0m\u001b[0;34m\u001b[0m\u001b[0;34m\u001b[0m\u001b[0m\n\u001b[0m",
      "\u001b[0;31mNotImplementedError\u001b[0m: Subclass must use this function"
     ]
    }
   ],
   "source": [
    "aaa.characteristics() # As we not intended to use this class on its own"
   ]
  },
  {
   "cell_type": "code",
   "execution_count": 39,
   "id": "5f2d9021",
   "metadata": {},
   "outputs": [],
   "source": [
    "class Box(Shape):\n",
    "        \n",
    "    def characteristics(self):\n",
    "        return self.name + \" has square shape.\""
   ]
  },
  {
   "cell_type": "code",
   "execution_count": 40,
   "id": "5680caf6",
   "metadata": {},
   "outputs": [],
   "source": [
    "class Sphere(Shape):\n",
    "        \n",
    "    def characteristics(self):\n",
    "        return self.name + \" has circle shape.\""
   ]
  },
  {
   "cell_type": "code",
   "execution_count": 41,
   "id": "71bae8ab",
   "metadata": {},
   "outputs": [],
   "source": [
    "box = Box(\"box\")"
   ]
  },
  {
   "cell_type": "code",
   "execution_count": 42,
   "id": "a476415b",
   "metadata": {},
   "outputs": [
    {
     "data": {
      "text/plain": [
       "'box has square shape.'"
      ]
     },
     "execution_count": 42,
     "metadata": {},
     "output_type": "execute_result"
    }
   ],
   "source": [
    "box.characteristics()"
   ]
  },
  {
   "cell_type": "code",
   "execution_count": 43,
   "id": "5a9ddea8",
   "metadata": {},
   "outputs": [],
   "source": [
    "sphere = Sphere(\"sphere\")"
   ]
  },
  {
   "cell_type": "code",
   "execution_count": 44,
   "id": "36e24d5c",
   "metadata": {},
   "outputs": [
    {
     "data": {
      "text/plain": [
       "'sphere has circle shape.'"
      ]
     },
     "execution_count": 44,
     "metadata": {},
     "output_type": "execute_result"
    }
   ],
   "source": [
    "sphere.characteristics()"
   ]
  },
  {
   "cell_type": "code",
   "execution_count": null,
   "id": "df4c9d2b",
   "metadata": {},
   "outputs": [],
   "source": []
  },
  {
   "cell_type": "code",
   "execution_count": null,
   "id": "cf6c109f",
   "metadata": {},
   "outputs": [],
   "source": []
  },
  {
   "cell_type": "markdown",
   "id": "ae540721",
   "metadata": {},
   "source": [
    "## 4.7 Special Methods (Dunder Methods)"
   ]
  },
  {
   "cell_type": "code",
   "execution_count": 45,
   "id": "140c4e69",
   "metadata": {},
   "outputs": [],
   "source": [
    "# We'll start with the example class\n",
    "class Example():\n",
    "    \n",
    "    def __init__(self,name):\n",
    "        self.name = name"
   ]
  },
  {
   "cell_type": "code",
   "execution_count": 46,
   "id": "a97d4dd9",
   "metadata": {},
   "outputs": [],
   "source": [
    "something = Example(\"something\")"
   ]
  },
  {
   "cell_type": "code",
   "execution_count": 47,
   "id": "7a5c6931",
   "metadata": {},
   "outputs": [
    {
     "ename": "TypeError",
     "evalue": "object of type 'Example' has no len()",
     "output_type": "error",
     "traceback": [
      "\u001b[0;31m---------------------------------------------------------------------------\u001b[0m",
      "\u001b[0;31mTypeError\u001b[0m                                 Traceback (most recent call last)",
      "\u001b[0;32m<ipython-input-47-1609eaa869b6>\u001b[0m in \u001b[0;36m<module>\u001b[0;34m\u001b[0m\n\u001b[1;32m      1\u001b[0m \u001b[0;31m# What is we want to know the length of the newly created object\u001b[0m\u001b[0;34m\u001b[0m\u001b[0;34m\u001b[0m\u001b[0;34m\u001b[0m\u001b[0m\n\u001b[1;32m      2\u001b[0m \u001b[0;34m\u001b[0m\u001b[0m\n\u001b[0;32m----> 3\u001b[0;31m \u001b[0mlen\u001b[0m\u001b[0;34m(\u001b[0m\u001b[0msomething\u001b[0m\u001b[0;34m)\u001b[0m\u001b[0;34m\u001b[0m\u001b[0;34m\u001b[0m\u001b[0m\n\u001b[0m",
      "\u001b[0;31mTypeError\u001b[0m: object of type 'Example' has no len()"
     ]
    }
   ],
   "source": [
    "# What is we want to know the length of the newly created object\n",
    "\n",
    "len(something)"
   ]
  },
  {
   "cell_type": "code",
   "execution_count": null,
   "id": "abaf42de",
   "metadata": {},
   "outputs": [],
   "source": [
    "# What if we want to print the newly created object\n",
    "\n",
    "print(something)"
   ]
  },
  {
   "cell_type": "code",
   "execution_count": null,
   "id": "c292b81c",
   "metadata": {},
   "outputs": [],
   "source": [
    "# We don't get something positive out of if like\n",
    "\n",
    "print([1,2,3])"
   ]
  },
  {
   "cell_type": "code",
   "execution_count": null,
   "id": "1a64028d",
   "metadata": {},
   "outputs": [],
   "source": [
    "len([1,2,3])"
   ]
  },
  {
   "cell_type": "code",
   "execution_count": null,
   "id": "5031b294",
   "metadata": {},
   "outputs": [],
   "source": [
    "# To use the built in Python Function we have incorporate it inside the class with the help of special methods"
   ]
  },
  {
   "cell_type": "code",
   "execution_count": 48,
   "id": "7e96aed4",
   "metadata": {},
   "outputs": [],
   "source": [
    "class Song():\n",
    "    \n",
    "    def __init__(self,name,artist,album,tracklength):\n",
    "        self.name = name\n",
    "        self.artist = artist\n",
    "        self.album = album\n",
    "        self.tracklength = tracklength\n",
    "        \n",
    "    def __str__(self):\n",
    "        return f\"`{self.name}` is from `{self.album}` album and is sung by `{self.artist}`.\"\n",
    "    \n",
    "    def __len__(self):\n",
    "        return self.tracklength\n",
    "    \n",
    "    def __del__(self):\n",
    "        print(\"This song got deleted from the record and memeory\")"
   ]
  },
  {
   "cell_type": "code",
   "execution_count": 49,
   "id": "2d447c45",
   "metadata": {},
   "outputs": [],
   "source": [
    "my_song = Song(name=\"Love Song\",artist=\"Hasley\",album=\"No One\",tracklength=5)"
   ]
  },
  {
   "cell_type": "code",
   "execution_count": 50,
   "id": "ab13c38e",
   "metadata": {},
   "outputs": [
    {
     "name": "stdout",
     "output_type": "stream",
     "text": [
      "`Love Song` is from `No One` album and is sung by `Hasley`.\n"
     ]
    }
   ],
   "source": [
    "print(my_song)"
   ]
  },
  {
   "cell_type": "code",
   "execution_count": 51,
   "id": "7beae83f",
   "metadata": {},
   "outputs": [
    {
     "data": {
      "text/plain": [
       "5"
      ]
     },
     "execution_count": 51,
     "metadata": {},
     "output_type": "execute_result"
    }
   ],
   "source": [
    "len(my_song)"
   ]
  },
  {
   "cell_type": "code",
   "execution_count": 52,
   "id": "98ac173f",
   "metadata": {},
   "outputs": [
    {
     "name": "stdout",
     "output_type": "stream",
     "text": [
      "This song got deleted from the record and memeory\n"
     ]
    }
   ],
   "source": [
    "# To delete the object created \n",
    "\n",
    "del my_song"
   ]
  },
  {
   "cell_type": "code",
   "execution_count": 54,
   "id": "bac54398",
   "metadata": {},
   "outputs": [
    {
     "ename": "NameError",
     "evalue": "name 'my_song' is not defined",
     "output_type": "error",
     "traceback": [
      "\u001b[0;31m---------------------------------------------------------------------------\u001b[0m",
      "\u001b[0;31mNameError\u001b[0m                                 Traceback (most recent call last)",
      "\u001b[0;32m<ipython-input-54-581ed9280fbf>\u001b[0m in \u001b[0;36m<module>\u001b[0;34m\u001b[0m\n\u001b[0;32m----> 1\u001b[0;31m \u001b[0mmy_song\u001b[0m\u001b[0;34m\u001b[0m\u001b[0;34m\u001b[0m\u001b[0m\n\u001b[0m",
      "\u001b[0;31mNameError\u001b[0m: name 'my_song' is not defined"
     ]
    }
   ],
   "source": [
    "my_song"
   ]
  },
  {
   "cell_type": "markdown",
   "id": "17c4289a",
   "metadata": {},
   "source": [
    "## 4.8 Small example of Use of OOP"
   ]
  },
  {
   "cell_type": "code",
   "execution_count": null,
   "id": "f9e6aba5",
   "metadata": {},
   "outputs": [],
   "source": [
    "# Cylinder Class"
   ]
  },
  {
   "cell_type": "code",
   "execution_count": 55,
   "id": "e859beb2",
   "metadata": {},
   "outputs": [],
   "source": [
    "class Cylinder:\n",
    "    \n",
    "    # Class Object Attributes\n",
    "    pi = 3.14\n",
    "    \n",
    "    # Initiation of the class\n",
    "    def __init__(self,height=1,radius=1):\n",
    "        #Arrtibutes\n",
    "        self.height = height\n",
    "        self.radius = radius\n",
    "    \n",
    "    # Method to show the volume of the cylinder\n",
    "    def volume(self):\n",
    "        return Cylinder.pi*self.height*self.radius**2\n",
    "    \n",
    "    # Method to show the surface area of the cylinder\n",
    "    def surface_area(self):\n",
    "        return 2*Cylinder.pi*self.radius*self.height\n",
    "\n",
    "    # Method to show the total surface area of the cylinder\n",
    "    def total_surface_area(self):\n",
    "        return 2*Cylinder.pi*self.radius*self.height + 2*Cylinder.pi*self.radius**2\n",
    "    \n",
    "    # For str print\n",
    "    def __str__(self):\n",
    "        return f\"Cylinder with {self.height} height and {self.radius} radius.\""
   ]
  },
  {
   "cell_type": "code",
   "execution_count": 56,
   "id": "dece885d",
   "metadata": {},
   "outputs": [],
   "source": [
    "cyl = Cylinder(5,15)"
   ]
  },
  {
   "cell_type": "code",
   "execution_count": 57,
   "id": "a341beba",
   "metadata": {},
   "outputs": [
    {
     "data": {
      "text/plain": [
       "3.14"
      ]
     },
     "execution_count": 57,
     "metadata": {},
     "output_type": "execute_result"
    }
   ],
   "source": [
    "cyl.pi"
   ]
  },
  {
   "cell_type": "code",
   "execution_count": 58,
   "id": "f9da79ea",
   "metadata": {},
   "outputs": [
    {
     "data": {
      "text/plain": [
       "471.0"
      ]
     },
     "execution_count": 58,
     "metadata": {},
     "output_type": "execute_result"
    }
   ],
   "source": [
    "cyl.surface_area()"
   ]
  },
  {
   "cell_type": "code",
   "execution_count": 59,
   "id": "9978618c",
   "metadata": {},
   "outputs": [
    {
     "name": "stdout",
     "output_type": "stream",
     "text": [
      "Cylinder with 5 height and 15 radius.\n"
     ]
    }
   ],
   "source": [
    "print(cyl)"
   ]
  },
  {
   "cell_type": "code",
   "execution_count": null,
   "id": "40a426c6",
   "metadata": {},
   "outputs": [],
   "source": []
  },
  {
   "cell_type": "code",
   "execution_count": null,
   "id": "6ec86777",
   "metadata": {},
   "outputs": [],
   "source": []
  },
  {
   "cell_type": "markdown",
   "id": "b5deecc1",
   "metadata": {},
   "source": [
    "## 4.9 Big example of Use of OOP\n",
    "\n",
    "Create a bank account class with \n",
    "\n",
    "1. Two attributes:\n",
    "    - owner\n",
    "    - balance\n",
    "\n",
    "2. Two methods:\n",
    "    - deposit\n",
    "    - withdraw\n",
    "\n",
    "**Note**: Withdrawals may not exceed the available balance."
   ]
  },
  {
   "cell_type": "code",
   "execution_count": 60,
   "id": "8266b629",
   "metadata": {},
   "outputs": [],
   "source": [
    "class Account():\n",
    "    \n",
    "    def __init__(self,owner,balance):\n",
    "        self.owner = owner\n",
    "        self.balance = balance\n",
    "        print(f\"Account Owner:    {self.owner}\")\n",
    "        print(f\"Account Balance: ${self.balance:6.2f}\")\n",
    "        \n",
    "    def deposit(self,money):\n",
    "        self.balance = self.balance + money\n",
    "        print(\"Deposit Accepted\")\n",
    "        print(\"${} is added to your account\".format(money))\n",
    "        \n",
    "    def withdraw(self,money):\n",
    "        if money<=self.balance:\n",
    "            self.balance = self.balance - money\n",
    "            print('Withdrawl Accepted')\n",
    "            print(\"${} is withdrawled from your account\".format(money))\n",
    "        else:\n",
    "            print('Funds Unavailable!')\n",
    "    \n",
    "    # Special Methods    \n",
    "    def __str__(self):\n",
    "        return f\"Account Owner:    {self.owner}\\nAccount Balance: ${self.balance:6.2f}\""
   ]
  },
  {
   "cell_type": "code",
   "execution_count": 61,
   "id": "fee38f49",
   "metadata": {},
   "outputs": [
    {
     "name": "stdout",
     "output_type": "stream",
     "text": [
      "Account Owner:    Bhupesh\n",
      "Account Balance: $2000.00\n"
     ]
    }
   ],
   "source": [
    "acct = Account('Bhupesh',2000)"
   ]
  },
  {
   "cell_type": "code",
   "execution_count": 62,
   "id": "a3429630",
   "metadata": {},
   "outputs": [
    {
     "name": "stdout",
     "output_type": "stream",
     "text": [
      "Account Owner:    Bhupesh\n",
      "Account Balance: $2000.00\n"
     ]
    }
   ],
   "source": [
    "print(acct)"
   ]
  },
  {
   "cell_type": "code",
   "execution_count": 63,
   "id": "aac0f3b8",
   "metadata": {},
   "outputs": [
    {
     "data": {
      "text/plain": [
       "'Bhupesh'"
      ]
     },
     "execution_count": 63,
     "metadata": {},
     "output_type": "execute_result"
    }
   ],
   "source": [
    "acct.owner"
   ]
  },
  {
   "cell_type": "code",
   "execution_count": 64,
   "id": "7d5df4b0",
   "metadata": {},
   "outputs": [
    {
     "data": {
      "text/plain": [
       "2000"
      ]
     },
     "execution_count": 64,
     "metadata": {},
     "output_type": "execute_result"
    }
   ],
   "source": [
    "acct.balance"
   ]
  },
  {
   "cell_type": "code",
   "execution_count": 65,
   "id": "05144953",
   "metadata": {},
   "outputs": [
    {
     "name": "stdout",
     "output_type": "stream",
     "text": [
      "Deposit Accepted\n",
      "$500 is added to your account\n"
     ]
    }
   ],
   "source": [
    "acct.deposit(500)"
   ]
  },
  {
   "cell_type": "code",
   "execution_count": 66,
   "id": "5631af79",
   "metadata": {},
   "outputs": [
    {
     "name": "stdout",
     "output_type": "stream",
     "text": [
      "Withdrawl Accepted\n",
      "$500 is withdrawled from your account\n"
     ]
    }
   ],
   "source": [
    "acct.withdraw(500)"
   ]
  },
  {
   "cell_type": "code",
   "execution_count": 67,
   "id": "d357f528",
   "metadata": {},
   "outputs": [
    {
     "data": {
      "text/plain": [
       "2000"
      ]
     },
     "execution_count": 67,
     "metadata": {},
     "output_type": "execute_result"
    }
   ],
   "source": [
    "acct.balance"
   ]
  },
  {
   "cell_type": "code",
   "execution_count": 68,
   "id": "9ac3a6d9",
   "metadata": {},
   "outputs": [
    {
     "name": "stdout",
     "output_type": "stream",
     "text": [
      "Funds Unavailable!\n"
     ]
    }
   ],
   "source": [
    "# Excess Withdrawal\n",
    "acct.withdraw(50000)"
   ]
  },
  {
   "cell_type": "code",
   "execution_count": null,
   "id": "b18773cf",
   "metadata": {},
   "outputs": [],
   "source": []
  }
 ],
 "metadata": {
  "kernelspec": {
   "display_name": "Python 3",
   "language": "python",
   "name": "python3"
  },
  "language_info": {
   "codemirror_mode": {
    "name": "ipython",
    "version": 3
   },
   "file_extension": ".py",
   "mimetype": "text/x-python",
   "name": "python",
   "nbconvert_exporter": "python",
   "pygments_lexer": "ipython3",
   "version": "3.8.5"
  }
 },
 "nbformat": 4,
 "nbformat_minor": 5
}
