{
 "cells": [
  {
   "cell_type": "markdown",
   "id": "5bd5036b",
   "metadata": {},
   "source": [
    "# Introduction to Python 3\n",
    "\n",
    "Topics covered:\n",
    "\n",
    "* Functions\n",
    "* Functions with variables\n",
    "* Functions with variables and return\n",
    "* Complex Functions (With logic)\n",
    "* Advanced Functions (`*args` and `**kwargs`)\n",
    "* Helpful Functions for Functions\n",
    "* Global Varibles and Scope of Variables"
   ]
  },
  {
   "cell_type": "markdown",
   "id": "b2f13a1b",
   "metadata": {},
   "source": [
    "## 3.1 Functions\n",
    "\n",
    "**1. Custom Functions:**\n",
    "\n",
    "Helps us to make sections of resuable code that we can execute as many time as we want.\n",
    "\n",
    "**2. Requirements**\n",
    "\n",
    "1. `def` keyword\n",
    "2. Correct Indentations\n",
    "3. Proper Structure"
   ]
  },
  {
   "cell_type": "markdown",
   "id": "e87f608a",
   "metadata": {},
   "source": [
    "**3. Simple Synatx of Function**\n",
    "\n",
    "def `name_of_function`():\n",
    "\n",
    "    # Executable Code"
   ]
  },
  {
   "cell_type": "markdown",
   "id": "53bd9dce",
   "metadata": {},
   "source": [
    "**4. To call the code**\n",
    "\n",
    "`name_of_function()`"
   ]
  },
  {
   "cell_type": "code",
   "execution_count": 1,
   "id": "6b844193",
   "metadata": {},
   "outputs": [],
   "source": [
    "def print_hello_world():\n",
    "    print(\"Hello World\")"
   ]
  },
  {
   "cell_type": "code",
   "execution_count": 2,
   "id": "465dd00e",
   "metadata": {},
   "outputs": [
    {
     "name": "stdout",
     "output_type": "stream",
     "text": [
      "Hello World\n"
     ]
    }
   ],
   "source": [
    "# With parenthesis\n",
    "print_hello_world()"
   ]
  },
  {
   "cell_type": "code",
   "execution_count": 3,
   "id": "0117a36f",
   "metadata": {},
   "outputs": [
    {
     "data": {
      "text/plain": [
       "<function __main__.print_hello_world()>"
      ]
     },
     "execution_count": 3,
     "metadata": {},
     "output_type": "execute_result"
    }
   ],
   "source": [
    "#Without parenthesis\n",
    "print_hello_world"
   ]
  },
  {
   "cell_type": "code",
   "execution_count": null,
   "id": "a49371d9",
   "metadata": {},
   "outputs": [],
   "source": []
  },
  {
   "cell_type": "code",
   "execution_count": 4,
   "id": "4d755c22",
   "metadata": {},
   "outputs": [],
   "source": [
    "# With docstring\n",
    "\n",
    "def print_hello_world():\n",
    "    \"\"\"\n",
    "    This fuction prints out hello worlds!\n",
    "    Takes no input.\n",
    "    \"\"\"\n",
    "    print(\"Hello World\")"
   ]
  },
  {
   "cell_type": "code",
   "execution_count": 5,
   "id": "a0b1db8d",
   "metadata": {},
   "outputs": [
    {
     "name": "stdout",
     "output_type": "stream",
     "text": [
      "Hello World\n"
     ]
    }
   ],
   "source": [
    "print_hello_world()"
   ]
  },
  {
   "cell_type": "markdown",
   "id": "69d30ac7",
   "metadata": {},
   "source": [
    "## 3.2 Functions with variables\n",
    "\n",
    "**1. Synatx of Function with variables**\n",
    "\n",
    "def `name_of_function`(`varibale`):\n",
    "\n",
    "    # Executable Code with use of varibale\n"
   ]
  },
  {
   "cell_type": "code",
   "execution_count": 6,
   "id": "f511b699",
   "metadata": {},
   "outputs": [],
   "source": [
    "def hello_person(name):\n",
    "    print(\"hello \", name )"
   ]
  },
  {
   "cell_type": "code",
   "execution_count": 7,
   "id": "9d3a273b",
   "metadata": {},
   "outputs": [
    {
     "name": "stdout",
     "output_type": "stream",
     "text": [
      "hello  bhupesh\n"
     ]
    }
   ],
   "source": [
    "hello_person(\"bhupesh\")"
   ]
  },
  {
   "cell_type": "code",
   "execution_count": 8,
   "id": "7fd7930a",
   "metadata": {},
   "outputs": [
    {
     "ename": "TypeError",
     "evalue": "hello_person() missing 1 required positional argument: 'name'",
     "output_type": "error",
     "traceback": [
      "\u001b[0;31m---------------------------------------------------------------------------\u001b[0m",
      "\u001b[0;31mTypeError\u001b[0m                                 Traceback (most recent call last)",
      "\u001b[0;32m<ipython-input-8-1a92620bc826>\u001b[0m in \u001b[0;36m<module>\u001b[0;34m\u001b[0m\n\u001b[1;32m      1\u001b[0m \u001b[0;31m# What if we tried to call the fuction without a variable\u001b[0m\u001b[0;34m\u001b[0m\u001b[0;34m\u001b[0m\u001b[0;34m\u001b[0m\u001b[0m\n\u001b[0;32m----> 2\u001b[0;31m \u001b[0mhello_person\u001b[0m\u001b[0;34m(\u001b[0m\u001b[0;34m)\u001b[0m\u001b[0;34m\u001b[0m\u001b[0;34m\u001b[0m\u001b[0m\n\u001b[0m",
      "\u001b[0;31mTypeError\u001b[0m: hello_person() missing 1 required positional argument: 'name'"
     ]
    }
   ],
   "source": [
    "# What if we tried to call the fuction without a variable\n",
    "hello_person()"
   ]
  },
  {
   "cell_type": "code",
   "execution_count": null,
   "id": "98c0cf9b",
   "metadata": {},
   "outputs": [],
   "source": [
    "# We can add a default value\n",
    "def hello_person(name=\"human\"):\n",
    "    print(\"hello \", name )"
   ]
  },
  {
   "cell_type": "code",
   "execution_count": null,
   "id": "8504da76",
   "metadata": {},
   "outputs": [],
   "source": [
    "hello_person()"
   ]
  },
  {
   "cell_type": "code",
   "execution_count": null,
   "id": "203d80c0",
   "metadata": {},
   "outputs": [],
   "source": []
  },
  {
   "cell_type": "code",
   "execution_count": null,
   "id": "69f2455e",
   "metadata": {},
   "outputs": [],
   "source": []
  },
  {
   "cell_type": "code",
   "execution_count": null,
   "id": "860f63e3",
   "metadata": {},
   "outputs": [],
   "source": []
  },
  {
   "cell_type": "markdown",
   "id": "cf29c09d",
   "metadata": {},
   "source": [
    "## 3.2 Functions with variables and return\n",
    "\n",
    "**1. Synatx of Function with variables**\n",
    "\n",
    "def `name_of_function`(`varibale`):\n",
    "\n",
    "    # Executable Code with use of varibale\n",
    "    \n",
    "    return something"
   ]
  },
  {
   "cell_type": "code",
   "execution_count": null,
   "id": "cc55729c",
   "metadata": {},
   "outputs": [],
   "source": [
    "def square(number):\n",
    "    return number**2"
   ]
  },
  {
   "cell_type": "code",
   "execution_count": null,
   "id": "c855eb45",
   "metadata": {},
   "outputs": [],
   "source": [
    "square(12)"
   ]
  },
  {
   "cell_type": "code",
   "execution_count": null,
   "id": "aa40f704",
   "metadata": {},
   "outputs": [],
   "source": [
    "answer = square(13)\n",
    "print(answer)"
   ]
  },
  {
   "cell_type": "code",
   "execution_count": null,
   "id": "72ecfc02",
   "metadata": {},
   "outputs": [],
   "source": [
    "# Return VS Print"
   ]
  },
  {
   "cell_type": "code",
   "execution_count": null,
   "id": "1ea5f3bf",
   "metadata": {},
   "outputs": [],
   "source": [
    "def print_sum(a,b):\n",
    "    print(a+b)"
   ]
  },
  {
   "cell_type": "code",
   "execution_count": null,
   "id": "acdba4bd",
   "metadata": {},
   "outputs": [],
   "source": [
    "def return_sum(a,b):\n",
    "    return a+b"
   ]
  },
  {
   "cell_type": "code",
   "execution_count": null,
   "id": "cefba68d",
   "metadata": {},
   "outputs": [],
   "source": [
    "print_sum(2,3)"
   ]
  },
  {
   "cell_type": "code",
   "execution_count": null,
   "id": "bfa3a31c",
   "metadata": {},
   "outputs": [],
   "source": [
    "return_sum(2,3)"
   ]
  },
  {
   "cell_type": "code",
   "execution_count": null,
   "id": "405edfee",
   "metadata": {},
   "outputs": [],
   "source": [
    "# Right data type to use and return"
   ]
  },
  {
   "cell_type": "code",
   "execution_count": null,
   "id": "19444ffd",
   "metadata": {},
   "outputs": [],
   "source": []
  },
  {
   "cell_type": "code",
   "execution_count": null,
   "id": "9d1babd6",
   "metadata": {},
   "outputs": [],
   "source": []
  },
  {
   "cell_type": "markdown",
   "id": "07be95a4",
   "metadata": {},
   "source": [
    "## 3.3 Complex Functions (With logic)"
   ]
  },
  {
   "cell_type": "markdown",
   "id": "56d0ccc8",
   "metadata": {},
   "source": [
    "### Even Number Checker"
   ]
  },
  {
   "cell_type": "code",
   "execution_count": null,
   "id": "8026af24",
   "metadata": {},
   "outputs": [],
   "source": [
    "def even_check(number):\n",
    "    if number%2 == 0:\n",
    "        return True\n",
    "    else:\n",
    "        return False"
   ]
  },
  {
   "cell_type": "code",
   "execution_count": null,
   "id": "2e0a46b1",
   "metadata": {},
   "outputs": [],
   "source": [
    "even_check(23)"
   ]
  },
  {
   "cell_type": "code",
   "execution_count": null,
   "id": "5d898e9d",
   "metadata": {},
   "outputs": [],
   "source": [
    "even_check(40)"
   ]
  },
  {
   "cell_type": "code",
   "execution_count": null,
   "id": "95b7c8f6",
   "metadata": {},
   "outputs": [],
   "source": [
    "# Redefine the function with simple equation\n",
    "\n",
    "def even_check(number):\n",
    "    return number%2 == 0"
   ]
  },
  {
   "cell_type": "code",
   "execution_count": null,
   "id": "7c34d9a1",
   "metadata": {},
   "outputs": [],
   "source": [
    "even_check(21)"
   ]
  },
  {
   "cell_type": "markdown",
   "id": "79378f0e",
   "metadata": {},
   "source": [
    "### Any odd number in Loop"
   ]
  },
  {
   "cell_type": "code",
   "execution_count": null,
   "id": "262aa671",
   "metadata": {},
   "outputs": [],
   "source": [
    "def check_for_odd(new_list):\n",
    "    \n",
    "    for num in new_list:\n",
    "        if num%2==1:\n",
    "            return True\n",
    "        else:\n",
    "            pass"
   ]
  },
  {
   "cell_type": "code",
   "execution_count": null,
   "id": "259b34b4",
   "metadata": {},
   "outputs": [],
   "source": [
    "check_for_odd([2,4,6,8,10,11])"
   ]
  },
  {
   "cell_type": "code",
   "execution_count": null,
   "id": "3b5e2230",
   "metadata": {},
   "outputs": [],
   "source": [
    "# Add for something as false in function"
   ]
  },
  {
   "cell_type": "code",
   "execution_count": null,
   "id": "1f2a9209",
   "metadata": {},
   "outputs": [],
   "source": []
  },
  {
   "cell_type": "code",
   "execution_count": null,
   "id": "014ed25b",
   "metadata": {},
   "outputs": [],
   "source": []
  },
  {
   "cell_type": "markdown",
   "id": "5a78c657",
   "metadata": {},
   "source": [
    "### Return all even numbers"
   ]
  },
  {
   "cell_type": "code",
   "execution_count": null,
   "id": "fd6a745e",
   "metadata": {},
   "outputs": [],
   "source": [
    "def return_even_number(new_list):\n",
    "    \n",
    "    even_list = []\n",
    "    \n",
    "    for num in new_list:\n",
    "        if num%2==0:\n",
    "            even_list.append(num)\n",
    "        else:\n",
    "            pass\n",
    "    return even_list"
   ]
  },
  {
   "cell_type": "code",
   "execution_count": null,
   "id": "0f7a2fa0",
   "metadata": {},
   "outputs": [],
   "source": [
    "return_even_number([1,2,3,4,5,6,7,8])"
   ]
  },
  {
   "cell_type": "code",
   "execution_count": null,
   "id": "2a9a9fc5",
   "metadata": {},
   "outputs": [],
   "source": []
  },
  {
   "cell_type": "markdown",
   "id": "747704bf",
   "metadata": {},
   "source": [
    "### Student of the month\n",
    "\n",
    "A more complex function based on tuple unpacking."
   ]
  },
  {
   "cell_type": "code",
   "execution_count": 9,
   "id": "01365008",
   "metadata": {},
   "outputs": [],
   "source": [
    "marks_list = [(\"Ankush\",890),(\"Bhupesh\", 830),(\"Dushyant\",850),(\"Garima\", 910),(\"Yamini\",870)]"
   ]
  },
  {
   "cell_type": "code",
   "execution_count": 10,
   "id": "a03130fd",
   "metadata": {},
   "outputs": [],
   "source": [
    "def student_of_month(student_marks):\n",
    "    # Place Holders\n",
    "    name_of_student = \"\"\n",
    "    max_marks = 0\n",
    "    \n",
    "    # Make a for loop to go through all\n",
    "    for name,marks in student_marks:\n",
    "        \n",
    "        # Comparision\n",
    "        if marks > max_marks:\n",
    "            # Reset the current max\n",
    "            max_marks = marks\n",
    "            # Change the name\n",
    "            name_of_student = name\n",
    "        else:\n",
    "            pass\n",
    "    \n",
    "    # Return the result as tuple\n",
    "    return (name_of_student,max_marks)"
   ]
  },
  {
   "cell_type": "code",
   "execution_count": 11,
   "id": "919534b7",
   "metadata": {},
   "outputs": [
    {
     "data": {
      "text/plain": [
       "('Garima', 910)"
      ]
     },
     "execution_count": 11,
     "metadata": {},
     "output_type": "execute_result"
    }
   ],
   "source": [
    "student_of_month(marks_list)"
   ]
  },
  {
   "cell_type": "code",
   "execution_count": 12,
   "id": "9cb061f9",
   "metadata": {},
   "outputs": [
    {
     "data": {
      "text/plain": [
       "('Garima', 910)"
      ]
     },
     "execution_count": 12,
     "metadata": {},
     "output_type": "execute_result"
    }
   ],
   "source": [
    "result = student_of_month(marks_list)\n",
    "result"
   ]
  },
  {
   "cell_type": "code",
   "execution_count": null,
   "id": "e19ef845",
   "metadata": {},
   "outputs": [],
   "source": []
  },
  {
   "cell_type": "markdown",
   "id": "a71f5541",
   "metadata": {},
   "source": [
    "### Interaction of several functions\n",
    "\n",
    "\n",
    "1. Making several function to work together\n",
    "2. Importing a module (Random)\n",
    "3. Make a game"
   ]
  },
  {
   "cell_type": "code",
   "execution_count": 13,
   "id": "8ba14bce",
   "metadata": {},
   "outputs": [],
   "source": [
    "# Importing a module\n",
    "import random"
   ]
  },
  {
   "cell_type": "code",
   "execution_count": 14,
   "id": "3f26cf4a",
   "metadata": {},
   "outputs": [],
   "source": [
    "my_list = [\" \",\"X\",\" \"]\n",
    "random.shuffle(my_list)"
   ]
  },
  {
   "cell_type": "code",
   "execution_count": 15,
   "id": "a379b248",
   "metadata": {},
   "outputs": [
    {
     "data": {
      "text/plain": [
       "[' ', 'X', ' ']"
      ]
     },
     "execution_count": 15,
     "metadata": {},
     "output_type": "execute_result"
    }
   ],
   "source": [
    "my_list"
   ]
  },
  {
   "cell_type": "code",
   "execution_count": 16,
   "id": "f8649993",
   "metadata": {},
   "outputs": [],
   "source": [
    "# Make first function (to shuffle the list)\n",
    "\n",
    "def shuffle_list(guess_list):\n",
    "    random.shuffle(guess_list)\n",
    "    return guess_list"
   ]
  },
  {
   "cell_type": "code",
   "execution_count": 17,
   "id": "f8b1f1f5",
   "metadata": {},
   "outputs": [],
   "source": [
    "list1 = shuffle_list(my_list)"
   ]
  },
  {
   "cell_type": "code",
   "execution_count": 18,
   "id": "9e6bee47",
   "metadata": {},
   "outputs": [],
   "source": [
    "# Make second function to take user input\n",
    "\n",
    "def user_input():\n",
    "    \n",
    "    #Place holder\n",
    "    guess = \"\"\n",
    "    # Keep asking untill its 0,1 or 2\n",
    "    while guess not in [\"0\",\"1\",\"2\"]:\n",
    "        guess = input(\"Pick a index (0,1 or 2): \")\n",
    "    \n",
    "    return int(guess)"
   ]
  },
  {
   "cell_type": "code",
   "execution_count": 19,
   "id": "802fdc97",
   "metadata": {},
   "outputs": [
    {
     "name": "stdout",
     "output_type": "stream",
     "text": [
      "Pick a index (0,1 or 2): 1\n"
     ]
    },
    {
     "data": {
      "text/plain": [
       "1"
      ]
     },
     "execution_count": 19,
     "metadata": {},
     "output_type": "execute_result"
    }
   ],
   "source": [
    "user_input()"
   ]
  },
  {
   "cell_type": "code",
   "execution_count": 20,
   "id": "b90c8c3a",
   "metadata": {},
   "outputs": [],
   "source": [
    "# Make third function to check the result with input\n",
    "\n",
    "def check_guess(guess,shuffled_list):\n",
    "    if shuffled_list[guess] == \"X\":\n",
    "        print(\"Correct Guess!\")\n",
    "        print(shuffled_list)\n",
    "    else:\n",
    "        print(\"Incorrect Guess!\")\n",
    "        print(shuffled_list)"
   ]
  },
  {
   "cell_type": "code",
   "execution_count": 21,
   "id": "5fd13868",
   "metadata": {},
   "outputs": [
    {
     "name": "stdout",
     "output_type": "stream",
     "text": [
      "Incorrect Guess!\n",
      "['X', ' ', ' ']\n"
     ]
    }
   ],
   "source": [
    "check_guess(1,list1)"
   ]
  },
  {
   "cell_type": "code",
   "execution_count": 22,
   "id": "5658a1d6",
   "metadata": {},
   "outputs": [
    {
     "name": "stdout",
     "output_type": "stream",
     "text": [
      "Pick a index (0,1 or 2): 1\n",
      "Incorrect Guess!\n",
      "['X', ' ', ' ']\n"
     ]
    }
   ],
   "source": [
    "# COMBINE EVERYTHING IN ONE SECTION\n",
    "\n",
    "# Initialise\n",
    "game_list = [\"X\", \" \", \" \"]\n",
    "\n",
    "# Shuffle the list\n",
    "mixed_list = shuffle_list(game_list)\n",
    "\n",
    "# Ask for input\n",
    "guess = user_input()\n",
    "\n",
    "# Check the guess with shuffled list\n",
    "check_guess(guess,mixed_list)"
   ]
  },
  {
   "cell_type": "code",
   "execution_count": null,
   "id": "49ee16ba",
   "metadata": {},
   "outputs": [],
   "source": []
  },
  {
   "cell_type": "code",
   "execution_count": null,
   "id": "905d5d2e",
   "metadata": {},
   "outputs": [],
   "source": []
  },
  {
   "cell_type": "markdown",
   "id": "11b73257",
   "metadata": {},
   "source": [
    "For more practice:\n",
    "\n",
    "Coding Bat : https://codingbat.com/python"
   ]
  },
  {
   "cell_type": "code",
   "execution_count": null,
   "id": "39fbede6",
   "metadata": {},
   "outputs": [],
   "source": []
  },
  {
   "cell_type": "markdown",
   "id": "a1e83a65",
   "metadata": {},
   "source": [
    "## 3.4 Advanced Functions (`*args `and `**kwargs`)"
   ]
  },
  {
   "cell_type": "code",
   "execution_count": 23,
   "id": "184ac672",
   "metadata": {},
   "outputs": [],
   "source": [
    "def sum_function(a,b):\n",
    "    return sum((a,b))"
   ]
  },
  {
   "cell_type": "code",
   "execution_count": 24,
   "id": "7915b3a1",
   "metadata": {},
   "outputs": [
    {
     "data": {
      "text/plain": [
       "30"
      ]
     },
     "execution_count": 24,
     "metadata": {},
     "output_type": "execute_result"
    }
   ],
   "source": [
    "sum_function(10,20)"
   ]
  },
  {
   "cell_type": "markdown",
   "id": "d53c16d1",
   "metadata": {},
   "source": [
    "### 1.  `*args` : Arguments\n",
    "\n",
    "**Here a and b are positional arguments. What if we want to add more thanjust two or three ?**\n",
    "\n",
    "Solution:\n",
    "\n",
    "1. Assign a lot of arguments with some default values\n",
    "2. `*args` : Take n number of arguments and return tuples.\n",
    "\n",
    "#### Another Note: `*` is the main thing to notice here.\n",
    "\n",
    "We can use any variable we want instead of `args`, but by convention `args` is used by most."
   ]
  },
  {
   "cell_type": "code",
   "execution_count": 25,
   "id": "a63155a8",
   "metadata": {},
   "outputs": [],
   "source": [
    "# Solution 1: Assign more than two positional arguments with some default values.\n",
    "\n",
    "def sum_of_more(a,b,c=0,d=0,e=0):\n",
    "    return sum((a,b,c,d,e))"
   ]
  },
  {
   "cell_type": "code",
   "execution_count": 26,
   "id": "3ab35ddb",
   "metadata": {},
   "outputs": [
    {
     "data": {
      "text/plain": [
       "30"
      ]
     },
     "execution_count": 26,
     "metadata": {},
     "output_type": "execute_result"
    }
   ],
   "source": [
    "sum_of_more(10,20)"
   ]
  },
  {
   "cell_type": "code",
   "execution_count": 27,
   "id": "c7dbb690",
   "metadata": {},
   "outputs": [
    {
     "data": {
      "text/plain": [
       "130"
      ]
     },
     "execution_count": 27,
     "metadata": {},
     "output_type": "execute_result"
    }
   ],
   "source": [
    "sum_of_more(10,30,40,50)"
   ]
  },
  {
   "cell_type": "code",
   "execution_count": 29,
   "id": "6c39b599",
   "metadata": {},
   "outputs": [
    {
     "ename": "TypeError",
     "evalue": "sum_of_more() takes from 2 to 5 positional arguments but 6 were given",
     "output_type": "error",
     "traceback": [
      "\u001b[0;31m---------------------------------------------------------------------------\u001b[0m",
      "\u001b[0;31mTypeError\u001b[0m                                 Traceback (most recent call last)",
      "\u001b[0;32m<ipython-input-29-cd0132e85807>\u001b[0m in \u001b[0;36m<module>\u001b[0;34m\u001b[0m\n\u001b[0;32m----> 1\u001b[0;31m \u001b[0msum_of_more\u001b[0m\u001b[0;34m(\u001b[0m\u001b[0;36m10\u001b[0m\u001b[0;34m,\u001b[0m\u001b[0;36m20\u001b[0m\u001b[0;34m,\u001b[0m\u001b[0;36m30\u001b[0m\u001b[0;34m,\u001b[0m\u001b[0;36m40\u001b[0m\u001b[0;34m,\u001b[0m\u001b[0;36m50\u001b[0m\u001b[0;34m,\u001b[0m\u001b[0;36m60\u001b[0m\u001b[0;34m)\u001b[0m\u001b[0;34m\u001b[0m\u001b[0;34m\u001b[0m\u001b[0m\n\u001b[0m",
      "\u001b[0;31mTypeError\u001b[0m: sum_of_more() takes from 2 to 5 positional arguments but 6 were given"
     ]
    }
   ],
   "source": [
    "sum_of_more(10,20,30,40,50,60)"
   ]
  },
  {
   "cell_type": "code",
   "execution_count": null,
   "id": "d45514b6",
   "metadata": {},
   "outputs": [],
   "source": [
    "# Solution 2: Assign *args to take multiple arguments.\n",
    "# Note: Here arguments as taken as tuples.\n",
    "\n",
    "def sum_of_all(*args):\n",
    "    return sum(args)"
   ]
  },
  {
   "cell_type": "code",
   "execution_count": null,
   "id": "cea63fb6",
   "metadata": {},
   "outputs": [],
   "source": [
    "sum_of_all(10,20,304,5060,700,503,456)"
   ]
  },
  {
   "cell_type": "code",
   "execution_count": null,
   "id": "8e2867d0",
   "metadata": {},
   "outputs": [],
   "source": []
  },
  {
   "cell_type": "code",
   "execution_count": 30,
   "id": "30840cc5",
   "metadata": {},
   "outputs": [],
   "source": [
    "def sum_of_all(*args):\n",
    "    return print(args)"
   ]
  },
  {
   "cell_type": "code",
   "execution_count": 31,
   "id": "12fa08b6",
   "metadata": {},
   "outputs": [
    {
     "name": "stdout",
     "output_type": "stream",
     "text": [
      "(10, 20, 304, 5060, 700, 503, 456)\n"
     ]
    }
   ],
   "source": [
    "sum_of_all(10,20,304,5060,700,503,456)"
   ]
  },
  {
   "cell_type": "code",
   "execution_count": null,
   "id": "a409e273",
   "metadata": {},
   "outputs": [],
   "source": []
  },
  {
   "cell_type": "code",
   "execution_count": 32,
   "id": "53ff56db",
   "metadata": {},
   "outputs": [],
   "source": [
    "def sum_of_all(*Bhupesh):\n",
    "    return sum(Bhupesh)"
   ]
  },
  {
   "cell_type": "code",
   "execution_count": 33,
   "id": "ec8fa24e",
   "metadata": {},
   "outputs": [
    {
     "data": {
      "text/plain": [
       "7053"
      ]
     },
     "execution_count": 33,
     "metadata": {},
     "output_type": "execute_result"
    }
   ],
   "source": [
    "sum_of_all(10,20,304,5060,700,503,456)"
   ]
  },
  {
   "cell_type": "code",
   "execution_count": null,
   "id": "cdb3477b",
   "metadata": {},
   "outputs": [],
   "source": []
  },
  {
   "cell_type": "code",
   "execution_count": null,
   "id": "9b1f7005",
   "metadata": {},
   "outputs": [],
   "source": []
  },
  {
   "cell_type": "markdown",
   "id": "ea3f2dd2",
   "metadata": {},
   "source": [
    "### 2. `**kwargs` : Keyword Arguments\n",
    "\n",
    "1. Just like `*args` with `**kwargs` we can pass multiple keyword arguments.\n",
    "2. And the way it saves the data is dictionary."
   ]
  },
  {
   "cell_type": "code",
   "execution_count": 34,
   "id": "a74a8437",
   "metadata": {},
   "outputs": [],
   "source": [
    "def fav_food(**kwargs):\n",
    "    if 'food' in kwargs:\n",
    "        print(\"My favourite food is {}\".format(kwargs['food']))\n",
    "    else:\n",
    "        print(\"Nevermind, I'll have pizza\")"
   ]
  },
  {
   "cell_type": "code",
   "execution_count": 35,
   "id": "2f7b9004",
   "metadata": {},
   "outputs": [
    {
     "name": "stdout",
     "output_type": "stream",
     "text": [
      "My favourite food is Biryani\n"
     ]
    }
   ],
   "source": [
    "fav_food(food=\"Biryani\")"
   ]
  },
  {
   "cell_type": "code",
   "execution_count": 36,
   "id": "7813dd11",
   "metadata": {},
   "outputs": [
    {
     "name": "stdout",
     "output_type": "stream",
     "text": [
      "Nevermind, I'll have pizza\n"
     ]
    }
   ],
   "source": [
    "fav_food()"
   ]
  },
  {
   "cell_type": "code",
   "execution_count": null,
   "id": "617cc353",
   "metadata": {},
   "outputs": [],
   "source": []
  },
  {
   "cell_type": "code",
   "execution_count": 37,
   "id": "07a653d6",
   "metadata": {},
   "outputs": [],
   "source": [
    "def my_fav(**kwargs):\n",
    "    if 'book' in kwargs:\n",
    "        print(f\"My favourite book is {kwargs['book']}\")\n",
    "    if 'phone' in kwargs:\n",
    "        print(f\"My favourite phone is {kwargs['phone']}\")\n",
    "    if 'laptop' in kwargs:\n",
    "        print(f\"My favourite laptop is {kwargs['laptop']}\")\n",
    "    else:\n",
    "        print(\"I don't have any favourite stuff.\")"
   ]
  },
  {
   "cell_type": "code",
   "execution_count": 38,
   "id": "afebddff",
   "metadata": {},
   "outputs": [
    {
     "name": "stdout",
     "output_type": "stream",
     "text": [
      "My favourite book is Harry Potter\n",
      "My favourite phone is Nokia\n",
      "My favourite laptop is Dell\n"
     ]
    }
   ],
   "source": [
    "my_fav(laptop=\"Dell\",book=\"Harry Potter\",phone=\"Nokia\")"
   ]
  },
  {
   "cell_type": "code",
   "execution_count": 39,
   "id": "4ca54106",
   "metadata": {},
   "outputs": [],
   "source": [
    "def print_kwargs(**kwargs):\n",
    "    print(kwargs)"
   ]
  },
  {
   "cell_type": "code",
   "execution_count": 40,
   "id": "7932d570",
   "metadata": {},
   "outputs": [
    {
     "name": "stdout",
     "output_type": "stream",
     "text": [
      "{'laptop': 'Dell', 'book': 'Harry Potter', 'phone': 'Nokia'}\n"
     ]
    }
   ],
   "source": [
    "print_kwargs(laptop=\"Dell\",book=\"Harry Potter\",phone=\"Nokia\")"
   ]
  },
  {
   "cell_type": "code",
   "execution_count": null,
   "id": "78b28c4c",
   "metadata": {},
   "outputs": [],
   "source": []
  },
  {
   "cell_type": "markdown",
   "id": "f3e048af",
   "metadata": {},
   "source": [
    "### 3. `*args` and `**kwargs` together\n",
    "\n",
    "We can use the `*args` and `**kwargs` together. But we need to use them in sequence. \n",
    "\n",
    "Always `*args` followed by `**kwargs`."
   ]
  },
  {
   "cell_type": "code",
   "execution_count": 41,
   "id": "bd03b164",
   "metadata": {},
   "outputs": [],
   "source": [
    "def together_two(*args,**kwargs):\n",
    "    total = 0\n",
    "    for n in args:\n",
    "        total = total + n\n",
    "    print(f\"I want {total} kilogram of {kwargs['fruit']}\")"
   ]
  },
  {
   "cell_type": "code",
   "execution_count": 42,
   "id": "b2da535f",
   "metadata": {},
   "outputs": [
    {
     "name": "stdout",
     "output_type": "stream",
     "text": [
      "I want 28 kilogram of Apple\n"
     ]
    }
   ],
   "source": [
    "together_two(1,2,3,4,5,6,7,food=\"Pizza\",fruit=\"Apple\",vegetable=\"Potato\")"
   ]
  },
  {
   "cell_type": "code",
   "execution_count": null,
   "id": "8457de8f",
   "metadata": {},
   "outputs": [],
   "source": []
  },
  {
   "cell_type": "code",
   "execution_count": null,
   "id": "c17f4bf4",
   "metadata": {},
   "outputs": [],
   "source": []
  },
  {
   "cell_type": "markdown",
   "id": "a9e8bc60",
   "metadata": {},
   "source": [
    "## 3.5 Helpful Functions for Functions\n",
    "\n",
    "1. `map()` : Map a function with variables\n",
    "\n",
    "Just need to give the function, not to call them, map will automatically call it for us.\n",
    "\n",
    "2. `filter` : Filter out the function with boolean results\n",
    "\n",
    "Filter will reuturn the list of elements based on the boolean result.\n",
    "\n",
    "3. `lamda` : Anonymus Function, whihc we can use without giving name\n",
    "\n"
   ]
  },
  {
   "cell_type": "markdown",
   "id": "e1403135",
   "metadata": {},
   "source": [
    "### Map Function"
   ]
  },
  {
   "cell_type": "code",
   "execution_count": 43,
   "id": "8efabdea",
   "metadata": {},
   "outputs": [],
   "source": [
    "def cube(num):\n",
    "    return num**3"
   ]
  },
  {
   "cell_type": "code",
   "execution_count": 44,
   "id": "f082c009",
   "metadata": {},
   "outputs": [],
   "source": [
    "my_list = [1,2,3,4,5,6,7,8,9,10]"
   ]
  },
  {
   "cell_type": "code",
   "execution_count": 45,
   "id": "2f71b0a1",
   "metadata": {},
   "outputs": [
    {
     "data": {
      "text/plain": [
       "[1, 8, 27, 64, 125, 216, 343, 512, 729, 1000]"
      ]
     },
     "execution_count": 45,
     "metadata": {},
     "output_type": "execute_result"
    }
   ],
   "source": [
    "list(map(cube,my_list))"
   ]
  },
  {
   "cell_type": "code",
   "execution_count": null,
   "id": "d5385715",
   "metadata": {},
   "outputs": [],
   "source": []
  },
  {
   "cell_type": "code",
   "execution_count": 46,
   "id": "58662218",
   "metadata": {},
   "outputs": [],
   "source": [
    "def even_odd_string(string):\n",
    "    if len(string)%2 == 0:\n",
    "        return string[:2]*5\n",
    "    else:\n",
    "        return string[:3]*3"
   ]
  },
  {
   "cell_type": "code",
   "execution_count": 47,
   "id": "b94f9cb1",
   "metadata": {},
   "outputs": [],
   "source": [
    "names = [\"Bhupesh\",\"Ankush\", \"Garima\", \"Yamini\"]"
   ]
  },
  {
   "cell_type": "code",
   "execution_count": 48,
   "id": "4cadbcfb",
   "metadata": {},
   "outputs": [
    {
     "data": {
      "text/plain": [
       "['BhuBhuBhu', 'AnAnAnAnAn', 'GaGaGaGaGa', 'YaYaYaYaYa']"
      ]
     },
     "execution_count": 48,
     "metadata": {},
     "output_type": "execute_result"
    }
   ],
   "source": [
    "list(map(even_odd_string,names))"
   ]
  },
  {
   "cell_type": "code",
   "execution_count": null,
   "id": "6b345076",
   "metadata": {},
   "outputs": [],
   "source": []
  },
  {
   "cell_type": "markdown",
   "id": "458a3ce6",
   "metadata": {},
   "source": [
    "### Filter Function"
   ]
  },
  {
   "cell_type": "code",
   "execution_count": 49,
   "id": "50147a97",
   "metadata": {},
   "outputs": [],
   "source": [
    "def odd_number(num):\n",
    "    return num%2==1"
   ]
  },
  {
   "cell_type": "code",
   "execution_count": 50,
   "id": "a50ca0c9",
   "metadata": {},
   "outputs": [
    {
     "data": {
      "text/plain": [
       "[1, 2, 3, 4, 5, 6, 7, 8, 9, 10]"
      ]
     },
     "execution_count": 50,
     "metadata": {},
     "output_type": "execute_result"
    }
   ],
   "source": [
    "my_list"
   ]
  },
  {
   "cell_type": "code",
   "execution_count": 51,
   "id": "9662b1c8",
   "metadata": {},
   "outputs": [
    {
     "data": {
      "text/plain": [
       "[1, 3, 5, 7, 9]"
      ]
     },
     "execution_count": 51,
     "metadata": {},
     "output_type": "execute_result"
    }
   ],
   "source": [
    "list(filter(odd_number,my_list))"
   ]
  },
  {
   "cell_type": "code",
   "execution_count": null,
   "id": "481339f8",
   "metadata": {},
   "outputs": [],
   "source": []
  },
  {
   "cell_type": "code",
   "execution_count": null,
   "id": "5131c74d",
   "metadata": {},
   "outputs": [],
   "source": []
  },
  {
   "cell_type": "markdown",
   "id": "4cf7ef80",
   "metadata": {},
   "source": [
    "### Lambda Function"
   ]
  },
  {
   "cell_type": "code",
   "execution_count": 52,
   "id": "2699bb12",
   "metadata": {},
   "outputs": [],
   "source": [
    "def first_letter(string):\n",
    "    result = string[0]\n",
    "    return result"
   ]
  },
  {
   "cell_type": "code",
   "execution_count": 53,
   "id": "688dac1d",
   "metadata": {},
   "outputs": [
    {
     "data": {
      "text/plain": [
       "'B'"
      ]
     },
     "execution_count": 53,
     "metadata": {},
     "output_type": "execute_result"
    }
   ],
   "source": [
    "first_letter(\"Bhupesh\")"
   ]
  },
  {
   "cell_type": "code",
   "execution_count": 54,
   "id": "207b5f6c",
   "metadata": {},
   "outputs": [],
   "source": [
    "# Redefine the above function (level 1)\n",
    "\n",
    "def first_letter(string):\n",
    "    return string[0]"
   ]
  },
  {
   "cell_type": "code",
   "execution_count": 55,
   "id": "f70a3ec1",
   "metadata": {},
   "outputs": [
    {
     "data": {
      "text/plain": [
       "'B'"
      ]
     },
     "execution_count": 55,
     "metadata": {},
     "output_type": "execute_result"
    }
   ],
   "source": [
    "first_letter(\"Bhupesh\")"
   ]
  },
  {
   "cell_type": "code",
   "execution_count": 56,
   "id": "f8d1c6c6",
   "metadata": {},
   "outputs": [],
   "source": [
    "# Redefine the above function (level 2)\n",
    "\n",
    "def first_letter(string): return string[0]"
   ]
  },
  {
   "cell_type": "code",
   "execution_count": 57,
   "id": "58c94323",
   "metadata": {},
   "outputs": [
    {
     "data": {
      "text/plain": [
       "'B'"
      ]
     },
     "execution_count": 57,
     "metadata": {},
     "output_type": "execute_result"
    }
   ],
   "source": [
    "first_letter(\"Bhupesh\")"
   ]
  },
  {
   "cell_type": "code",
   "execution_count": 58,
   "id": "0b40d296",
   "metadata": {},
   "outputs": [],
   "source": [
    "# Redefine the above function (level 3)\n",
    "\n",
    "first_letter = lambda string:string[0]"
   ]
  },
  {
   "cell_type": "code",
   "execution_count": 59,
   "id": "10e690dc",
   "metadata": {},
   "outputs": [
    {
     "data": {
      "text/plain": [
       "'B'"
      ]
     },
     "execution_count": 59,
     "metadata": {},
     "output_type": "execute_result"
    }
   ],
   "source": [
    "first_letter(\"Bhupesh\")"
   ]
  },
  {
   "cell_type": "code",
   "execution_count": 60,
   "id": "e98cecf6",
   "metadata": {},
   "outputs": [],
   "source": [
    "# Use it with Map"
   ]
  },
  {
   "cell_type": "code",
   "execution_count": 61,
   "id": "b3f23ace",
   "metadata": {},
   "outputs": [
    {
     "data": {
      "text/plain": [
       "[1, 2, 3, 4, 5, 6, 7, 8, 9, 10]"
      ]
     },
     "execution_count": 61,
     "metadata": {},
     "output_type": "execute_result"
    }
   ],
   "source": [
    "my_list"
   ]
  },
  {
   "cell_type": "code",
   "execution_count": 62,
   "id": "99040ab4",
   "metadata": {},
   "outputs": [
    {
     "data": {
      "text/plain": [
       "[1, 4, 9, 16, 25, 36, 49, 64, 81, 100]"
      ]
     },
     "execution_count": 62,
     "metadata": {},
     "output_type": "execute_result"
    }
   ],
   "source": [
    "list(map(lambda x:x**2, my_list))"
   ]
  },
  {
   "cell_type": "code",
   "execution_count": null,
   "id": "eb14a065",
   "metadata": {},
   "outputs": [],
   "source": []
  },
  {
   "cell_type": "code",
   "execution_count": 63,
   "id": "42c9a1f1",
   "metadata": {},
   "outputs": [],
   "source": [
    "# Use it with Filter"
   ]
  },
  {
   "cell_type": "code",
   "execution_count": 64,
   "id": "8adcc773",
   "metadata": {},
   "outputs": [
    {
     "data": {
      "text/plain": [
       "[1, 2, 3, 4, 5, 6, 7, 8, 9, 10]"
      ]
     },
     "execution_count": 64,
     "metadata": {},
     "output_type": "execute_result"
    }
   ],
   "source": [
    "my_list"
   ]
  },
  {
   "cell_type": "code",
   "execution_count": 65,
   "id": "0c74c4d4",
   "metadata": {},
   "outputs": [
    {
     "data": {
      "text/plain": [
       "[1, 3, 5, 7, 9]"
      ]
     },
     "execution_count": 65,
     "metadata": {},
     "output_type": "execute_result"
    }
   ],
   "source": [
    "list(filter(lambda num:num%2==1, my_list))"
   ]
  },
  {
   "cell_type": "code",
   "execution_count": null,
   "id": "464ebe4f",
   "metadata": {},
   "outputs": [],
   "source": []
  },
  {
   "cell_type": "markdown",
   "id": "d7196cfa",
   "metadata": {},
   "source": [
    "## 3.6 Global Varibles and Scope of Variables\n",
    "\n",
    "- Level of heirarchy in terms of varibale setup.\n",
    "- Scope of the varaible based on the level of heirarchy. This allows the varible to know which varibale we are referencing to.\n",
    "\n",
    "### LEGB Rule\n",
    "\n",
    "1. L : Local i.e In the local function or lambda function\n",
    "2. E : Enclosing i.e. In the enclosing function \n",
    "3. G : Global i.e. Defined at the top or start\n",
    "4. B : Built in i.e. Inbuilt in Python Module "
   ]
  },
  {
   "cell_type": "code",
   "execution_count": 66,
   "id": "48c57a06",
   "metadata": {},
   "outputs": [],
   "source": [
    "x = \"Bhupesh\"\n",
    "\n",
    "\n",
    "def print_name():\n",
    "    x = \"Garima\"\n",
    "    return x"
   ]
  },
  {
   "cell_type": "code",
   "execution_count": 67,
   "id": "a1d26830",
   "metadata": {},
   "outputs": [
    {
     "name": "stdout",
     "output_type": "stream",
     "text": [
      "Bhupesh\n"
     ]
    }
   ],
   "source": [
    "print(x)"
   ]
  },
  {
   "cell_type": "code",
   "execution_count": 68,
   "id": "bf3a4e1b",
   "metadata": {},
   "outputs": [
    {
     "name": "stdout",
     "output_type": "stream",
     "text": [
      "Garima\n"
     ]
    }
   ],
   "source": [
    "print(print_name())"
   ]
  },
  {
   "cell_type": "code",
   "execution_count": 69,
   "id": "fa66ba6b",
   "metadata": {},
   "outputs": [
    {
     "data": {
      "text/plain": [
       "4"
      ]
     },
     "execution_count": 69,
     "metadata": {},
     "output_type": "execute_result"
    }
   ],
   "source": [
    "# Local\n",
    "\n",
    "(lambda num:num*2)(2)"
   ]
  },
  {
   "cell_type": "code",
   "execution_count": 70,
   "id": "9a57b63c",
   "metadata": {},
   "outputs": [],
   "source": [
    "# Gloabl, Enclosing and Local\n",
    "\n",
    "name = \"GLOBAL\"\n",
    "\n",
    "def show():\n",
    "    \n",
    "    name = \"ENCLOSING\"\n",
    "    \n",
    "    def show_name():\n",
    "        \n",
    "        name = \"LOCAL\"\n",
    "        \n",
    "        print(\"Hello \" + name )\n",
    "    \n",
    "    show_name()"
   ]
  },
  {
   "cell_type": "code",
   "execution_count": 71,
   "id": "c87ab21d",
   "metadata": {},
   "outputs": [
    {
     "name": "stdout",
     "output_type": "stream",
     "text": [
      "Hello LOCAL\n"
     ]
    }
   ],
   "source": [
    "show()"
   ]
  },
  {
   "cell_type": "code",
   "execution_count": 72,
   "id": "8fc7cc4d",
   "metadata": {},
   "outputs": [],
   "source": [
    "# Comment 'LOCAL'\n",
    "\n",
    "name = \"GLOBAL\"\n",
    "\n",
    "def show():\n",
    "    \n",
    "    name = \"ENCLOSING\"\n",
    "    \n",
    "    def show_name():\n",
    "        \n",
    "        # name = \"LOCAL\"\n",
    "        \n",
    "        print(\"Hello \" + name )\n",
    "    \n",
    "    show_name()"
   ]
  },
  {
   "cell_type": "code",
   "execution_count": 73,
   "id": "a17b947f",
   "metadata": {},
   "outputs": [
    {
     "name": "stdout",
     "output_type": "stream",
     "text": [
      "Hello ENCLOSING\n"
     ]
    }
   ],
   "source": [
    "show()"
   ]
  },
  {
   "cell_type": "code",
   "execution_count": null,
   "id": "b17ad418",
   "metadata": {},
   "outputs": [],
   "source": []
  },
  {
   "cell_type": "code",
   "execution_count": 74,
   "id": "1a5e18b6",
   "metadata": {},
   "outputs": [],
   "source": [
    "# Comment 'ENCLOSING'\n",
    "\n",
    "name = \"GLOBAL\"\n",
    "\n",
    "def show():\n",
    "    \n",
    "    # name = \"ENCLOSING\"\n",
    "    \n",
    "    def show_name():\n",
    "        \n",
    "        # name = \"LOCAL\"\n",
    "        \n",
    "        print(\"Hello \" + name )\n",
    "    \n",
    "    show_name()"
   ]
  },
  {
   "cell_type": "code",
   "execution_count": 75,
   "id": "6c57db01",
   "metadata": {},
   "outputs": [
    {
     "name": "stdout",
     "output_type": "stream",
     "text": [
      "Hello GLOBAL\n"
     ]
    }
   ],
   "source": [
    "show()"
   ]
  },
  {
   "cell_type": "code",
   "execution_count": null,
   "id": "9c073858",
   "metadata": {},
   "outputs": [],
   "source": []
  },
  {
   "cell_type": "markdown",
   "id": "ed85ae76",
   "metadata": {},
   "source": [
    "### USe of `global` keyword"
   ]
  },
  {
   "cell_type": "code",
   "execution_count": 76,
   "id": "f022c9c3",
   "metadata": {},
   "outputs": [
    {
     "name": "stdout",
     "output_type": "stream",
     "text": [
      "X is 150\n"
     ]
    }
   ],
   "source": [
    "#GLOBAL\n",
    "x = 150\n",
    "\n",
    "def show(x):\n",
    "    print(f\"X is {x}\")\n",
    "\n",
    "show(x)"
   ]
  },
  {
   "cell_type": "code",
   "execution_count": 77,
   "id": "714311bf",
   "metadata": {},
   "outputs": [
    {
     "name": "stdout",
     "output_type": "stream",
     "text": [
      "X is 150\n",
      "Changes X is 200\n"
     ]
    }
   ],
   "source": [
    "# Adding Local variable\n",
    "\n",
    "#GLOBAL\n",
    "x = 150\n",
    "\n",
    "def show(x):\n",
    "    print(f\"X is {x}\")\n",
    "    \n",
    "    # LOCAL\n",
    "    x = 200\n",
    "    print(f\"Changes X is {x}\")\n",
    "\n",
    "show(x)"
   ]
  },
  {
   "cell_type": "code",
   "execution_count": 78,
   "id": "3f4cbc7f",
   "metadata": {},
   "outputs": [
    {
     "data": {
      "text/plain": [
       "150"
      ]
     },
     "execution_count": 78,
     "metadata": {},
     "output_type": "execute_result"
    }
   ],
   "source": [
    "#  No change in the x in reassignment (Scope is limited)\n",
    "x"
   ]
  },
  {
   "cell_type": "code",
   "execution_count": 79,
   "id": "efb8a163",
   "metadata": {},
   "outputs": [
    {
     "name": "stdout",
     "output_type": "stream",
     "text": [
      "X is 150\n",
      "Changes X is 500\n"
     ]
    }
   ],
   "source": [
    "# To chnage the x inside a function at local level\n",
    "\n",
    "#GLOBAL\n",
    "x = 150\n",
    "\n",
    "def show():\n",
    "    global x # Jump to global level and grab x\n",
    "    print(f\"X is {x}\")\n",
    "    \n",
    "    # LOCAL\n",
    "    x = 500 # Re assignment is on global level\n",
    "    print(f\"Changes X is {x}\")\n",
    "\n",
    "show()"
   ]
  },
  {
   "cell_type": "code",
   "execution_count": 80,
   "id": "217ddeb3",
   "metadata": {},
   "outputs": [
    {
     "data": {
      "text/plain": [
       "500"
      ]
     },
     "execution_count": 80,
     "metadata": {},
     "output_type": "execute_result"
    }
   ],
   "source": [
    "x"
   ]
  },
  {
   "cell_type": "markdown",
   "id": "49b5d448",
   "metadata": {},
   "source": [
    "### NOTE: Avoid Using Global unless necesary or use at advance level."
   ]
  },
  {
   "cell_type": "code",
   "execution_count": 81,
   "id": "e46f947d",
   "metadata": {},
   "outputs": [],
   "source": [
    "# Alternative way to reassign the global varaible\n",
    "\n",
    "#GLOBAL\n",
    "x = 150\n",
    "\n",
    "def show(x):\n",
    "    print(f\"X is {x}\")\n",
    "    \n",
    "    # LOCAL\n",
    "    x = 500 # Re assignment is on global level\n",
    "    print(f\"Changed X to {x}\")\n",
    "    \n",
    "    return x"
   ]
  },
  {
   "cell_type": "code",
   "execution_count": 82,
   "id": "924ce33e",
   "metadata": {},
   "outputs": [
    {
     "name": "stdout",
     "output_type": "stream",
     "text": [
      "X is 150\n",
      "Changed X to 500\n"
     ]
    }
   ],
   "source": [
    "x = show(x)"
   ]
  },
  {
   "cell_type": "code",
   "execution_count": 83,
   "id": "eebc5c3a",
   "metadata": {},
   "outputs": [
    {
     "data": {
      "text/plain": [
       "500"
      ]
     },
     "execution_count": 83,
     "metadata": {},
     "output_type": "execute_result"
    }
   ],
   "source": [
    "x"
   ]
  },
  {
   "cell_type": "markdown",
   "id": "965f759d",
   "metadata": {},
   "source": [
    "## Minor Project:\n",
    "\n",
    "1. Rock Paper Scissor : random shuffle\n",
    "2. Guess the number : random randint"
   ]
  },
  {
   "cell_type": "code",
   "execution_count": null,
   "id": "07c63d2e",
   "metadata": {},
   "outputs": [],
   "source": []
  },
  {
   "cell_type": "code",
   "execution_count": null,
   "id": "1680fe56",
   "metadata": {},
   "outputs": [],
   "source": []
  },
  {
   "cell_type": "code",
   "execution_count": null,
   "id": "9cc770b2",
   "metadata": {},
   "outputs": [],
   "source": []
  },
  {
   "cell_type": "code",
   "execution_count": null,
   "id": "34def0f3",
   "metadata": {},
   "outputs": [],
   "source": []
  }
 ],
 "metadata": {
  "kernelspec": {
   "display_name": "Python 3",
   "language": "python",
   "name": "python3"
  },
  "language_info": {
   "codemirror_mode": {
    "name": "ipython",
    "version": 3
   },
   "file_extension": ".py",
   "mimetype": "text/x-python",
   "name": "python",
   "nbconvert_exporter": "python",
   "pygments_lexer": "ipython3",
   "version": "3.8.5"
  }
 },
 "nbformat": 4,
 "nbformat_minor": 5
}
