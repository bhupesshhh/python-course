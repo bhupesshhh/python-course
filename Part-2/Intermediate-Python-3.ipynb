{
 "cells": [
  {
   "cell_type": "markdown",
   "id": "a9a3b743",
   "metadata": {},
   "source": [
    "# Intermediate Python 3\n",
    "\n",
    "* Python Regular Expression\n",
    "* Timing with Python Code\n",
    "* Zipping and Unzipping Files\n",
    "* Making own modules and packages"
   ]
  },
  {
   "cell_type": "markdown",
   "id": "e5c884ca",
   "metadata": {},
   "source": [
    "## 3.1 Python Regular Expressions\n",
    "\n",
    "Helps in searching for something like soome elements or strings in a big set of words or paragraph.\n",
    "\n",
    "**regex: Regular Expressions**\n",
    "\n",
    "Helps us to look for a pattern or expression\n",
    "\n",
    "For emails : `user@email.com`\n",
    "\n",
    "like : `text` + **`@`** `text` + **`.com`**\n",
    "\n",
    "* Things we know - `@` and `.com`\n",
    "* Things we don't know - `text`\n",
    "\n",
    "> **for more info : https://docs.python.org/3/library/re.html**"
   ]
  },
  {
   "cell_type": "markdown",
   "id": "4a3a0472",
   "metadata": {},
   "source": [
    "### General Way: Use`in` for searching\n",
    "\n",
    "\n",
    "Till now we have used `in` for sorting and searching out the keywords. But its scope is limited up to some known words or patterns. We cannot search for something very general.\n",
    "\n",
    "* Limitations:\n",
    "> 1. Needs to see if the cases are matching or not\n",
    "> 2. Needs to filter out the punctuation symbols\n",
    "> 3. What if we are looking of variety of things like all the emails or phone numbers."
   ]
  },
  {
   "cell_type": "code",
   "execution_count": 1,
   "id": "70657265",
   "metadata": {},
   "outputs": [
    {
     "data": {
      "text/plain": [
       "True"
      ]
     },
     "execution_count": 1,
     "metadata": {},
     "output_type": "execute_result"
    }
   ],
   "source": [
    "\"name\" in \"My name is bhupesh\""
   ]
  },
  {
   "cell_type": "code",
   "execution_count": 2,
   "id": "d9fa19f2",
   "metadata": {},
   "outputs": [],
   "source": [
    "mylist = [\"Bhupesh\",\"Suman\",\"Ankush\"]"
   ]
  },
  {
   "cell_type": "code",
   "execution_count": 3,
   "id": "70dc40d3",
   "metadata": {},
   "outputs": [
    {
     "data": {
      "text/plain": [
       "False"
      ]
     },
     "execution_count": 3,
     "metadata": {},
     "output_type": "execute_result"
    }
   ],
   "source": [
    "\"bhupesh\" in mylist # Need to check for exact term"
   ]
  },
  {
   "cell_type": "code",
   "execution_count": null,
   "id": "84845279",
   "metadata": {},
   "outputs": [],
   "source": []
  },
  {
   "cell_type": "markdown",
   "id": "6200fe84",
   "metadata": {},
   "source": [
    "### Use Regex\n",
    "\n",
    "Allows us to search for speacialised patterned strings for matches within some text\n",
    "\n",
    "Understand how to make and look for patterns\n",
    "\n",
    "Example :\n",
    "> * For : `(011)-22334455`\n",
    "> * regex : `\"(\\d\\d\\d)-\\d\\d\\d\\d\\d\\d\\d\"`"
   ]
  },
  {
   "cell_type": "markdown",
   "id": "300064dd",
   "metadata": {},
   "source": [
    "### 3.1.1 Search for Basic Patterns\n",
    "\n",
    "with `re.search()`"
   ]
  },
  {
   "cell_type": "code",
   "execution_count": 4,
   "id": "bed5d785",
   "metadata": {},
   "outputs": [
    {
     "data": {
      "text/plain": [
       "True"
      ]
     },
     "execution_count": 4,
     "metadata": {},
     "output_type": "execute_result"
    }
   ],
   "source": [
    "\"name\" in \"My name is bhupesh\""
   ]
  },
  {
   "cell_type": "code",
   "execution_count": 5,
   "id": "a71adb85",
   "metadata": {},
   "outputs": [],
   "source": [
    "import re"
   ]
  },
  {
   "cell_type": "code",
   "execution_count": 6,
   "id": "40dac804",
   "metadata": {},
   "outputs": [],
   "source": [
    "pattern = \"name\"\n",
    "\n",
    "text = \"My name is bhupesh\""
   ]
  },
  {
   "cell_type": "code",
   "execution_count": 7,
   "id": "b0f40019",
   "metadata": {},
   "outputs": [
    {
     "data": {
      "text/plain": [
       "<re.Match object; span=(3, 7), match='name'>"
      ]
     },
     "execution_count": 7,
     "metadata": {},
     "output_type": "execute_result"
    }
   ],
   "source": [
    "re.search(pattern,text) # Searching for the particular pattern within a text"
   ]
  },
  {
   "cell_type": "markdown",
   "id": "9a5d0d3f",
   "metadata": {},
   "source": [
    "**Result: Shows us the postion of the pattern in a searching file**"
   ]
  },
  {
   "cell_type": "code",
   "execution_count": 8,
   "id": "42b6fa93",
   "metadata": {},
   "outputs": [],
   "source": [
    "# What if we search something that's not in the file\n",
    "\n",
    "pattern = \"Hello\""
   ]
  },
  {
   "cell_type": "code",
   "execution_count": 9,
   "id": "3dbc082b",
   "metadata": {},
   "outputs": [],
   "source": [
    "re.search(pattern,text) # We get an empty result"
   ]
  },
  {
   "cell_type": "markdown",
   "id": "7fc42230",
   "metadata": {},
   "source": [
    "**What does the `re.search()` do ?**\n",
    "\n",
    "1. Take the pattern\n",
    "2. Scan the file\n",
    "3. Report if found"
   ]
  },
  {
   "cell_type": "markdown",
   "id": "9b6159bf",
   "metadata": {},
   "source": [
    "### 3.1.2 Save the result of regex search"
   ]
  },
  {
   "cell_type": "code",
   "execution_count": 10,
   "id": "87173d64",
   "metadata": {},
   "outputs": [],
   "source": [
    "pattern = \"name\"\n",
    "\n",
    "text = \"My name is bhupesh\""
   ]
  },
  {
   "cell_type": "code",
   "execution_count": 11,
   "id": "525f53d3",
   "metadata": {},
   "outputs": [],
   "source": [
    "# We can save the result into a varibale to get more information out of it\n",
    "\n",
    "match = re.search(pattern,text)"
   ]
  },
  {
   "cell_type": "code",
   "execution_count": 12,
   "id": "22712ca0",
   "metadata": {},
   "outputs": [
    {
     "data": {
      "text/plain": [
       "<re.Match object; span=(3, 7), match='name'>"
      ]
     },
     "execution_count": 12,
     "metadata": {},
     "output_type": "execute_result"
    }
   ],
   "source": [
    "match"
   ]
  },
  {
   "cell_type": "code",
   "execution_count": 13,
   "id": "bb0b71b9",
   "metadata": {},
   "outputs": [
    {
     "data": {
      "text/plain": [
       "re.Match"
      ]
     },
     "execution_count": 13,
     "metadata": {},
     "output_type": "execute_result"
    }
   ],
   "source": [
    "# Check the type\n",
    "\n",
    "type(match) # It's a regular expression object"
   ]
  },
  {
   "cell_type": "markdown",
   "id": "5ec60c74",
   "metadata": {},
   "source": [
    "### 3.1.3 Information we can get from regex result"
   ]
  },
  {
   "cell_type": "code",
   "execution_count": 14,
   "id": "bc972ebb",
   "metadata": {},
   "outputs": [
    {
     "data": {
      "text/plain": [
       "(3, 7)"
      ]
     },
     "execution_count": 14,
     "metadata": {},
     "output_type": "execute_result"
    }
   ],
   "source": [
    "match.span() # To check the postion and span of the patterns"
   ]
  },
  {
   "cell_type": "code",
   "execution_count": 15,
   "id": "f9584122",
   "metadata": {},
   "outputs": [
    {
     "data": {
      "text/plain": [
       "3"
      ]
     },
     "execution_count": 15,
     "metadata": {},
     "output_type": "execute_result"
    }
   ],
   "source": [
    "match.start()  # To get the starting index"
   ]
  },
  {
   "cell_type": "code",
   "execution_count": 16,
   "id": "4bbe9f6b",
   "metadata": {},
   "outputs": [
    {
     "data": {
      "text/plain": [
       "7"
      ]
     },
     "execution_count": 16,
     "metadata": {},
     "output_type": "execute_result"
    }
   ],
   "source": [
    "match.end() # To get the ending index"
   ]
  },
  {
   "cell_type": "code",
   "execution_count": 17,
   "id": "f6ab1fbc",
   "metadata": {},
   "outputs": [],
   "source": [
    "# We can get a lot of information from that"
   ]
  },
  {
   "cell_type": "code",
   "execution_count": null,
   "id": "ae263023",
   "metadata": {},
   "outputs": [],
   "source": []
  },
  {
   "cell_type": "code",
   "execution_count": null,
   "id": "5d1f8efa",
   "metadata": {},
   "outputs": [],
   "source": []
  },
  {
   "cell_type": "markdown",
   "id": "348f39d7",
   "metadata": {},
   "source": [
    "#### What if we search something that's lower or upper case"
   ]
  },
  {
   "cell_type": "code",
   "execution_count": 18,
   "id": "619a7fc5",
   "metadata": {},
   "outputs": [],
   "source": [
    "pattern = \"Hello\"\n",
    "\n",
    "text = \"hello bhupesh, how are you ?\""
   ]
  },
  {
   "cell_type": "code",
   "execution_count": 19,
   "id": "e47509f3",
   "metadata": {},
   "outputs": [],
   "source": [
    "re.search(pattern,text) # We don't get the result"
   ]
  },
  {
   "cell_type": "code",
   "execution_count": null,
   "id": "7fcee6cc",
   "metadata": {},
   "outputs": [],
   "source": []
  },
  {
   "cell_type": "markdown",
   "id": "0504494b",
   "metadata": {},
   "source": [
    "#### What if the search patterns is more than once in the file "
   ]
  },
  {
   "cell_type": "code",
   "execution_count": 20,
   "id": "94a6a668",
   "metadata": {},
   "outputs": [],
   "source": [
    "pattern = \"hello\"\n",
    "\n",
    "text = \"hello bhupesh, hello aknusk, hello garima\""
   ]
  },
  {
   "cell_type": "code",
   "execution_count": 21,
   "id": "2d1ad24f",
   "metadata": {},
   "outputs": [
    {
     "data": {
      "text/plain": [
       "<re.Match object; span=(0, 5), match='hello'>"
      ]
     },
     "execution_count": 21,
     "metadata": {},
     "output_type": "execute_result"
    }
   ],
   "source": [
    "re.search(pattern,text) # We'll only get information about the first result"
   ]
  },
  {
   "cell_type": "code",
   "execution_count": null,
   "id": "08f5d490",
   "metadata": {},
   "outputs": [],
   "source": []
  },
  {
   "cell_type": "markdown",
   "id": "7aba88f9",
   "metadata": {},
   "source": [
    "### 3.1.4 How to get result for multiple matches\n",
    "\n",
    "with `re.findall()`"
   ]
  },
  {
   "cell_type": "code",
   "execution_count": 22,
   "id": "176c0e58",
   "metadata": {},
   "outputs": [],
   "source": [
    "pattern = \"hello\"\n",
    "\n",
    "text = \"hello bhupesh, hello aknusk, hello garima\""
   ]
  },
  {
   "cell_type": "code",
   "execution_count": 23,
   "id": "f9a88a11",
   "metadata": {},
   "outputs": [
    {
     "data": {
      "text/plain": [
       "['hello', 'hello', 'hello']"
      ]
     },
     "execution_count": 23,
     "metadata": {},
     "output_type": "execute_result"
    }
   ],
   "source": [
    "re.findall(pattern,text)"
   ]
  },
  {
   "cell_type": "code",
   "execution_count": 24,
   "id": "d4212d41",
   "metadata": {},
   "outputs": [],
   "source": [
    "matches = re.findall(pattern,text)"
   ]
  },
  {
   "cell_type": "code",
   "execution_count": 25,
   "id": "93c0b2ab",
   "metadata": {},
   "outputs": [
    {
     "data": {
      "text/plain": [
       "['hello', 'hello', 'hello']"
      ]
     },
     "execution_count": 25,
     "metadata": {},
     "output_type": "execute_result"
    }
   ],
   "source": [
    "matches # We'll get the list of all the avraibale matches"
   ]
  },
  {
   "cell_type": "code",
   "execution_count": null,
   "id": "e27e4523",
   "metadata": {},
   "outputs": [],
   "source": []
  },
  {
   "cell_type": "code",
   "execution_count": null,
   "id": "edb09475",
   "metadata": {},
   "outputs": [],
   "source": []
  },
  {
   "cell_type": "markdown",
   "id": "4daeba89",
   "metadata": {},
   "source": [
    "### 3.1.5 How to get result for multiple matches with iteration\n",
    "\n",
    "with `re.finditer()`"
   ]
  },
  {
   "cell_type": "code",
   "execution_count": 26,
   "id": "3c1200a7",
   "metadata": {},
   "outputs": [],
   "source": [
    "pattern = \"hello\"\n",
    "\n",
    "text = \"hello bhupesh, hello aknusk, hello garima\""
   ]
  },
  {
   "cell_type": "code",
   "execution_count": 27,
   "id": "1a0d052b",
   "metadata": {},
   "outputs": [
    {
     "name": "stdout",
     "output_type": "stream",
     "text": [
      "(0, 5)\n",
      "(15, 20)\n",
      "(29, 34)\n"
     ]
    }
   ],
   "source": [
    "for match in re.finditer(pattern,text):\n",
    "    print(match.span()) # WE can print out the span"
   ]
  },
  {
   "cell_type": "code",
   "execution_count": 28,
   "id": "3387be30",
   "metadata": {},
   "outputs": [
    {
     "name": "stdout",
     "output_type": "stream",
     "text": [
      "hello\n",
      "hello\n",
      "hello\n"
     ]
    }
   ],
   "source": [
    "# If we wanna print the actual result\n",
    "\n",
    "for match in re.finditer(pattern,text):\n",
    "    print(match.group()) # WE can print out the span"
   ]
  },
  {
   "cell_type": "code",
   "execution_count": null,
   "id": "a11d9080",
   "metadata": {},
   "outputs": [],
   "source": []
  },
  {
   "cell_type": "code",
   "execution_count": null,
   "id": "8a870372",
   "metadata": {},
   "outputs": [],
   "source": []
  },
  {
   "cell_type": "markdown",
   "id": "e6254f97",
   "metadata": {},
   "source": [
    "### Regular Expression Codes\n",
    "\n",
    "* We learned how to do a pattern search \n",
    "\n",
    "* Now, we'll learn about making the regular expressions patterns with identifiable syntax"
   ]
  },
  {
   "cell_type": "markdown",
   "id": "4b826074",
   "metadata": {},
   "source": [
    "### Possible Character Identifiers\n",
    "\n",
    "<table ><tr><th>Character</th><th>Description</th><th>Example Pattern Code</th><th >Exammple Match</th></tr>\n",
    "\n",
    "<tr ><td><span >\\d</span></td><td>A digit</td><td>file_\\d\\d</td><td>file_25</td></tr>\n",
    "\n",
    "<tr ><td><span >\\w</span></td><td>Alphanumeric</td><td>\\w-\\w\\w\\w</td><td>A-b_1</td></tr>\n",
    "\n",
    "\n",
    "\n",
    "<tr ><td><span >\\s</span></td><td>White space</td><td>a\\sb\\sc</td><td>a b c</td></tr>\n",
    "\n",
    "\n",
    "\n",
    "<tr ><td><span >\\D</span></td><td>A non digit</td><td>\\D\\D\\D</td><td>ABC</td></tr>\n",
    "\n",
    "<tr ><td><span >\\W</span></td><td>Non-alphanumeric</td><td>\\W\\W\\W\\W\\W</td><td>*-+=)</td></tr>\n",
    "\n",
    "<tr ><td><span >\\S</span></td><td>Non-whitespace</td><td>\\S\\S\\S\\S</td><td>Yoyo</td></tr></table>"
   ]
  },
  {
   "cell_type": "markdown",
   "id": "217f3ad7",
   "metadata": {},
   "source": [
    "### 3.1.6 Search for a pattern with identifiers"
   ]
  },
  {
   "cell_type": "code",
   "execution_count": 29,
   "id": "75f31548",
   "metadata": {},
   "outputs": [],
   "source": [
    "text = \"My phone number is 011-1234567\""
   ]
  },
  {
   "cell_type": "code",
   "execution_count": 30,
   "id": "2b7ac811",
   "metadata": {},
   "outputs": [],
   "source": [
    "phone_number = re.search(\"011-1234567\", text)"
   ]
  },
  {
   "cell_type": "code",
   "execution_count": 31,
   "id": "1eb4c915",
   "metadata": {},
   "outputs": [
    {
     "data": {
      "text/plain": [
       "<re.Match object; span=(19, 30), match='011-1234567'>"
      ]
     },
     "execution_count": 31,
     "metadata": {},
     "output_type": "execute_result"
    }
   ],
   "source": [
    "phone_number"
   ]
  },
  {
   "cell_type": "code",
   "execution_count": 32,
   "id": "fb65bb76",
   "metadata": {},
   "outputs": [
    {
     "data": {
      "text/plain": [
       "'011-1234567'"
      ]
     },
     "execution_count": 32,
     "metadata": {},
     "output_type": "execute_result"
    }
   ],
   "source": [
    "phone_number.group()"
   ]
  },
  {
   "cell_type": "code",
   "execution_count": 33,
   "id": "76d6062d",
   "metadata": {},
   "outputs": [],
   "source": [
    "# But we may not know the exact number all the time\n",
    "\n",
    "phone_number = re.search(r\"\\d\\d\\d-\\d\\d\\d\\d\\d\\d\\d\", text)"
   ]
  },
  {
   "cell_type": "code",
   "execution_count": 34,
   "id": "736fdca5",
   "metadata": {},
   "outputs": [
    {
     "data": {
      "text/plain": [
       "<re.Match object; span=(19, 30), match='011-1234567'>"
      ]
     },
     "execution_count": 34,
     "metadata": {},
     "output_type": "execute_result"
    }
   ],
   "source": [
    "phone_number"
   ]
  },
  {
   "cell_type": "code",
   "execution_count": 35,
   "id": "a6968640",
   "metadata": {},
   "outputs": [
    {
     "data": {
      "text/plain": [
       "'011-1234567'"
      ]
     },
     "execution_count": 35,
     "metadata": {},
     "output_type": "execute_result"
    }
   ],
   "source": [
    "phone_number.group()"
   ]
  },
  {
   "cell_type": "code",
   "execution_count": 36,
   "id": "e1b96456",
   "metadata": {},
   "outputs": [],
   "source": [
    "# What if we have a lot of phone numbers\n",
    "\n",
    "\n",
    "text = \"My phone number is 011-1234567, My phone number is 011-1121212, My phone number is 123-1234567\""
   ]
  },
  {
   "cell_type": "code",
   "execution_count": 37,
   "id": "284f9079",
   "metadata": {},
   "outputs": [],
   "source": [
    "phone_numbers = re.findall(r\"\\d\\d\\d-\\d\\d\\d\\d\\d\\d\\d\", text)"
   ]
  },
  {
   "cell_type": "code",
   "execution_count": 38,
   "id": "e9a6bb76",
   "metadata": {},
   "outputs": [
    {
     "data": {
      "text/plain": [
       "['011-1234567', '011-1121212', '123-1234567']"
      ]
     },
     "execution_count": 38,
     "metadata": {},
     "output_type": "execute_result"
    }
   ],
   "source": [
    "phone_numbers"
   ]
  },
  {
   "cell_type": "code",
   "execution_count": 39,
   "id": "d835953c",
   "metadata": {},
   "outputs": [
    {
     "name": "stdout",
     "output_type": "stream",
     "text": [
      "011-1234567\n",
      "011-1121212\n",
      "123-1234567\n"
     ]
    }
   ],
   "source": [
    "#We can also iterate through all\n",
    "\n",
    "\n",
    "for match in re.finditer(r\"\\d\\d\\d-\\d\\d\\d\\d\\d\\d\\d\", text):\n",
    "    print(match.group())"
   ]
  },
  {
   "cell_type": "code",
   "execution_count": null,
   "id": "ecfd1859",
   "metadata": {},
   "outputs": [],
   "source": []
  },
  {
   "cell_type": "code",
   "execution_count": null,
   "id": "512ac631",
   "metadata": {},
   "outputs": [],
   "source": []
  },
  {
   "cell_type": "markdown",
   "id": "d6f1b0c5",
   "metadata": {},
   "source": [
    "### Possible Quantifiers\n",
    "\n",
    "<table ><tr><th>Character</th><th>Description</th><th>Example Pattern Code</th><th >Exammple Match</th></tr>\n",
    "\n",
    "<tr ><td><span >+</span></td><td>Occurs one or more times</td><td>\tVersion \\w-\\w+</td><td>Version A-b1_1</td></tr>\n",
    "\n",
    "<tr ><td><span >{3}</span></td><td>Occurs exactly 3 times</td><td>\\D{3}</td><td>abc</td></tr>\n",
    "\n",
    "\n",
    "\n",
    "<tr ><td><span >{2,4}</span></td><td>Occurs 2 to 4 times</td><td>\\d{2,4}</td><td>123</td></tr>\n",
    "\n",
    "\n",
    "\n",
    "<tr ><td><span >{3,}</span></td><td>Occurs 3 or more</td><td>\\w{3,}</td><td>anycharacters</td></tr>\n",
    "\n",
    "<tr ><td><span >\\*</span></td><td>Occurs zero or more times</td><td>A\\*B\\*C*</td><td>AAACC</td></tr>\n",
    "\n",
    "<tr ><td><span >?</span></td><td>Once or none</td><td>plurals?</td><td>plural</td></tr></table>"
   ]
  },
  {
   "cell_type": "markdown",
   "id": "7536b190",
   "metadata": {},
   "source": [
    "### 3.1.7 Search for a pattern with identifiers and qunatifiers"
   ]
  },
  {
   "cell_type": "code",
   "execution_count": 40,
   "id": "d187fe07",
   "metadata": {},
   "outputs": [],
   "source": [
    "text = \"My phone number is 011-1234567\""
   ]
  },
  {
   "cell_type": "code",
   "execution_count": 41,
   "id": "cf0ef5a6",
   "metadata": {},
   "outputs": [],
   "source": [
    "phone_number = re.search(r\"\\d{3}-\\d{7}\", text)"
   ]
  },
  {
   "cell_type": "code",
   "execution_count": 42,
   "id": "5544c29e",
   "metadata": {},
   "outputs": [
    {
     "data": {
      "text/plain": [
       "<re.Match object; span=(19, 30), match='011-1234567'>"
      ]
     },
     "execution_count": 42,
     "metadata": {},
     "output_type": "execute_result"
    }
   ],
   "source": [
    "phone_number"
   ]
  },
  {
   "cell_type": "code",
   "execution_count": 43,
   "id": "5338b991",
   "metadata": {},
   "outputs": [
    {
     "data": {
      "text/plain": [
       "'011-1234567'"
      ]
     },
     "execution_count": 43,
     "metadata": {},
     "output_type": "execute_result"
    }
   ],
   "source": [
    "phone_number.group()"
   ]
  },
  {
   "cell_type": "markdown",
   "id": "94514709",
   "metadata": {},
   "source": [
    "#### We can also do grouping to get seperate section of phone number i.e area code"
   ]
  },
  {
   "cell_type": "code",
   "execution_count": 44,
   "id": "e2c2b52b",
   "metadata": {},
   "outputs": [],
   "source": [
    "text = \"My phone number is 011-1234567\""
   ]
  },
  {
   "cell_type": "code",
   "execution_count": 45,
   "id": "96a98a61",
   "metadata": {},
   "outputs": [],
   "source": [
    "phone_pattern = re.compile(r\"(\\d{3})-(\\d{7})\")"
   ]
  },
  {
   "cell_type": "code",
   "execution_count": 46,
   "id": "ceb31007",
   "metadata": {},
   "outputs": [],
   "source": [
    "phone_number = re.search(phone_pattern,text)"
   ]
  },
  {
   "cell_type": "code",
   "execution_count": 47,
   "id": "989f02bc",
   "metadata": {},
   "outputs": [
    {
     "data": {
      "text/plain": [
       "'011-1234567'"
      ]
     },
     "execution_count": 47,
     "metadata": {},
     "output_type": "execute_result"
    }
   ],
   "source": [
    "phone_number.group()"
   ]
  },
  {
   "cell_type": "code",
   "execution_count": 48,
   "id": "3580f0f2",
   "metadata": {},
   "outputs": [
    {
     "data": {
      "text/plain": [
       "'011'"
      ]
     },
     "execution_count": 48,
     "metadata": {},
     "output_type": "execute_result"
    }
   ],
   "source": [
    "phone_number.group(1) # Area code seperately"
   ]
  },
  {
   "cell_type": "code",
   "execution_count": 49,
   "id": "209c4db7",
   "metadata": {},
   "outputs": [
    {
     "data": {
      "text/plain": [
       "'1234567'"
      ]
     },
     "execution_count": 49,
     "metadata": {},
     "output_type": "execute_result"
    }
   ],
   "source": [
    "phone_number.group(2) # Number seperately"
   ]
  },
  {
   "cell_type": "markdown",
   "id": "c93931a6",
   "metadata": {},
   "source": [
    "**Note:** Unlike python the indexing here starts from 1 (Not 0)"
   ]
  },
  {
   "cell_type": "code",
   "execution_count": null,
   "id": "7be87135",
   "metadata": {},
   "outputs": [],
   "source": []
  },
  {
   "cell_type": "markdown",
   "id": "0d904fdd",
   "metadata": {},
   "source": [
    "### Let's try all this for an email"
   ]
  },
  {
   "cell_type": "code",
   "execution_count": 50,
   "id": "67629129",
   "metadata": {},
   "outputs": [],
   "source": [
    "text = \"My email address is bhupeshc02@gmail.com\""
   ]
  },
  {
   "cell_type": "code",
   "execution_count": 51,
   "id": "ea44680c",
   "metadata": {},
   "outputs": [],
   "source": [
    "# With identifiers and quantifiers\n",
    "email = re.search(r\"\\w{5,}@\\w{2,}.com\", text)"
   ]
  },
  {
   "cell_type": "code",
   "execution_count": 52,
   "id": "b8248340",
   "metadata": {},
   "outputs": [
    {
     "data": {
      "text/plain": [
       "'bhupeshc02@gmail.com'"
      ]
     },
     "execution_count": 52,
     "metadata": {},
     "output_type": "execute_result"
    }
   ],
   "source": [
    "email.group()"
   ]
  },
  {
   "cell_type": "code",
   "execution_count": 53,
   "id": "20d33a6a",
   "metadata": {},
   "outputs": [],
   "source": [
    "# With grouping\n",
    "email_pattern = re.compile(r\"(\\w{5,})@(\\w{2,}.com)\")"
   ]
  },
  {
   "cell_type": "code",
   "execution_count": 54,
   "id": "2a3945d2",
   "metadata": {},
   "outputs": [],
   "source": [
    "email = re.search(email_pattern,text)"
   ]
  },
  {
   "cell_type": "code",
   "execution_count": 55,
   "id": "c7324b34",
   "metadata": {},
   "outputs": [
    {
     "data": {
      "text/plain": [
       "'bhupeshc02@gmail.com'"
      ]
     },
     "execution_count": 55,
     "metadata": {},
     "output_type": "execute_result"
    }
   ],
   "source": [
    "email.group()"
   ]
  },
  {
   "cell_type": "code",
   "execution_count": 56,
   "id": "a3755888",
   "metadata": {},
   "outputs": [
    {
     "data": {
      "text/plain": [
       "'bhupeshc02'"
      ]
     },
     "execution_count": 56,
     "metadata": {},
     "output_type": "execute_result"
    }
   ],
   "source": [
    "email.group(1) # For the username"
   ]
  },
  {
   "cell_type": "code",
   "execution_count": 57,
   "id": "7d751255",
   "metadata": {},
   "outputs": [
    {
     "data": {
      "text/plain": [
       "'gmail.com'"
      ]
     },
     "execution_count": 57,
     "metadata": {},
     "output_type": "execute_result"
    }
   ],
   "source": [
    "email.group(2) # For the domain"
   ]
  },
  {
   "cell_type": "code",
   "execution_count": null,
   "id": "f89619f8",
   "metadata": {},
   "outputs": [],
   "source": []
  },
  {
   "cell_type": "markdown",
   "id": "e101612b",
   "metadata": {},
   "source": [
    "### 3.1.8 Search for a pattern with or operator"
   ]
  },
  {
   "cell_type": "code",
   "execution_count": 58,
   "id": "a58f88e3",
   "metadata": {},
   "outputs": [
    {
     "data": {
      "text/plain": [
       "<re.Match object; span=(4, 8), match='moon'>"
      ]
     },
     "execution_count": 58,
     "metadata": {},
     "output_type": "execute_result"
    }
   ],
   "source": [
    "# Search of moon\n",
    "\n",
    "re.search(r\"moon\", \"the moon is high up in the sky\")"
   ]
  },
  {
   "cell_type": "code",
   "execution_count": 59,
   "id": "c924a244",
   "metadata": {},
   "outputs": [],
   "source": [
    "# What if there can be sun or moon\n",
    "\n",
    "text = \"the sun is high up in the sky\""
   ]
  },
  {
   "cell_type": "code",
   "execution_count": 60,
   "id": "9ca5a9e6",
   "metadata": {},
   "outputs": [
    {
     "data": {
      "text/plain": [
       "<re.Match object; span=(4, 7), match='sun'>"
      ]
     },
     "execution_count": 60,
     "metadata": {},
     "output_type": "execute_result"
    }
   ],
   "source": [
    "re.search(r\"moon|sun\",text) # pipe operator `|` works as or operator"
   ]
  },
  {
   "cell_type": "code",
   "execution_count": null,
   "id": "dbcf8055",
   "metadata": {},
   "outputs": [],
   "source": []
  },
  {
   "cell_type": "code",
   "execution_count": null,
   "id": "09e8335b",
   "metadata": {},
   "outputs": [],
   "source": []
  },
  {
   "cell_type": "markdown",
   "id": "cce351be",
   "metadata": {},
   "source": [
    "### 3.1.9 Search for a pattern with Wild Card Operator"
   ]
  },
  {
   "cell_type": "code",
   "execution_count": 61,
   "id": "e37a00ba",
   "metadata": {},
   "outputs": [],
   "source": [
    "text = \"Bhupesh, Ramesh and Suresh are at club house\""
   ]
  },
  {
   "cell_type": "code",
   "execution_count": 62,
   "id": "3e95df61",
   "metadata": {},
   "outputs": [
    {
     "data": {
      "text/plain": [
       "['sh', 'sh', 'sh']"
      ]
     },
     "execution_count": 62,
     "metadata": {},
     "output_type": "execute_result"
    }
   ],
   "source": [
    "re.findall(r\"sh\",text) # To find all the names ending with sh"
   ]
  },
  {
   "cell_type": "code",
   "execution_count": 63,
   "id": "1856df6a",
   "metadata": {},
   "outputs": [
    {
     "data": {
      "text/plain": [
       "['hupesh', 'Ramesh', 'Suresh']"
      ]
     },
     "execution_count": 63,
     "metadata": {},
     "output_type": "execute_result"
    }
   ],
   "source": [
    "# How to get the actual names ?\n",
    "## With Period (Wild Card Operator)\n",
    "\n",
    "re.findall(r\"....sh\",text)"
   ]
  },
  {
   "cell_type": "code",
   "execution_count": 64,
   "id": "75d2e162",
   "metadata": {},
   "outputs": [
    {
     "data": {
      "text/plain": [
       "['Bhupesh', ' Ramesh', ' Suresh']"
      ]
     },
     "execution_count": 64,
     "metadata": {},
     "output_type": "execute_result"
    }
   ],
   "source": [
    "# But we are still missing `B` in Bhupesh\n",
    "\n",
    "re.findall(r\".....sh\",text) # Here we'll get additional white spaces in the other names"
   ]
  },
  {
   "cell_type": "code",
   "execution_count": 65,
   "id": "416813cf",
   "metadata": {},
   "outputs": [
    {
     "data": {
      "text/plain": [
       "['Bhupesh', 'Ramesh', 'Suresh']"
      ]
     },
     "execution_count": 65,
     "metadata": {},
     "output_type": "execute_result"
    }
   ],
   "source": [
    "re.findall(r\"\\w+sh\",text) # Here we got all our names by combining the wild card with quantifiers"
   ]
  },
  {
   "cell_type": "code",
   "execution_count": null,
   "id": "535117cf",
   "metadata": {},
   "outputs": [],
   "source": []
  },
  {
   "cell_type": "code",
   "execution_count": null,
   "id": "08650666",
   "metadata": {},
   "outputs": [],
   "source": []
  },
  {
   "cell_type": "markdown",
   "id": "32352f40",
   "metadata": {},
   "source": [
    "### 3.1.10 Search for a pattern with Starts With Operator"
   ]
  },
  {
   "cell_type": "code",
   "execution_count": 66,
   "id": "7f6b678c",
   "metadata": {},
   "outputs": [],
   "source": [
    "text = \"12bhupesh is at the 123 apartment at 24 lane.\""
   ]
  },
  {
   "cell_type": "code",
   "execution_count": 67,
   "id": "450e16eb",
   "metadata": {},
   "outputs": [
    {
     "data": {
      "text/plain": [
       "['12']"
      ]
     },
     "execution_count": 67,
     "metadata": {},
     "output_type": "execute_result"
    }
   ],
   "source": [
    "# Here we wanna grab number if the string starts with number\n",
    "\n",
    "re.findall(r\"^\\d+\",text)"
   ]
  },
  {
   "cell_type": "code",
   "execution_count": 68,
   "id": "2058550f",
   "metadata": {},
   "outputs": [
    {
     "data": {
      "text/plain": [
       "['']"
      ]
     },
     "execution_count": 68,
     "metadata": {},
     "output_type": "execute_result"
    }
   ],
   "source": [
    "text = \"bhupesh is at the 123 apartment at 24 lane.\"\n",
    "\n",
    "re.findall(r\"^\\d*\",text) # We won't get any result as the straing doesn't starts with a number"
   ]
  },
  {
   "cell_type": "code",
   "execution_count": null,
   "id": "c287c670",
   "metadata": {},
   "outputs": [],
   "source": []
  },
  {
   "cell_type": "markdown",
   "id": "32c9cd66",
   "metadata": {},
   "source": [
    "### 3.1.11 Search for a pattern with Ends With Operator"
   ]
  },
  {
   "cell_type": "code",
   "execution_count": 69,
   "id": "3c2e9b5f",
   "metadata": {},
   "outputs": [],
   "source": [
    "text = \"Bhupesh is living at B24\""
   ]
  },
  {
   "cell_type": "code",
   "execution_count": 70,
   "id": "df8c4bcc",
   "metadata": {},
   "outputs": [
    {
     "data": {
      "text/plain": [
       "['24']"
      ]
     },
     "execution_count": 70,
     "metadata": {},
     "output_type": "execute_result"
    }
   ],
   "source": [
    "# Here we wanna grab number if the string ends with number\n",
    "\n",
    "re.findall(r\"\\d+$\",text)"
   ]
  },
  {
   "cell_type": "code",
   "execution_count": null,
   "id": "4c57b842",
   "metadata": {},
   "outputs": [],
   "source": []
  },
  {
   "cell_type": "code",
   "execution_count": null,
   "id": "fdad127c",
   "metadata": {},
   "outputs": [],
   "source": []
  },
  {
   "cell_type": "markdown",
   "id": "59dade7e",
   "metadata": {},
   "source": [
    "### 3.1.12 Search for a pattern with some exclusion"
   ]
  },
  {
   "cell_type": "code",
   "execution_count": 71,
   "id": "e73f9716",
   "metadata": {},
   "outputs": [],
   "source": [
    "text = \"bhupesh is 24 years old but 54 kilogram in weight\""
   ]
  },
  {
   "cell_type": "code",
   "execution_count": 72,
   "id": "d9f58385",
   "metadata": {},
   "outputs": [
    {
     "data": {
      "text/plain": [
       "['b',\n",
       " 'h',\n",
       " 'u',\n",
       " 'p',\n",
       " 'e',\n",
       " 's',\n",
       " 'h',\n",
       " ' ',\n",
       " 'i',\n",
       " 's',\n",
       " ' ',\n",
       " ' ',\n",
       " 'y',\n",
       " 'e',\n",
       " 'a',\n",
       " 'r',\n",
       " 's',\n",
       " ' ',\n",
       " 'o',\n",
       " 'l',\n",
       " 'd',\n",
       " ' ',\n",
       " 'b',\n",
       " 'u',\n",
       " 't',\n",
       " ' ',\n",
       " ' ',\n",
       " 'k',\n",
       " 'i',\n",
       " 'l',\n",
       " 'o',\n",
       " 'g',\n",
       " 'r',\n",
       " 'a',\n",
       " 'm',\n",
       " ' ',\n",
       " 'i',\n",
       " 'n',\n",
       " ' ',\n",
       " 'w',\n",
       " 'e',\n",
       " 'i',\n",
       " 'g',\n",
       " 'h',\n",
       " 't']"
      ]
     },
     "execution_count": 72,
     "metadata": {},
     "output_type": "execute_result"
    }
   ],
   "source": [
    "# If I want to remove all the numbers from the text\n",
    "\n",
    "\n",
    "re.findall(r\"[^\\d+]\",text)"
   ]
  },
  {
   "cell_type": "code",
   "execution_count": 73,
   "id": "006c2c2d",
   "metadata": {},
   "outputs": [
    {
     "data": {
      "text/plain": [
       "['bhupesh is ', ' years old but ', ' kilogram in weight']"
      ]
     },
     "execution_count": 73,
     "metadata": {},
     "output_type": "execute_result"
    }
   ],
   "source": [
    "# All the remailing sections together\n",
    "\n",
    "re.findall(r\"[^\\d+]+\",text)"
   ]
  },
  {
   "cell_type": "code",
   "execution_count": 74,
   "id": "8689717b",
   "metadata": {},
   "outputs": [],
   "source": [
    "# Why we need to do exclusion ?\n",
    "\n",
    "## To remove the punctuations and white space\n",
    "\n",
    "\n",
    "text = \"Hello Bhupesh! How are you? Come home with me.\""
   ]
  },
  {
   "cell_type": "code",
   "execution_count": 75,
   "id": "99764441",
   "metadata": {},
   "outputs": [
    {
     "data": {
      "text/plain": [
       "['Hello', 'Bhupesh', 'How', 'are', 'you', 'Come', 'home', 'with', 'me']"
      ]
     },
     "execution_count": 75,
     "metadata": {},
     "output_type": "execute_result"
    }
   ],
   "source": [
    "re.findall(r\"[^!?.\\s]+\",text)"
   ]
  },
  {
   "cell_type": "code",
   "execution_count": 76,
   "id": "1d3ffbff",
   "metadata": {},
   "outputs": [
    {
     "data": {
      "text/plain": [
       "['Hello', 'Bhupesh', 'How', 'are', 'you', 'Come', 'home', 'with', 'me']"
      ]
     },
     "execution_count": 76,
     "metadata": {},
     "output_type": "execute_result"
    }
   ],
   "source": [
    "re.findall(r\"[^!?. ]+\",text) # Same as the above, just added a white space"
   ]
  },
  {
   "cell_type": "code",
   "execution_count": null,
   "id": "21bf89ae",
   "metadata": {},
   "outputs": [],
   "source": []
  },
  {
   "cell_type": "code",
   "execution_count": null,
   "id": "a10a8d19",
   "metadata": {},
   "outputs": [],
   "source": []
  },
  {
   "cell_type": "markdown",
   "id": "a2a94230",
   "metadata": {},
   "source": [
    "### 3.1.13 Search for a pattern with some inclusion"
   ]
  },
  {
   "cell_type": "code",
   "execution_count": 77,
   "id": "341404de",
   "metadata": {},
   "outputs": [],
   "source": [
    "text = \"Hello Bhupesh! How are you? Come home with me.\""
   ]
  },
  {
   "cell_type": "code",
   "execution_count": 78,
   "id": "6f030138",
   "metadata": {},
   "outputs": [
    {
     "data": {
      "text/plain": [
       "['Bhupesh!', 'you?', 'me.']"
      ]
     },
     "execution_count": 78,
     "metadata": {},
     "output_type": "execute_result"
    }
   ],
   "source": [
    "re.findall(r\"\\w+[?!.$]\",text) # Including the terms with punctuations"
   ]
  },
  {
   "cell_type": "code",
   "execution_count": null,
   "id": "7c1dd786",
   "metadata": {},
   "outputs": [],
   "source": []
  },
  {
   "cell_type": "code",
   "execution_count": null,
   "id": "71701c48",
   "metadata": {},
   "outputs": [],
   "source": []
  },
  {
   "cell_type": "code",
   "execution_count": 79,
   "id": "d4987b6f",
   "metadata": {},
   "outputs": [],
   "source": [
    "text = \"Hello-Bhupesh! How-are you? Come-home with me.\""
   ]
  },
  {
   "cell_type": "code",
   "execution_count": 80,
   "id": "9c7a2948",
   "metadata": {},
   "outputs": [
    {
     "data": {
      "text/plain": [
       "['Hello-Bhupesh!']"
      ]
     },
     "execution_count": 80,
     "metadata": {},
     "output_type": "execute_result"
    }
   ],
   "source": [
    "re.findall(r\"[\\w]+-[\\w]+[?!.$]\",text) # Words which are joined by - and has punctuations endings"
   ]
  },
  {
   "cell_type": "code",
   "execution_count": 81,
   "id": "12c38eda",
   "metadata": {},
   "outputs": [
    {
     "data": {
      "text/plain": [
       "['Hello-Bhupesh', 'How-are', 'Come-home']"
      ]
     },
     "execution_count": 81,
     "metadata": {},
     "output_type": "execute_result"
    }
   ],
   "source": [
    "re.findall(r\"[\\w]+-[\\w]+\",text)  # Words which are joined by - only"
   ]
  },
  {
   "cell_type": "code",
   "execution_count": null,
   "id": "e07aeaff",
   "metadata": {},
   "outputs": [],
   "source": []
  },
  {
   "cell_type": "code",
   "execution_count": null,
   "id": "0e416ffc",
   "metadata": {},
   "outputs": [],
   "source": []
  },
  {
   "cell_type": "markdown",
   "id": "c1f98325",
   "metadata": {},
   "source": [
    "## 3.2 Timing with Python Code\n",
    "\n",
    "* Here we'll learn about how we can check the time taken by our code to complete.\n",
    "* We can also compare two set off codes by timing them and choose most efficient approach."
   ]
  },
  {
   "cell_type": "code",
   "execution_count": 1,
   "id": "65498253",
   "metadata": {},
   "outputs": [],
   "source": [
    "# Let's make two functions to compare\n",
    "\n",
    "## Sum up to certain number"
   ]
  },
  {
   "cell_type": "code",
   "execution_count": 4,
   "id": "932f5fa5",
   "metadata": {},
   "outputs": [],
   "source": [
    "def one(number):\n",
    "    total = 0\n",
    "    for num in range(number+1):\n",
    "        total += num\n",
    "    return total"
   ]
  },
  {
   "cell_type": "code",
   "execution_count": 8,
   "id": "fcd5bfcf",
   "metadata": {},
   "outputs": [
    {
     "data": {
      "text/plain": [
       "7620789436823655"
      ]
     },
     "execution_count": 8,
     "metadata": {},
     "output_type": "execute_result"
    }
   ],
   "source": [
    "one(123456789)"
   ]
  },
  {
   "cell_type": "code",
   "execution_count": 13,
   "id": "9081fe39",
   "metadata": {},
   "outputs": [],
   "source": [
    "def two(number):\n",
    "    mylist = [num for num in range(number+1)]\n",
    "    return sum(mylist)"
   ]
  },
  {
   "cell_type": "code",
   "execution_count": 14,
   "id": "7040b7ee",
   "metadata": {},
   "outputs": [
    {
     "data": {
      "text/plain": [
       "7620789436823655"
      ]
     },
     "execution_count": 14,
     "metadata": {},
     "output_type": "execute_result"
    }
   ],
   "source": [
    "two(123456789)"
   ]
  },
  {
   "cell_type": "code",
   "execution_count": null,
   "id": "12399e38",
   "metadata": {},
   "outputs": [],
   "source": []
  },
  {
   "cell_type": "markdown",
   "id": "bfc4ba09",
   "metadata": {},
   "source": [
    "### 3.2.1 Comparing the time elapsed\n",
    "\n",
    "Use of inbuilt `time` module\n",
    "\n",
    "> **for more info: https://docs.python.org/3/library/time.html**"
   ]
  },
  {
   "cell_type": "code",
   "execution_count": 16,
   "id": "7b257a82",
   "metadata": {},
   "outputs": [],
   "source": [
    "import time # Inbuilt Time Library"
   ]
  },
  {
   "cell_type": "code",
   "execution_count": 17,
   "id": "b0004265",
   "metadata": {},
   "outputs": [
    {
     "name": "stdout",
     "output_type": "stream",
     "text": [
      "4.978164434432983\n"
     ]
    }
   ],
   "source": [
    "# Time Before\n",
    "start_time = time.time()\n",
    "\n",
    "# Functions 1\n",
    "one(123456789)\n",
    "\n",
    "# Time After\n",
    "end_time = time.time()\n",
    "\n",
    "# Time Difference\n",
    "result = end_time-start_time\n",
    "print(result)"
   ]
  },
  {
   "cell_type": "code",
   "execution_count": 18,
   "id": "2cc7e931",
   "metadata": {},
   "outputs": [
    {
     "name": "stdout",
     "output_type": "stream",
     "text": [
      "5.624905347824097\n"
     ]
    }
   ],
   "source": [
    "# Time Before\n",
    "start_time = time.time()\n",
    "\n",
    "# Functions 2\n",
    "two(123456789)\n",
    "\n",
    "# Time After\n",
    "end_time = time.time()\n",
    "\n",
    "# Time Difference\n",
    "result = end_time-start_time\n",
    "print(result)"
   ]
  },
  {
   "cell_type": "markdown",
   "id": "e9b5a836",
   "metadata": {},
   "source": [
    "We can see a considerable difference between the way `one` and `two` function gives the result.\n",
    "\n",
    "But that's true for the larger digits only."
   ]
  },
  {
   "cell_type": "code",
   "execution_count": 39,
   "id": "085e5689",
   "metadata": {},
   "outputs": [
    {
     "name": "stdout",
     "output_type": "stream",
     "text": [
      "4.982948303222656e-05\n"
     ]
    }
   ],
   "source": [
    "# Time Before\n",
    "start_time = time.time()\n",
    "\n",
    "# Functions 1\n",
    "one(100)\n",
    "\n",
    "# Time After\n",
    "end_time = time.time()\n",
    "\n",
    "# Time Difference\n",
    "result1 = end_time-start_time\n",
    "print(result1)"
   ]
  },
  {
   "cell_type": "code",
   "execution_count": 40,
   "id": "0f0bd13b",
   "metadata": {},
   "outputs": [
    {
     "name": "stdout",
     "output_type": "stream",
     "text": [
      "4.8160552978515625e-05\n"
     ]
    }
   ],
   "source": [
    "# Time Before\n",
    "start_time = time.time()\n",
    "\n",
    "# Functions 2\n",
    "two(100)\n",
    "\n",
    "# Time After\n",
    "end_time = time.time()\n",
    "\n",
    "# Time Difference\n",
    "result2 = end_time-start_time\n",
    "print(result2)"
   ]
  },
  {
   "cell_type": "markdown",
   "id": "1532363e",
   "metadata": {},
   "source": [
    "The difference is very small, and hard to detect"
   ]
  },
  {
   "cell_type": "code",
   "execution_count": 42,
   "id": "7ce5e99b",
   "metadata": {},
   "outputs": [
    {
     "data": {
      "text/plain": [
       "1.6689300537109375e-06"
      ]
     },
     "execution_count": 42,
     "metadata": {},
     "output_type": "execute_result"
    }
   ],
   "source": [
    "abs(result2-result1)"
   ]
  },
  {
   "cell_type": "markdown",
   "id": "072fbb31",
   "metadata": {},
   "source": [
    "### 3.2.2 With the help of `timeit` module\n",
    "\n",
    "- setup : the function callback\n",
    "- stmt : the function\n",
    "- number : number of times the function needs to be run\n",
    "\n",
    "This mode will run it over and over again and gives us the average time taken.\n",
    "\n",
    "> **for more info : https://docs.python.org/3/library/timeit.html**"
   ]
  },
  {
   "cell_type": "code",
   "execution_count": 43,
   "id": "834f927f",
   "metadata": {},
   "outputs": [],
   "source": [
    "import timeit"
   ]
  },
  {
   "cell_type": "code",
   "execution_count": 47,
   "id": "db5096ae",
   "metadata": {},
   "outputs": [],
   "source": [
    "stmt1 =\"\"\"\n",
    "one(12345)\n",
    "\"\"\"\n",
    "\n",
    "setup1 =\"\"\"\n",
    "def one(number):\n",
    "    total = 0\n",
    "    for num in range(number+1):\n",
    "        total += num\n",
    "    return total\n",
    "\"\"\""
   ]
  },
  {
   "cell_type": "code",
   "execution_count": 58,
   "id": "7b47af7f",
   "metadata": {},
   "outputs": [
    {
     "name": "stdout",
     "output_type": "stream",
     "text": [
      "4.759435993000807\n"
     ]
    }
   ],
   "source": [
    "time1 = timeit.timeit(stmt=stmt1,setup=setup1,number=10000) # Average Time for function one\n",
    "print(time1)"
   ]
  },
  {
   "cell_type": "code",
   "execution_count": 51,
   "id": "f9d4ef12",
   "metadata": {},
   "outputs": [],
   "source": [
    "stmt2 =\"\"\"\n",
    "two(12345)\n",
    "\"\"\"\n",
    "\n",
    "setup2 =\"\"\"\n",
    "def two(number):\n",
    "    mylist = [num for num in range(number+1)]\n",
    "    return sum(mylist)\n",
    "\"\"\""
   ]
  },
  {
   "cell_type": "code",
   "execution_count": 59,
   "id": "3b015879",
   "metadata": {},
   "outputs": [
    {
     "name": "stdout",
     "output_type": "stream",
     "text": [
      "3.607434245999684\n"
     ]
    }
   ],
   "source": [
    "time2 = timeit.timeit(stmt=stmt2,setup=setup2,number=10000) # Average Time for function two\n",
    "print(time2)"
   ]
  },
  {
   "cell_type": "code",
   "execution_count": 61,
   "id": "3cf968eb",
   "metadata": {},
   "outputs": [
    {
     "data": {
      "text/plain": [
       "1.1520017470011226"
      ]
     },
     "execution_count": 61,
     "metadata": {},
     "output_type": "execute_result"
    }
   ],
   "source": [
    "abs(time2-time1) # The difference between the two time (fair comparision after running 10000 times)"
   ]
  },
  {
   "cell_type": "markdown",
   "id": "db48dfdf",
   "metadata": {},
   "source": [
    "### 3.2.3 `%%timeit` Magic Function (Only for Jupyter Notebook)\n",
    "\n",
    "Jupyter has inbuilt function based on the timeit module\n",
    "\n",
    "- No need to make statement\n",
    "- No need to make setup\n",
    "- we directly gets the result"
   ]
  },
  {
   "cell_type": "code",
   "execution_count": 62,
   "id": "62eb5b19",
   "metadata": {},
   "outputs": [
    {
     "name": "stdout",
     "output_type": "stream",
     "text": [
      "4.8 ms ± 31.7 µs per loop (mean ± std. dev. of 7 runs, 100 loops each)\n"
     ]
    }
   ],
   "source": [
    "%%timeit\n",
    "\n",
    "one(123456)"
   ]
  },
  {
   "cell_type": "code",
   "execution_count": 63,
   "id": "1043852a",
   "metadata": {},
   "outputs": [
    {
     "name": "stdout",
     "output_type": "stream",
     "text": [
      "4.4 ms ± 86.2 µs per loop (mean ± std. dev. of 7 runs, 100 loops each)\n"
     ]
    }
   ],
   "source": [
    "%%timeit\n",
    "\n",
    "two(123456)"
   ]
  },
  {
   "cell_type": "code",
   "execution_count": null,
   "id": "92767564",
   "metadata": {},
   "outputs": [],
   "source": []
  },
  {
   "cell_type": "markdown",
   "id": "71c20f92",
   "metadata": {},
   "source": [
    "## 3.3 Zipping and Unzipping the file/folder\n",
    "\n",
    "with `zipfile` module\n",
    "\n",
    "for more info: https://docs.python.org/3/library/zipfile.html "
   ]
  },
  {
   "cell_type": "code",
   "execution_count": 69,
   "id": "66a8586b",
   "metadata": {},
   "outputs": [],
   "source": [
    "import zipfile"
   ]
  },
  {
   "cell_type": "markdown",
   "id": "85a2931b",
   "metadata": {},
   "source": [
    "### 3.3.1 To make zip file"
   ]
  },
  {
   "cell_type": "code",
   "execution_count": 76,
   "id": "6d647a60",
   "metadata": {},
   "outputs": [],
   "source": [
    "# We want to make a zip file out of `file1.txt`\n",
    "\n",
    "file = zipfile.ZipFile(\"file1_zipped.zip\",\"w\") # Make a zip file"
   ]
  },
  {
   "cell_type": "code",
   "execution_count": 77,
   "id": "9bd79d7b",
   "metadata": {},
   "outputs": [],
   "source": [
    "file.write(\"file1.txt\",compress_type=zipfile.ZIP_DEFLATED) # Write files inside that zip file"
   ]
  },
  {
   "cell_type": "code",
   "execution_count": 78,
   "id": "2aa3b72e",
   "metadata": {},
   "outputs": [],
   "source": [
    "file.close() # Close the zip file"
   ]
  },
  {
   "cell_type": "code",
   "execution_count": null,
   "id": "bf15d277",
   "metadata": {},
   "outputs": [],
   "source": []
  },
  {
   "cell_type": "markdown",
   "id": "51eca494",
   "metadata": {},
   "source": [
    "### 3.3.2 Unzip a file"
   ]
  },
  {
   "cell_type": "code",
   "execution_count": 79,
   "id": "4f97967a",
   "metadata": {},
   "outputs": [],
   "source": [
    "# We want to unzip the ziiped file we created `file1_zipped.zip`\n",
    "\n",
    "file = zipfile.ZipFile(\"file1_zipped.zip\",\"r\") # Load the zip file"
   ]
  },
  {
   "cell_type": "code",
   "execution_count": 80,
   "id": "ef54ea21",
   "metadata": {},
   "outputs": [],
   "source": [
    "file.extractall(\"extracted_zipped_file\")"
   ]
  },
  {
   "cell_type": "code",
   "execution_count": 81,
   "id": "46d376d2",
   "metadata": {},
   "outputs": [],
   "source": [
    "file.close()"
   ]
  },
  {
   "cell_type": "code",
   "execution_count": null,
   "id": "c3e0c8f1",
   "metadata": {},
   "outputs": [],
   "source": []
  },
  {
   "cell_type": "code",
   "execution_count": null,
   "id": "64cf7c35",
   "metadata": {},
   "outputs": [],
   "source": []
  },
  {
   "cell_type": "markdown",
   "id": "f61f5e30",
   "metadata": {},
   "source": [
    "### 3.3.3 Zip/Unzip with `shutil` module for folders"
   ]
  },
  {
   "cell_type": "markdown",
   "id": "3aee4176",
   "metadata": {},
   "source": [
    "#### Zipping"
   ]
  },
  {
   "cell_type": "code",
   "execution_count": 82,
   "id": "53a86813",
   "metadata": {},
   "outputs": [],
   "source": [
    "import shutil"
   ]
  },
  {
   "cell_type": "code",
   "execution_count": 85,
   "id": "18b97593",
   "metadata": {},
   "outputs": [],
   "source": [
    "path_to_zip = \"/home/buzzzer/Documents/My-Notes/Part-2/extracted_zipped_file/\" # Location ofthe file to zip"
   ]
  },
  {
   "cell_type": "code",
   "execution_count": 84,
   "id": "f2e3cb45",
   "metadata": {},
   "outputs": [],
   "source": [
    "name = \"myzip\" # Giva name for the zip file"
   ]
  },
  {
   "cell_type": "code",
   "execution_count": 86,
   "id": "7814f8a3",
   "metadata": {},
   "outputs": [
    {
     "data": {
      "text/plain": [
       "'/home/buzzzer/Documents/My-Notes/Part-2/myzip.tar'"
      ]
     },
     "execution_count": 86,
     "metadata": {},
     "output_type": "execute_result"
    }
   ],
   "source": [
    "shutil.make_archive(name,\"tar\",path_to_zip) # Zipping the folder"
   ]
  },
  {
   "cell_type": "code",
   "execution_count": null,
   "id": "81a60144",
   "metadata": {},
   "outputs": [],
   "source": []
  },
  {
   "cell_type": "markdown",
   "id": "670d6ab7",
   "metadata": {},
   "source": [
    "#### Unzipping"
   ]
  },
  {
   "cell_type": "code",
   "execution_count": 87,
   "id": "f158ec56",
   "metadata": {},
   "outputs": [],
   "source": [
    "shutil.unpack_archive(\"myzip.tar\",\"final_unzip\",\"tar\") # unzipping the file"
   ]
  },
  {
   "cell_type": "code",
   "execution_count": null,
   "id": "ad45a49a",
   "metadata": {},
   "outputs": [],
   "source": []
  }
 ],
 "metadata": {
  "kernelspec": {
   "display_name": "Python 3",
   "language": "python",
   "name": "python3"
  },
  "language_info": {
   "codemirror_mode": {
    "name": "ipython",
    "version": 3
   },
   "file_extension": ".py",
   "mimetype": "text/x-python",
   "name": "python",
   "nbconvert_exporter": "python",
   "pygments_lexer": "ipython3",
   "version": "3.8.5"
  }
 },
 "nbformat": 4,
 "nbformat_minor": 5
}
