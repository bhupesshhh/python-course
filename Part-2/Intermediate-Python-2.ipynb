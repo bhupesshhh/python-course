{
 "cells": [
  {
   "cell_type": "markdown",
   "id": "0dcc7a91",
   "metadata": {},
   "source": [
    "# Intermediate Python 2\n",
    "\n",
    "* Working with different Built-in Modules\n",
    "* Python Collections Module\n",
    "* Python OS Module and Sh-util Module\n",
    "* Python Date-Time Module\n",
    "* Python Math and Random Module\n",
    "* Python Debugger Module"
   ]
  },
  {
   "cell_type": "markdown",
   "id": "a2b44165",
   "metadata": {},
   "source": [
    "## 2.1 Python Collections Module\n",
    "\n",
    "Python inbuilt `collections` module contains specials types of containers. More advanced that we have already learned so far. Let's see what are those and how can they be useful over the regular ones.\n",
    "\n",
    "For more info : https://docs.python.org/3/library/collections.html "
   ]
  },
  {
   "cell_type": "markdown",
   "id": "b68ef251",
   "metadata": {},
   "source": [
    "### 2.1.1 Counter Class"
   ]
  },
  {
   "cell_type": "code",
   "execution_count": 1,
   "id": "9f4b7f24",
   "metadata": {},
   "outputs": [],
   "source": [
    "from collections import Counter"
   ]
  },
  {
   "cell_type": "code",
   "execution_count": 2,
   "id": "4b2be3a4",
   "metadata": {},
   "outputs": [],
   "source": [
    "# What if we have a list with different repeating numbers \n",
    "\n",
    "mylist = [1,1,1,1,1,2,2,2,2,3,4,4,4,4,5,6,6,6,6,6]"
   ]
  },
  {
   "cell_type": "markdown",
   "id": "42576c30",
   "metadata": {},
   "source": [
    "**To count the each unique elements**\n",
    "\n",
    "1. We can do a for loop to count \n",
    "2. Or some other methods"
   ]
  },
  {
   "cell_type": "code",
   "execution_count": 3,
   "id": "d254cb02",
   "metadata": {},
   "outputs": [
    {
     "data": {
      "text/plain": [
       "Counter({1: 5, 2: 4, 3: 1, 4: 4, 5: 1, 6: 5})"
      ]
     },
     "execution_count": 3,
     "metadata": {},
     "output_type": "execute_result"
    }
   ],
   "source": [
    "# Or we can make a special class and take help of it\n",
    "\n",
    "Counter(mylist)"
   ]
  },
  {
   "cell_type": "markdown",
   "id": "f6fd1ee6",
   "metadata": {},
   "source": [
    "- Here we have a special object type which gives us count of the each elements in a similar way of dictionary."
   ]
  },
  {
   "cell_type": "code",
   "execution_count": 4,
   "id": "6bce62fc",
   "metadata": {},
   "outputs": [
    {
     "data": {
      "text/plain": [
       "collections.Counter"
      ]
     },
     "execution_count": 4,
     "metadata": {},
     "output_type": "execute_result"
    }
   ],
   "source": [
    "type(Counter(mylist))"
   ]
  },
  {
   "cell_type": "code",
   "execution_count": null,
   "id": "462b2d18",
   "metadata": {},
   "outputs": [],
   "source": []
  },
  {
   "cell_type": "code",
   "execution_count": 5,
   "id": "b5adf713",
   "metadata": {},
   "outputs": [],
   "source": [
    "# Similar things can be done with list of strings\n",
    "\n",
    "mylist = [\"a\",\"b\",\"c\",\"d\",\"e\",\"f\",\"a\",\"c\",\"d\"]"
   ]
  },
  {
   "cell_type": "code",
   "execution_count": 6,
   "id": "4a3e450f",
   "metadata": {},
   "outputs": [
    {
     "data": {
      "text/plain": [
       "Counter({'a': 2, 'b': 1, 'c': 2, 'd': 2, 'e': 1, 'f': 1})"
      ]
     },
     "execution_count": 6,
     "metadata": {},
     "output_type": "execute_result"
    }
   ],
   "source": [
    "Counter(mylist)"
   ]
  },
  {
   "cell_type": "code",
   "execution_count": null,
   "id": "06a23c3c",
   "metadata": {},
   "outputs": [],
   "source": []
  },
  {
   "cell_type": "code",
   "execution_count": 7,
   "id": "804d6e7f",
   "metadata": {},
   "outputs": [],
   "source": [
    "# Similar things can be done with strings\n",
    "\n",
    "name = \"Bhupesh Kumar Chandrawanshi\""
   ]
  },
  {
   "cell_type": "code",
   "execution_count": 8,
   "id": "0e22ae36",
   "metadata": {},
   "outputs": [
    {
     "data": {
      "text/plain": [
       "Counter({'B': 1,\n",
       "         'h': 4,\n",
       "         'u': 2,\n",
       "         'p': 1,\n",
       "         'e': 1,\n",
       "         's': 2,\n",
       "         ' ': 2,\n",
       "         'K': 1,\n",
       "         'm': 1,\n",
       "         'a': 4,\n",
       "         'r': 2,\n",
       "         'C': 1,\n",
       "         'n': 2,\n",
       "         'd': 1,\n",
       "         'w': 1,\n",
       "         'i': 1})"
      ]
     },
     "execution_count": 8,
     "metadata": {},
     "output_type": "execute_result"
    }
   ],
   "source": [
    "Counter(name)"
   ]
  },
  {
   "cell_type": "code",
   "execution_count": null,
   "id": "1bd02ace",
   "metadata": {},
   "outputs": [],
   "source": []
  },
  {
   "cell_type": "code",
   "execution_count": null,
   "id": "7a9b66cc",
   "metadata": {},
   "outputs": [],
   "source": []
  },
  {
   "cell_type": "code",
   "execution_count": 9,
   "id": "9ff4d646",
   "metadata": {},
   "outputs": [],
   "source": [
    "# What if we have a long paragraph and we wanna count the number of times a word occur\n",
    "\n",
    "\n",
    "mypara = \"Generating random paragraphs can be an excellent way for writers to get their creative flow going at the beginning of the day. The writer has no idea what topic the random paragraph will be about when it appears. This forces the writer to use creativity to complete one of three common writing challenges. The writer can use the paragraph as the first one of a short story and build upon it. A second option is to use the random paragraph somewhere in a short story they create. The third option is to have the random paragraph be the ending paragraph in a short story. No matter which of these challenges is undertaken, the writer is forced to use creativity to incorporate the paragraph into their writing. \""
   ]
  },
  {
   "cell_type": "code",
   "execution_count": 10,
   "id": "4e556d78",
   "metadata": {},
   "outputs": [
    {
     "data": {
      "text/plain": [
       "Counter({'generating': 1,\n",
       "         'random': 4,\n",
       "         'paragraphs': 1,\n",
       "         'can': 2,\n",
       "         'be': 3,\n",
       "         'an': 1,\n",
       "         'excellent': 1,\n",
       "         'way': 1,\n",
       "         'for': 1,\n",
       "         'writers': 1,\n",
       "         'to': 7,\n",
       "         'get': 1,\n",
       "         'their': 2,\n",
       "         'creative': 1,\n",
       "         'flow': 1,\n",
       "         'going': 1,\n",
       "         'at': 1,\n",
       "         'the': 14,\n",
       "         'beginning': 1,\n",
       "         'of': 4,\n",
       "         'day.': 1,\n",
       "         'writer': 4,\n",
       "         'has': 1,\n",
       "         'no': 2,\n",
       "         'idea': 1,\n",
       "         'what': 1,\n",
       "         'topic': 1,\n",
       "         'paragraph': 6,\n",
       "         'will': 1,\n",
       "         'about': 1,\n",
       "         'when': 1,\n",
       "         'it': 1,\n",
       "         'appears.': 1,\n",
       "         'this': 1,\n",
       "         'forces': 1,\n",
       "         'use': 4,\n",
       "         'creativity': 2,\n",
       "         'complete': 1,\n",
       "         'one': 2,\n",
       "         'three': 1,\n",
       "         'common': 1,\n",
       "         'writing': 1,\n",
       "         'challenges.': 1,\n",
       "         'as': 1,\n",
       "         'first': 1,\n",
       "         'a': 4,\n",
       "         'short': 3,\n",
       "         'story': 2,\n",
       "         'and': 1,\n",
       "         'build': 1,\n",
       "         'upon': 1,\n",
       "         'it.': 1,\n",
       "         'second': 1,\n",
       "         'option': 2,\n",
       "         'is': 4,\n",
       "         'somewhere': 1,\n",
       "         'in': 2,\n",
       "         'they': 1,\n",
       "         'create.': 1,\n",
       "         'third': 1,\n",
       "         'have': 1,\n",
       "         'ending': 1,\n",
       "         'story.': 1,\n",
       "         'matter': 1,\n",
       "         'which': 1,\n",
       "         'these': 1,\n",
       "         'challenges': 1,\n",
       "         'undertaken,': 1,\n",
       "         'forced': 1,\n",
       "         'incorporate': 1,\n",
       "         'into': 1,\n",
       "         'writing.': 1})"
      ]
     },
     "execution_count": 10,
     "metadata": {},
     "output_type": "execute_result"
    }
   ],
   "source": [
    "Counter(mypara.lower().split())"
   ]
  },
  {
   "cell_type": "markdown",
   "id": "c5284cbe",
   "metadata": {},
   "source": [
    "Till now we have seen how we can make a counter objects.\n",
    "\n",
    "**We'll see now about how to use its functions**"
   ]
  },
  {
   "cell_type": "code",
   "execution_count": 11,
   "id": "029d57d1",
   "metadata": {},
   "outputs": [],
   "source": [
    "# We can save the Counter objects into a varible\n",
    "\n",
    "mylist = [1,1,1,1,1,2,2,2,2,3,4,4,4,4,5,6,6,6,6,6]\n",
    "count_1 = Counter(mylist)"
   ]
  },
  {
   "cell_type": "code",
   "execution_count": 12,
   "id": "0927e69c",
   "metadata": {},
   "outputs": [],
   "source": [
    "# This is only if the autocomplete functions are not working\n",
    "\n",
    "%config Completer.use_jedi = False"
   ]
  },
  {
   "cell_type": "code",
   "execution_count": 13,
   "id": "b075037f",
   "metadata": {},
   "outputs": [
    {
     "data": {
      "text/plain": [
       "[(1, 5), (6, 5), (2, 4), (4, 4), (3, 1), (5, 1)]"
      ]
     },
     "execution_count": 13,
     "metadata": {},
     "output_type": "execute_result"
    }
   ],
   "source": [
    "count_1.most_common() # To see the most common letter or objects"
   ]
  },
  {
   "cell_type": "code",
   "execution_count": 14,
   "id": "65676237",
   "metadata": {},
   "outputs": [],
   "source": [
    "count_1.clear() # To clear out the counter"
   ]
  },
  {
   "cell_type": "code",
   "execution_count": 15,
   "id": "26cc4e57",
   "metadata": {},
   "outputs": [
    {
     "data": {
      "text/plain": [
       "Counter()"
      ]
     },
     "execution_count": 15,
     "metadata": {},
     "output_type": "execute_result"
    }
   ],
   "source": [
    "count_1"
   ]
  },
  {
   "cell_type": "code",
   "execution_count": null,
   "id": "9473a2dc",
   "metadata": {},
   "outputs": [],
   "source": []
  },
  {
   "cell_type": "code",
   "execution_count": null,
   "id": "e29ac38a",
   "metadata": {},
   "outputs": [],
   "source": []
  },
  {
   "cell_type": "markdown",
   "id": "16c0656d",
   "metadata": {},
   "source": [
    "**We can do a lot more with Counter Objects**\n",
    "\n",
    "For more info : https://docs.python.org/3/library/collections.html#collections.Counter"
   ]
  },
  {
   "cell_type": "markdown",
   "id": "49782730",
   "metadata": {},
   "source": [
    "### 2.1.2 Default Dictionary "
   ]
  },
  {
   "cell_type": "code",
   "execution_count": 16,
   "id": "cc1c3eee",
   "metadata": {},
   "outputs": [],
   "source": [
    "from collections import defaultdict"
   ]
  },
  {
   "cell_type": "code",
   "execution_count": 17,
   "id": "a21dcab3",
   "metadata": {},
   "outputs": [],
   "source": [
    "# Normal Dictionary\n",
    "\n",
    "\n",
    "my_dict = {\"a\":10,\"b\":20,\"c\":30}"
   ]
  },
  {
   "cell_type": "code",
   "execution_count": 18,
   "id": "fc4f3fdd",
   "metadata": {},
   "outputs": [
    {
     "data": {
      "text/plain": [
       "10"
      ]
     },
     "execution_count": 18,
     "metadata": {},
     "output_type": "execute_result"
    }
   ],
   "source": [
    "# When called for available key\n",
    "my_dict[\"a\"]"
   ]
  },
  {
   "cell_type": "code",
   "execution_count": 24,
   "id": "bd6771c8",
   "metadata": {},
   "outputs": [
    {
     "ename": "KeyError",
     "evalue": "'d'",
     "output_type": "error",
     "traceback": [
      "\u001b[0;31m---------------------------------------------------------------------------\u001b[0m",
      "\u001b[0;31mKeyError\u001b[0m                                  Traceback (most recent call last)",
      "\u001b[0;32m<ipython-input-24-7e792d49bd94>\u001b[0m in \u001b[0;36m<module>\u001b[0;34m\u001b[0m\n\u001b[1;32m      1\u001b[0m \u001b[0;31m# When called for unavailable available key\u001b[0m\u001b[0;34m\u001b[0m\u001b[0;34m\u001b[0m\u001b[0;34m\u001b[0m\u001b[0m\n\u001b[0;32m----> 2\u001b[0;31m \u001b[0mmy_dict\u001b[0m\u001b[0;34m[\u001b[0m\u001b[0;34m\"d\"\u001b[0m\u001b[0;34m]\u001b[0m\u001b[0;34m\u001b[0m\u001b[0;34m\u001b[0m\u001b[0m\n\u001b[0m",
      "\u001b[0;31mKeyError\u001b[0m: 'd'"
     ]
    }
   ],
   "source": [
    "# When called for unavailable available key\n",
    "my_dict[\"d\"]"
   ]
  },
  {
   "cell_type": "markdown",
   "id": "9f4fd4b9",
   "metadata": {},
   "source": [
    "In such sort of situation where you wanna use `dictionary` with new `keywords` which are not present in the dictinary, we can use `defaultdict`"
   ]
  },
  {
   "cell_type": "code",
   "execution_count": 25,
   "id": "8a6a9317",
   "metadata": {},
   "outputs": [],
   "source": [
    "new_dict = defaultdict(lambda:0)"
   ]
  },
  {
   "cell_type": "code",
   "execution_count": 27,
   "id": "db4f1f27",
   "metadata": {},
   "outputs": [],
   "source": [
    "new_dict[\"a\"] = 10"
   ]
  },
  {
   "cell_type": "code",
   "execution_count": 28,
   "id": "97dd2c73",
   "metadata": {},
   "outputs": [],
   "source": [
    "new_dict[\"b\"] = 10"
   ]
  },
  {
   "cell_type": "code",
   "execution_count": 29,
   "id": "8d20a3ef",
   "metadata": {},
   "outputs": [
    {
     "data": {
      "text/plain": [
       "defaultdict(<function __main__.<lambda>()>, {'a': 10, 'b': 10})"
      ]
     },
     "execution_count": 29,
     "metadata": {},
     "output_type": "execute_result"
    }
   ],
   "source": [
    "new_dict"
   ]
  },
  {
   "cell_type": "code",
   "execution_count": 30,
   "id": "89b76bf4",
   "metadata": {},
   "outputs": [
    {
     "data": {
      "text/plain": [
       "10"
      ]
     },
     "execution_count": 30,
     "metadata": {},
     "output_type": "execute_result"
    }
   ],
   "source": [
    "# When called for available key\n",
    "new_dict[\"a\"]"
   ]
  },
  {
   "cell_type": "code",
   "execution_count": 31,
   "id": "420cdceb",
   "metadata": {},
   "outputs": [
    {
     "data": {
      "text/plain": [
       "0"
      ]
     },
     "execution_count": 31,
     "metadata": {},
     "output_type": "execute_result"
    }
   ],
   "source": [
    "# When called for unavailable available key\n",
    "new_dict[\"d\"]"
   ]
  },
  {
   "cell_type": "markdown",
   "id": "42c6e63d",
   "metadata": {},
   "source": [
    "We can use it if we are doing some loops and we dont want to get any error while making dictionary."
   ]
  },
  {
   "cell_type": "code",
   "execution_count": null,
   "id": "ceb17442",
   "metadata": {},
   "outputs": [],
   "source": []
  },
  {
   "cell_type": "code",
   "execution_count": null,
   "id": "19d465ca",
   "metadata": {},
   "outputs": [],
   "source": []
  },
  {
   "cell_type": "markdown",
   "id": "3cd00855",
   "metadata": {},
   "source": [
    "### 2.1.2 Named Tuple \n",
    "\n",
    "\n",
    "Create a personlised Object Oriented Class in form of tuple"
   ]
  },
  {
   "cell_type": "code",
   "execution_count": 32,
   "id": "d9534ddb",
   "metadata": {},
   "outputs": [],
   "source": [
    "# Regular Tuple\n",
    "\n",
    "my_tuple = (1,2,3,4,5,6)"
   ]
  },
  {
   "cell_type": "code",
   "execution_count": 33,
   "id": "c10a3cb7",
   "metadata": {},
   "outputs": [
    {
     "data": {
      "text/plain": [
       "1"
      ]
     },
     "execution_count": 33,
     "metadata": {},
     "output_type": "execute_result"
    }
   ],
   "source": [
    "my_tuple[0]"
   ]
  },
  {
   "cell_type": "markdown",
   "id": "99bc143e",
   "metadata": {},
   "source": [
    "We can call the values by its position but not its name"
   ]
  },
  {
   "cell_type": "code",
   "execution_count": 34,
   "id": "2ee1cb19",
   "metadata": {},
   "outputs": [],
   "source": [
    "from collections import namedtuple"
   ]
  },
  {
   "cell_type": "code",
   "execution_count": 35,
   "id": "19f60b79",
   "metadata": {},
   "outputs": [],
   "source": [
    "Person = namedtuple(\"Person\",[\"name\",\"age\",\"number\",\"address\"])"
   ]
  },
  {
   "cell_type": "code",
   "execution_count": 36,
   "id": "868df719",
   "metadata": {},
   "outputs": [],
   "source": [
    "Bhupesh = Person(name=\"Bhupesh\",age=24,number=78787878787,address=\"Delhi\")"
   ]
  },
  {
   "cell_type": "code",
   "execution_count": 37,
   "id": "928d6329",
   "metadata": {},
   "outputs": [
    {
     "data": {
      "text/plain": [
       "__main__.Person"
      ]
     },
     "execution_count": 37,
     "metadata": {},
     "output_type": "execute_result"
    }
   ],
   "source": [
    "type(Bhupesh)"
   ]
  },
  {
   "cell_type": "code",
   "execution_count": 38,
   "id": "2193bbe6",
   "metadata": {},
   "outputs": [
    {
     "data": {
      "text/plain": [
       "'Bhupesh'"
      ]
     },
     "execution_count": 38,
     "metadata": {},
     "output_type": "execute_result"
    }
   ],
   "source": [
    "# We can call it thorough attribute name\n",
    "Bhupesh.name"
   ]
  },
  {
   "cell_type": "code",
   "execution_count": 39,
   "id": "d96a4fe8",
   "metadata": {},
   "outputs": [
    {
     "data": {
      "text/plain": [
       "'Delhi'"
      ]
     },
     "execution_count": 39,
     "metadata": {},
     "output_type": "execute_result"
    }
   ],
   "source": [
    "Bhupesh.address"
   ]
  },
  {
   "cell_type": "code",
   "execution_count": 40,
   "id": "835bf2a2",
   "metadata": {},
   "outputs": [
    {
     "data": {
      "text/plain": [
       "Person(name='Bhupesh', age=24, number=78787878787, address='Delhi')"
      ]
     },
     "execution_count": 40,
     "metadata": {},
     "output_type": "execute_result"
    }
   ],
   "source": [
    "Bhupesh"
   ]
  },
  {
   "cell_type": "code",
   "execution_count": 41,
   "id": "0431c6b1",
   "metadata": {},
   "outputs": [
    {
     "data": {
      "text/plain": [
       "'Bhupesh'"
      ]
     },
     "execution_count": 41,
     "metadata": {},
     "output_type": "execute_result"
    }
   ],
   "source": [
    "# We can call it thorough index value\n",
    "Bhupesh[0]"
   ]
  },
  {
   "cell_type": "code",
   "execution_count": 42,
   "id": "dc7e329d",
   "metadata": {},
   "outputs": [
    {
     "data": {
      "text/plain": [
       "24"
      ]
     },
     "execution_count": 42,
     "metadata": {},
     "output_type": "execute_result"
    }
   ],
   "source": [
    "Bhupesh[1]"
   ]
  },
  {
   "cell_type": "markdown",
   "id": "980135a1",
   "metadata": {},
   "source": [
    "## 2.2 Python OS and shutil Module\n",
    "\n",
    "> * OS - Opertating System Module\n",
    "> * shutil - Shell Utility Module\n",
    "\n",
    "Both of these modules are used for doing different things with files and folder.\n",
    "\n",
    "Like you can do-\n",
    "1. Read files and folder\n",
    "2. Oopen any file and folder\n",
    "3. Delete file and folder\n",
    "\n",
    "\n",
    "* for more info : https://docs.python.org/3/library/os.html \n",
    "* for more info : https://docs.python.org/3/library/shutil.html "
   ]
  },
  {
   "cell_type": "code",
   "execution_count": 43,
   "id": "ceb6ceae",
   "metadata": {},
   "outputs": [
    {
     "name": "stdout",
     "output_type": "stream",
     "text": [
      "/home/buzzzer/Documents/My-Notes/Part-2\r\n"
     ]
    }
   ],
   "source": [
    "# To get the file path\n",
    "\n",
    "!pwd"
   ]
  },
  {
   "cell_type": "code",
   "execution_count": 44,
   "id": "9a2e5f60",
   "metadata": {},
   "outputs": [],
   "source": [
    "# Use of os module\n",
    "\n",
    "import os"
   ]
  },
  {
   "cell_type": "markdown",
   "id": "1088c001",
   "metadata": {},
   "source": [
    "### 2.2.1 Get Current Working Directory with OS Module"
   ]
  },
  {
   "cell_type": "code",
   "execution_count": 45,
   "id": "1ce6eb75",
   "metadata": {},
   "outputs": [
    {
     "data": {
      "text/plain": [
       "'/home/buzzzer/Documents/My-Notes/Part-2'"
      ]
     },
     "execution_count": 45,
     "metadata": {},
     "output_type": "execute_result"
    }
   ],
   "source": [
    "# To get the current working directory\n",
    "os.getcwd()"
   ]
  },
  {
   "cell_type": "code",
   "execution_count": null,
   "id": "8495fc9c",
   "metadata": {},
   "outputs": [],
   "source": []
  },
  {
   "cell_type": "code",
   "execution_count": null,
   "id": "25378a2c",
   "metadata": {},
   "outputs": [],
   "source": []
  },
  {
   "cell_type": "markdown",
   "id": "d300b698",
   "metadata": {},
   "source": [
    "### 2.2.2 Show all the files of Some Working Directory with OS Module"
   ]
  },
  {
   "cell_type": "code",
   "execution_count": 46,
   "id": "f37d13fd",
   "metadata": {},
   "outputs": [
    {
     "data": {
      "text/plain": [
       "['Intermediate-Python-1.ipynb',\n",
       " 'example.txt',\n",
       " 'Intermediate-Python-2.ipynb',\n",
       " '.ipynb_checkpoints',\n",
       " 'Intermediate-Python-3.ipynb']"
      ]
     },
     "execution_count": 46,
     "metadata": {},
     "output_type": "execute_result"
    }
   ],
   "source": [
    "# Get a list of all files in the current directory\n",
    "\n",
    "os.listdir()"
   ]
  },
  {
   "cell_type": "code",
   "execution_count": 47,
   "id": "bfd019f3",
   "metadata": {},
   "outputs": [
    {
     "data": {
      "text/plain": [
       "['.Rhistory',\n",
       " 'example.txt',\n",
       " 'Part-2',\n",
       " 'Introduction To Numpy.ipynb',\n",
       " 'learning-python-3.ipynb',\n",
       " 'Game-TTT.ipynb',\n",
       " 'untitled1.txt',\n",
       " '.ipynb_checkpoints',\n",
       " 'Introduction To Scikit-Learn (sklearn).ipynb',\n",
       " '.jovianrc',\n",
       " 'Intro to Python Assignment.ipynb',\n",
       " 'Part-1',\n",
       " 'DS-Course-Syllabus.ipynb',\n",
       " 'untitled.txt',\n",
       " 'Introduction to Matplotlib.ipynb',\n",
       " 'Part-3',\n",
       " 'Introduction To Pandas.ipynb',\n",
       " 'All-Delete',\n",
       " 'numpy-panda.png',\n",
       " 'PY_Files',\n",
       " 'sample.py']"
      ]
     },
     "execution_count": 47,
     "metadata": {},
     "output_type": "execute_result"
    }
   ],
   "source": [
    "# Get a list of all files in some other directory (need to give the address)\n",
    "\n",
    "os.listdir(\"/home/buzzzer/Documents/My-Notes/\")"
   ]
  },
  {
   "cell_type": "code",
   "execution_count": null,
   "id": "e5997b53",
   "metadata": {},
   "outputs": [],
   "source": []
  },
  {
   "cell_type": "code",
   "execution_count": null,
   "id": "147b1f5e",
   "metadata": {},
   "outputs": [],
   "source": []
  },
  {
   "cell_type": "markdown",
   "id": "3303e741",
   "metadata": {},
   "source": [
    "### 2.2.3 To move a file around with shutil module"
   ]
  },
  {
   "cell_type": "code",
   "execution_count": 48,
   "id": "22b85294",
   "metadata": {},
   "outputs": [],
   "source": [
    "import shutil"
   ]
  },
  {
   "cell_type": "code",
   "execution_count": 49,
   "id": "36f88c48",
   "metadata": {},
   "outputs": [
    {
     "data": {
      "text/plain": [
       "'/home/buzzzer/Documents/My-Notes/Part-2/sample.py'"
      ]
     },
     "execution_count": 49,
     "metadata": {},
     "output_type": "execute_result"
    }
   ],
   "source": [
    "# Move a file from some other directory to cuurent working directory\n",
    "shutil.move(\"/home/buzzzer/Documents/My-Notes/sample.py\",os.getcwd())"
   ]
  },
  {
   "cell_type": "code",
   "execution_count": 50,
   "id": "257d1464",
   "metadata": {},
   "outputs": [
    {
     "data": {
      "text/plain": [
       "'/home/buzzzer/Documents/My-Notes/sample.py'"
      ]
     },
     "execution_count": 50,
     "metadata": {},
     "output_type": "execute_result"
    }
   ],
   "source": [
    "# Move a file from cuurent working directory to some other directory\n",
    "shutil.move(\"sample.py\", \"/home/buzzzer/Documents/My-Notes/\")"
   ]
  },
  {
   "cell_type": "code",
   "execution_count": null,
   "id": "08500da2",
   "metadata": {},
   "outputs": [],
   "source": []
  },
  {
   "cell_type": "code",
   "execution_count": null,
   "id": "a1bdcf17",
   "metadata": {},
   "outputs": [],
   "source": []
  },
  {
   "cell_type": "markdown",
   "id": "79d03c3f",
   "metadata": {},
   "source": [
    "### 2.2.4 To delete a file\n",
    "\n",
    "There are several ways to remove a file\n",
    "\n",
    "1. `os.unlink(path)` : This removes a file from the provided path\n",
    "2. `os.rmdir(path)` : This removes the directory(folder) of the given path ( Folder needs to be empty. )\n",
    "3. `shutil.rmtree(path)` : This removes the whole, both folder and path fomr the given directory.\n",
    "\n",
    "**Note: Files once deleted can't be recoverable**"
   ]
  },
  {
   "cell_type": "code",
   "execution_count": 52,
   "id": "60d9cee6",
   "metadata": {},
   "outputs": [
    {
     "ename": "FileNotFoundError",
     "evalue": "[Errno 2] No such file or directory: '/home/buzzzer/Documents/My-Notes/All-Delete/Delete-Files/untitled.txt'",
     "output_type": "error",
     "traceback": [
      "\u001b[0;31m---------------------------------------------------------------------------\u001b[0m",
      "\u001b[0;31mFileNotFoundError\u001b[0m                         Traceback (most recent call last)",
      "\u001b[0;32m<ipython-input-52-37aea4bc3a48>\u001b[0m in \u001b[0;36m<module>\u001b[0;34m\u001b[0m\n\u001b[1;32m      1\u001b[0m \u001b[0;31m# To Delete the file\u001b[0m\u001b[0;34m\u001b[0m\u001b[0;34m\u001b[0m\u001b[0;34m\u001b[0m\u001b[0m\n\u001b[1;32m      2\u001b[0m \u001b[0;34m\u001b[0m\u001b[0m\n\u001b[0;32m----> 3\u001b[0;31m \u001b[0mos\u001b[0m\u001b[0;34m.\u001b[0m\u001b[0munlink\u001b[0m\u001b[0;34m(\u001b[0m\u001b[0;34m\"/home/buzzzer/Documents/My-Notes/All-Delete/Delete-Files/untitled.txt\"\u001b[0m\u001b[0;34m)\u001b[0m\u001b[0;34m\u001b[0m\u001b[0;34m\u001b[0m\u001b[0m\n\u001b[0m",
      "\u001b[0;31mFileNotFoundError\u001b[0m: [Errno 2] No such file or directory: '/home/buzzzer/Documents/My-Notes/All-Delete/Delete-Files/untitled.txt'"
     ]
    }
   ],
   "source": [
    "# To Delete the file\n",
    "\n",
    "os.unlink(\"/home/buzzzer/Documents/My-Notes/All-Delete/Delete-Files/untitled.txt\")"
   ]
  },
  {
   "cell_type": "code",
   "execution_count": 55,
   "id": "71b274a8",
   "metadata": {},
   "outputs": [
    {
     "ename": "FileNotFoundError",
     "evalue": "[Errno 2] No such file or directory: '/home/buzzzer/Documents/My-Notes/All-Delete/Delete-Files/'",
     "output_type": "error",
     "traceback": [
      "\u001b[0;31m---------------------------------------------------------------------------\u001b[0m",
      "\u001b[0;31mFileNotFoundError\u001b[0m                         Traceback (most recent call last)",
      "\u001b[0;32m<ipython-input-55-5ed72ad807bb>\u001b[0m in \u001b[0;36m<module>\u001b[0;34m\u001b[0m\n\u001b[1;32m      1\u001b[0m \u001b[0;31m# Check the direcory now\u001b[0m\u001b[0;34m\u001b[0m\u001b[0;34m\u001b[0m\u001b[0;34m\u001b[0m\u001b[0m\n\u001b[1;32m      2\u001b[0m \u001b[0;34m\u001b[0m\u001b[0m\n\u001b[0;32m----> 3\u001b[0;31m \u001b[0mos\u001b[0m\u001b[0;34m.\u001b[0m\u001b[0mlistdir\u001b[0m\u001b[0;34m(\u001b[0m\u001b[0;34m\"/home/buzzzer/Documents/My-Notes/All-Delete/Delete-Files/\"\u001b[0m\u001b[0;34m)\u001b[0m\u001b[0;34m\u001b[0m\u001b[0;34m\u001b[0m\u001b[0m\n\u001b[0m",
      "\u001b[0;31mFileNotFoundError\u001b[0m: [Errno 2] No such file or directory: '/home/buzzzer/Documents/My-Notes/All-Delete/Delete-Files/'"
     ]
    }
   ],
   "source": [
    "# Check the direcory now\n",
    "\n",
    "os.listdir(\"/home/buzzzer/Documents/My-Notes/All-Delete/Delete-Files/\")"
   ]
  },
  {
   "cell_type": "code",
   "execution_count": 56,
   "id": "44d756c3",
   "metadata": {},
   "outputs": [
    {
     "ename": "FileNotFoundError",
     "evalue": "[Errno 2] No such file or directory: '/home/buzzzer/Documents/My-Notes/All-Delete/Delete-Files/'",
     "output_type": "error",
     "traceback": [
      "\u001b[0;31m---------------------------------------------------------------------------\u001b[0m",
      "\u001b[0;31mFileNotFoundError\u001b[0m                         Traceback (most recent call last)",
      "\u001b[0;32m<ipython-input-56-6e27ce5ce922>\u001b[0m in \u001b[0;36m<module>\u001b[0;34m\u001b[0m\n\u001b[1;32m      1\u001b[0m \u001b[0;31m# Now to delete the Delet-Files folder\u001b[0m\u001b[0;34m\u001b[0m\u001b[0;34m\u001b[0m\u001b[0;34m\u001b[0m\u001b[0m\n\u001b[1;32m      2\u001b[0m \u001b[0;34m\u001b[0m\u001b[0m\n\u001b[0;32m----> 3\u001b[0;31m \u001b[0mos\u001b[0m\u001b[0;34m.\u001b[0m\u001b[0mrmdir\u001b[0m\u001b[0;34m(\u001b[0m\u001b[0;34m\"/home/buzzzer/Documents/My-Notes/All-Delete/Delete-Files/\"\u001b[0m\u001b[0;34m)\u001b[0m\u001b[0;34m\u001b[0m\u001b[0;34m\u001b[0m\u001b[0m\n\u001b[0m",
      "\u001b[0;31mFileNotFoundError\u001b[0m: [Errno 2] No such file or directory: '/home/buzzzer/Documents/My-Notes/All-Delete/Delete-Files/'"
     ]
    }
   ],
   "source": [
    "# Now to delete the Delet-Files folder\n",
    "\n",
    "os.rmdir(\"/home/buzzzer/Documents/My-Notes/All-Delete/Delete-Files/\")"
   ]
  },
  {
   "cell_type": "code",
   "execution_count": 57,
   "id": "2323ab6f",
   "metadata": {},
   "outputs": [
    {
     "ename": "FileNotFoundError",
     "evalue": "[Errno 2] No such file or directory: '/home/buzzzer/Documents/My-Notes/All-Delete/Delete-Files/'",
     "output_type": "error",
     "traceback": [
      "\u001b[0;31m---------------------------------------------------------------------------\u001b[0m",
      "\u001b[0;31mFileNotFoundError\u001b[0m                         Traceback (most recent call last)",
      "\u001b[0;32m<ipython-input-57-bebe38588dc9>\u001b[0m in \u001b[0;36m<module>\u001b[0;34m\u001b[0m\n\u001b[0;32m----> 1\u001b[0;31m \u001b[0mos\u001b[0m\u001b[0;34m.\u001b[0m\u001b[0mlistdir\u001b[0m\u001b[0;34m(\u001b[0m\u001b[0;34m\"/home/buzzzer/Documents/My-Notes/All-Delete/Delete-Files/\"\u001b[0m\u001b[0;34m)\u001b[0m\u001b[0;34m\u001b[0m\u001b[0;34m\u001b[0m\u001b[0m\n\u001b[0m",
      "\u001b[0;31mFileNotFoundError\u001b[0m: [Errno 2] No such file or directory: '/home/buzzzer/Documents/My-Notes/All-Delete/Delete-Files/'"
     ]
    }
   ],
   "source": [
    "os.listdir(\"/home/buzzzer/Documents/My-Notes/All-Delete/Delete-Files/\")"
   ]
  },
  {
   "cell_type": "code",
   "execution_count": 58,
   "id": "e66dce61",
   "metadata": {},
   "outputs": [
    {
     "data": {
      "text/plain": [
       "['untitled1.txt', '.ipynb_checkpoints']"
      ]
     },
     "execution_count": 58,
     "metadata": {},
     "output_type": "execute_result"
    }
   ],
   "source": [
    "os.listdir(\"/home/buzzzer/Documents/My-Notes/All-Delete/\")"
   ]
  },
  {
   "cell_type": "markdown",
   "id": "1a9566d1",
   "metadata": {},
   "source": [
    "### Alternative to these options\n",
    "\n",
    "`send2trash` module"
   ]
  },
  {
   "cell_type": "code",
   "execution_count": 59,
   "id": "ef691e4c",
   "metadata": {},
   "outputs": [
    {
     "name": "stdout",
     "output_type": "stream",
     "text": [
      "Requirement already satisfied: send2trash in /home/buzzzer/miniconda3/lib/python3.8/site-packages (1.5.0)\r\n"
     ]
    }
   ],
   "source": [
    "!pip install send2trash"
   ]
  },
  {
   "cell_type": "code",
   "execution_count": 60,
   "id": "fbe61b96",
   "metadata": {},
   "outputs": [],
   "source": [
    "import send2trash"
   ]
  },
  {
   "cell_type": "code",
   "execution_count": 61,
   "id": "6fc87615",
   "metadata": {},
   "outputs": [
    {
     "ename": "OSError",
     "evalue": "File not found: /home/buzzzer/Documents/My-Notes/All-Delete/untitled.txt",
     "output_type": "error",
     "traceback": [
      "\u001b[0;31m---------------------------------------------------------------------------\u001b[0m",
      "\u001b[0;31mOSError\u001b[0m                                   Traceback (most recent call last)",
      "\u001b[0;32m<ipython-input-61-1f4b4885641b>\u001b[0m in \u001b[0;36m<module>\u001b[0;34m\u001b[0m\n\u001b[1;32m      1\u001b[0m \u001b[0;31m# To send any file to trash\u001b[0m\u001b[0;34m\u001b[0m\u001b[0;34m\u001b[0m\u001b[0;34m\u001b[0m\u001b[0m\n\u001b[0;32m----> 2\u001b[0;31m \u001b[0msend2trash\u001b[0m\u001b[0;34m.\u001b[0m\u001b[0msend2trash\u001b[0m\u001b[0;34m(\u001b[0m\u001b[0;34m\"/home/buzzzer/Documents/My-Notes/All-Delete/untitled.txt\"\u001b[0m\u001b[0;34m)\u001b[0m\u001b[0;34m\u001b[0m\u001b[0;34m\u001b[0m\u001b[0m\n\u001b[0m",
      "\u001b[0;32m~/miniconda3/lib/python3.8/site-packages/send2trash/plat_other.py\u001b[0m in \u001b[0;36msend2trash\u001b[0;34m(path)\u001b[0m\n\u001b[1;32m    168\u001b[0m \u001b[0;34m\u001b[0m\u001b[0m\n\u001b[1;32m    169\u001b[0m     \u001b[0;32mif\u001b[0m \u001b[0;32mnot\u001b[0m \u001b[0mop\u001b[0m\u001b[0;34m.\u001b[0m\u001b[0mexists\u001b[0m\u001b[0;34m(\u001b[0m\u001b[0mpath_b\u001b[0m\u001b[0;34m)\u001b[0m\u001b[0;34m:\u001b[0m\u001b[0;34m\u001b[0m\u001b[0;34m\u001b[0m\u001b[0m\n\u001b[0;32m--> 170\u001b[0;31m         \u001b[0;32mraise\u001b[0m \u001b[0mOSError\u001b[0m\u001b[0;34m(\u001b[0m\u001b[0;34m\"File not found: %s\"\u001b[0m \u001b[0;34m%\u001b[0m \u001b[0mpath\u001b[0m\u001b[0;34m)\u001b[0m\u001b[0;34m\u001b[0m\u001b[0;34m\u001b[0m\u001b[0m\n\u001b[0m\u001b[1;32m    171\u001b[0m     \u001b[0;31m# ...should check whether the user has the necessary permissions to delete\u001b[0m\u001b[0;34m\u001b[0m\u001b[0;34m\u001b[0m\u001b[0;34m\u001b[0m\u001b[0m\n\u001b[1;32m    172\u001b[0m     \u001b[0;31m# it, before starting the trashing operation itself. [2]\u001b[0m\u001b[0;34m\u001b[0m\u001b[0;34m\u001b[0m\u001b[0;34m\u001b[0m\u001b[0m\n",
      "\u001b[0;31mOSError\u001b[0m: File not found: /home/buzzzer/Documents/My-Notes/All-Delete/untitled.txt"
     ]
    }
   ],
   "source": [
    "# To send any file to trash\n",
    "send2trash.send2trash(\"/home/buzzzer/Documents/My-Notes/All-Delete/untitled.txt\")"
   ]
  },
  {
   "cell_type": "code",
   "execution_count": 62,
   "id": "82ace563",
   "metadata": {},
   "outputs": [
    {
     "data": {
      "text/plain": [
       "['untitled1.txt', '.ipynb_checkpoints']"
      ]
     },
     "execution_count": 62,
     "metadata": {},
     "output_type": "execute_result"
    }
   ],
   "source": [
    "os.listdir(\"/home/buzzzer/Documents/My-Notes/All-Delete/\")"
   ]
  },
  {
   "cell_type": "code",
   "execution_count": null,
   "id": "fd72e2e5",
   "metadata": {},
   "outputs": [],
   "source": []
  },
  {
   "cell_type": "code",
   "execution_count": null,
   "id": "1a1b77ad",
   "metadata": {},
   "outputs": [],
   "source": []
  },
  {
   "cell_type": "code",
   "execution_count": null,
   "id": "fa7aa03c",
   "metadata": {},
   "outputs": [],
   "source": []
  },
  {
   "cell_type": "markdown",
   "id": "f526902e",
   "metadata": {},
   "source": [
    "### 2.2.5 Directory Tree Generator\n",
    "\n",
    "This uses of tuple unpacking to show the list of all files and folder insside a folder.\n"
   ]
  },
  {
   "cell_type": "code",
   "execution_count": 63,
   "id": "4d59752b",
   "metadata": {},
   "outputs": [
    {
     "data": {
      "text/plain": [
       "<generator object walk at 0x7f2ac170af90>"
      ]
     },
     "execution_count": 63,
     "metadata": {},
     "output_type": "execute_result"
    }
   ],
   "source": [
    "os.walk(\"/home/buzzzer/Documents/My-Notes/\")"
   ]
  },
  {
   "cell_type": "code",
   "execution_count": 64,
   "id": "29fc0ad0",
   "metadata": {},
   "outputs": [
    {
     "name": "stdout",
     "output_type": "stream",
     "text": [
      "\n",
      "\n",
      "Current Folder: /home/buzzzer/Documents/My-Notes/\n",
      "\n",
      "\n",
      "\tThe subfolders anf files are: \n",
      "Subfolder: Part-2\n",
      "Subfolder: .ipynb_checkpoints\n",
      "Subfolder: Part-1\n",
      "Subfolder: Part-3\n",
      "Subfolder: All-Delete\n",
      "Subfolder: PY_Files\n",
      "Files : .Rhistory\n",
      "Files : example.txt\n",
      "Files : Introduction To Numpy.ipynb\n",
      "Files : learning-python-3.ipynb\n",
      "Files : Game-TTT.ipynb\n",
      "Files : untitled1.txt\n",
      "Files : Introduction To Scikit-Learn (sklearn).ipynb\n",
      "Files : .jovianrc\n",
      "Files : Intro to Python Assignment.ipynb\n",
      "Files : DS-Course-Syllabus.ipynb\n",
      "Files : untitled.txt\n",
      "Files : Introduction to Matplotlib.ipynb\n",
      "Files : Introduction To Pandas.ipynb\n",
      "Files : numpy-panda.png\n",
      "Files : sample.py\n",
      "\n",
      "\n",
      "Current Folder: /home/buzzzer/Documents/My-Notes/Part-2\n",
      "\n",
      "\n",
      "\tThe subfolders anf files are: \n",
      "Subfolder: .ipynb_checkpoints\n",
      "Files : Intermediate-Python-1.ipynb\n",
      "Files : example.txt\n",
      "Files : Intermediate-Python-2.ipynb\n",
      "Files : Intermediate-Python-3.ipynb\n",
      "\n",
      "\n",
      "Current Folder: /home/buzzzer/Documents/My-Notes/Part-2/.ipynb_checkpoints\n",
      "\n",
      "\n",
      "\tThe subfolders anf files are: \n",
      "Files : Intermediate-Python-3-checkpoint.ipynb\n",
      "Files : Intermediate-Python-2-checkpoint.ipynb\n",
      "Files : Intermediate-Python-1-checkpoint.ipynb\n",
      "\n",
      "\n",
      "Current Folder: /home/buzzzer/Documents/My-Notes/.ipynb_checkpoints\n",
      "\n",
      "\n",
      "\tThe subfolders anf files are: \n",
      "Files : Introduction To Pandas-checkpoint.ipynb\n",
      "Files : Introduction to Matplotlib-checkpoint.ipynb\n",
      "Files : Game-TTT-checkpoint.ipynb\n",
      "Files : learning-python-3-checkpoint.ipynb\n",
      "Files : Introduction To Numpy-checkpoint.ipynb\n",
      "Files : Intro to Python Assignment-checkpoint.ipynb\n",
      "Files : DS-Course-Syllabus-checkpoint.ipynb\n",
      "\n",
      "\n",
      "Current Folder: /home/buzzzer/Documents/My-Notes/Part-1\n",
      "\n",
      "\n",
      "\tThe subfolders anf files are: \n",
      "Subfolder: .ipynb_checkpoints\n",
      "Files : Introduction to Python 4.ipynb\n",
      "Files : Introduction to Python 3.ipynb\n",
      "Files : Introduction to Python 1.ipynb\n",
      "Files : Introduction to Python 2.ipynb\n",
      "\n",
      "\n",
      "Current Folder: /home/buzzzer/Documents/My-Notes/Part-1/.ipynb_checkpoints\n",
      "\n",
      "\n",
      "\tThe subfolders anf files are: \n",
      "Files : Introduction to Python 2-checkpoint.ipynb\n",
      "Files : Introduction to Python 4-checkpoint.ipynb\n",
      "Files : Introduction to Python 1-checkpoint.ipynb\n",
      "Files : Introduction to Python 3-checkpoint.ipynb\n",
      "\n",
      "\n",
      "Current Folder: /home/buzzzer/Documents/My-Notes/Part-3\n",
      "\n",
      "\n",
      "\tThe subfolders anf files are: \n",
      "Subfolder: .ipynb_checkpoints\n",
      "Files : Advance-Python-1.ipynb\n",
      "Files : Advance-Python-2.ipynb\n",
      "\n",
      "\n",
      "Current Folder: /home/buzzzer/Documents/My-Notes/Part-3/.ipynb_checkpoints\n",
      "\n",
      "\n",
      "\tThe subfolders anf files are: \n",
      "Files : Advance-Python-1-checkpoint.ipynb\n",
      "Files : Advance-Python-2-checkpoint.ipynb\n",
      "\n",
      "\n",
      "Current Folder: /home/buzzzer/Documents/My-Notes/All-Delete\n",
      "\n",
      "\n",
      "\tThe subfolders anf files are: \n",
      "Subfolder: .ipynb_checkpoints\n",
      "Files : untitled1.txt\n",
      "\n",
      "\n",
      "Current Folder: /home/buzzzer/Documents/My-Notes/All-Delete/.ipynb_checkpoints\n",
      "\n",
      "\n",
      "\tThe subfolders anf files are: \n",
      "\n",
      "\n",
      "Current Folder: /home/buzzzer/Documents/My-Notes/PY_Files\n",
      "\n",
      "\n",
      "\tThe subfolders anf files are: \n",
      "Subfolder: __pycache__\n",
      "Files : example_code.py\n",
      "Files : test_example.py\n",
      "Files : tic_tac.py\n",
      "\n",
      "\n",
      "Current Folder: /home/buzzzer/Documents/My-Notes/PY_Files/__pycache__\n",
      "\n",
      "\n",
      "\tThe subfolders anf files are: \n",
      "Files : example_code.cpython-38.pyc\n"
     ]
    }
   ],
   "source": [
    "# To see the output\n",
    "\n",
    "for folder, subfolder, files in os.walk(\"/home/buzzzer/Documents/My-Notes/\"):\n",
    "    \n",
    "    print(\"\\n\")\n",
    "    print(f\"Current Folder: {folder}\")\n",
    "    print(\"\\n\")\n",
    "    \n",
    "    print(\"\\tThe subfolders anf files are: \")\n",
    "    \n",
    "    for sub in subfolder:\n",
    "        \n",
    "        print(f\"Subfolder: {sub}\")\n",
    "        \n",
    "    for file in files:\n",
    "        \n",
    "        print(f\"Files : {file}\")"
   ]
  },
  {
   "cell_type": "markdown",
   "id": "031cede5",
   "metadata": {},
   "source": [
    "## 2.3 Python Date-Time Module\n",
    "\n",
    "Helps you to work with the date and time features\n",
    "\n",
    "- Helpful for Databases systems\n",
    "- Helpful for Pandas systems\n"
   ]
  },
  {
   "cell_type": "code",
   "execution_count": 65,
   "id": "c33602d8",
   "metadata": {},
   "outputs": [],
   "source": [
    "import datetime"
   ]
  },
  {
   "cell_type": "code",
   "execution_count": 66,
   "id": "0312ef75",
   "metadata": {},
   "outputs": [],
   "source": [
    "# Time with hour and minute format\n",
    "time = datetime.time(18,43)"
   ]
  },
  {
   "cell_type": "code",
   "execution_count": 67,
   "id": "25472527",
   "metadata": {},
   "outputs": [
    {
     "name": "stdout",
     "output_type": "stream",
     "text": [
      "18:43:00\n"
     ]
    }
   ],
   "source": [
    "print(time)"
   ]
  },
  {
   "cell_type": "code",
   "execution_count": 68,
   "id": "2f1b57ce",
   "metadata": {},
   "outputs": [
    {
     "data": {
      "text/plain": [
       "43"
      ]
     },
     "execution_count": 68,
     "metadata": {},
     "output_type": "execute_result"
    }
   ],
   "source": [
    "time.minute"
   ]
  },
  {
   "cell_type": "code",
   "execution_count": 69,
   "id": "89e8c9e1",
   "metadata": {},
   "outputs": [
    {
     "data": {
      "text/plain": [
       "18"
      ]
     },
     "execution_count": 69,
     "metadata": {},
     "output_type": "execute_result"
    }
   ],
   "source": [
    "time.hour"
   ]
  },
  {
   "cell_type": "code",
   "execution_count": null,
   "id": "ad739a2d",
   "metadata": {},
   "outputs": [],
   "source": []
  },
  {
   "cell_type": "code",
   "execution_count": 70,
   "id": "7ec493f7",
   "metadata": {},
   "outputs": [],
   "source": [
    "# Time with hour, minute, second and microsecond format\n",
    "time = datetime.time(18,43,55,122)"
   ]
  },
  {
   "cell_type": "code",
   "execution_count": 71,
   "id": "93d147ec",
   "metadata": {},
   "outputs": [
    {
     "name": "stdout",
     "output_type": "stream",
     "text": [
      "18:43:55.000122\n"
     ]
    }
   ],
   "source": [
    "print(time)"
   ]
  },
  {
   "cell_type": "code",
   "execution_count": null,
   "id": "afd4297f",
   "metadata": {},
   "outputs": [],
   "source": []
  },
  {
   "cell_type": "code",
   "execution_count": 72,
   "id": "a7ca1098",
   "metadata": {},
   "outputs": [
    {
     "data": {
      "text/plain": [
       "datetime.time"
      ]
     },
     "execution_count": 72,
     "metadata": {},
     "output_type": "execute_result"
    }
   ],
   "source": [
    "# When we check the type\n",
    "\n",
    "type(time)"
   ]
  },
  {
   "cell_type": "code",
   "execution_count": null,
   "id": "a0071729",
   "metadata": {},
   "outputs": [],
   "source": []
  },
  {
   "cell_type": "code",
   "execution_count": null,
   "id": "dc5dec89",
   "metadata": {},
   "outputs": [],
   "source": []
  },
  {
   "cell_type": "code",
   "execution_count": 73,
   "id": "cd22bcdc",
   "metadata": {},
   "outputs": [],
   "source": [
    "# We can check for the date\n",
    "\n",
    "today = datetime.date.today()"
   ]
  },
  {
   "cell_type": "code",
   "execution_count": 74,
   "id": "7493d3a4",
   "metadata": {},
   "outputs": [
    {
     "data": {
      "text/plain": [
       "datetime.date(2021, 6, 26)"
      ]
     },
     "execution_count": 74,
     "metadata": {},
     "output_type": "execute_result"
    }
   ],
   "source": [
    "today"
   ]
  },
  {
   "cell_type": "code",
   "execution_count": 75,
   "id": "d0668035",
   "metadata": {},
   "outputs": [
    {
     "name": "stdout",
     "output_type": "stream",
     "text": [
      "2021-06-26\n"
     ]
    }
   ],
   "source": [
    "print(today)"
   ]
  },
  {
   "cell_type": "code",
   "execution_count": 76,
   "id": "bbd84c5e",
   "metadata": {},
   "outputs": [
    {
     "data": {
      "text/plain": [
       "datetime.date"
      ]
     },
     "execution_count": 76,
     "metadata": {},
     "output_type": "execute_result"
    }
   ],
   "source": [
    "type(today)"
   ]
  },
  {
   "cell_type": "code",
   "execution_count": 77,
   "id": "3e27d710",
   "metadata": {},
   "outputs": [
    {
     "data": {
      "text/plain": [
       "2021"
      ]
     },
     "execution_count": 77,
     "metadata": {},
     "output_type": "execute_result"
    }
   ],
   "source": [
    "today.year"
   ]
  },
  {
   "cell_type": "code",
   "execution_count": 78,
   "id": "b350e853",
   "metadata": {},
   "outputs": [
    {
     "data": {
      "text/plain": [
       "6"
      ]
     },
     "execution_count": 78,
     "metadata": {},
     "output_type": "execute_result"
    }
   ],
   "source": [
    "today.month"
   ]
  },
  {
   "cell_type": "code",
   "execution_count": null,
   "id": "9ad459c8",
   "metadata": {},
   "outputs": [],
   "source": []
  },
  {
   "cell_type": "code",
   "execution_count": 79,
   "id": "09316f4c",
   "metadata": {},
   "outputs": [
    {
     "data": {
      "text/plain": [
       "'Sat Jun 26 00:00:00 2021'"
      ]
     },
     "execution_count": 79,
     "metadata": {},
     "output_type": "execute_result"
    }
   ],
   "source": [
    "# Another format of date time\n",
    "\n",
    "today.ctime()"
   ]
  },
  {
   "cell_type": "code",
   "execution_count": null,
   "id": "419518d9",
   "metadata": {},
   "outputs": [],
   "source": []
  },
  {
   "cell_type": "code",
   "execution_count": null,
   "id": "9010e2d7",
   "metadata": {},
   "outputs": [],
   "source": []
  },
  {
   "cell_type": "code",
   "execution_count": 80,
   "id": "cc252984",
   "metadata": {},
   "outputs": [],
   "source": [
    "# TO get the both date and time together\n",
    "\n",
    "day = datetime.datetime(2020,12,12,12,12,12)"
   ]
  },
  {
   "cell_type": "code",
   "execution_count": 81,
   "id": "31698c2f",
   "metadata": {},
   "outputs": [
    {
     "name": "stdout",
     "output_type": "stream",
     "text": [
      "2020-12-12 12:12:12\n"
     ]
    }
   ],
   "source": [
    "print(day)"
   ]
  },
  {
   "cell_type": "code",
   "execution_count": 82,
   "id": "b826cc7e",
   "metadata": {},
   "outputs": [
    {
     "data": {
      "text/plain": [
       "datetime.datetime(2021, 12, 11, 12, 12, 12)"
      ]
     },
     "execution_count": 82,
     "metadata": {},
     "output_type": "execute_result"
    }
   ],
   "source": [
    "# TO change something\n",
    "\n",
    "day.replace(year=2021,day=11)"
   ]
  },
  {
   "cell_type": "code",
   "execution_count": 83,
   "id": "8698c931",
   "metadata": {},
   "outputs": [
    {
     "name": "stdout",
     "output_type": "stream",
     "text": [
      "2020-12-12 12:12:12\n"
     ]
    }
   ],
   "source": [
    "print(day)"
   ]
  },
  {
   "cell_type": "code",
   "execution_count": 84,
   "id": "602763c2",
   "metadata": {},
   "outputs": [],
   "source": [
    "# We need to update the time as well\n",
    "\n",
    "day = day.replace(year=2021,day=11)"
   ]
  },
  {
   "cell_type": "code",
   "execution_count": 85,
   "id": "c26f894d",
   "metadata": {},
   "outputs": [
    {
     "name": "stdout",
     "output_type": "stream",
     "text": [
      "2021-12-11 12:12:12\n"
     ]
    }
   ],
   "source": [
    "print(day)"
   ]
  },
  {
   "cell_type": "code",
   "execution_count": 86,
   "id": "8a2894eb",
   "metadata": {},
   "outputs": [
    {
     "name": "stdout",
     "output_type": "stream",
     "text": [
      "Sat Dec 11 12:12:12 2021\n"
     ]
    }
   ],
   "source": [
    "print(day.ctime())"
   ]
  },
  {
   "cell_type": "code",
   "execution_count": null,
   "id": "ffdd4c92",
   "metadata": {},
   "outputs": [],
   "source": []
  },
  {
   "cell_type": "markdown",
   "id": "231c806f",
   "metadata": {},
   "source": [
    "### 2.3.1 Arithmatic Functions"
   ]
  },
  {
   "cell_type": "code",
   "execution_count": 87,
   "id": "7a80ac27",
   "metadata": {},
   "outputs": [],
   "source": [
    "# With Date\n",
    "\n",
    "login_date = datetime.date(2021,3,12)\n",
    "logout_date = datetime.date(2021,6,5)"
   ]
  },
  {
   "cell_type": "code",
   "execution_count": 88,
   "id": "e2cdcc4d",
   "metadata": {},
   "outputs": [],
   "source": [
    "result = logout_date - login_date"
   ]
  },
  {
   "cell_type": "code",
   "execution_count": 89,
   "id": "326670e0",
   "metadata": {},
   "outputs": [
    {
     "data": {
      "text/plain": [
       "datetime.timedelta(days=85)"
      ]
     },
     "execution_count": 89,
     "metadata": {},
     "output_type": "execute_result"
    }
   ],
   "source": [
    "result"
   ]
  },
  {
   "cell_type": "code",
   "execution_count": 90,
   "id": "16e0544d",
   "metadata": {},
   "outputs": [
    {
     "data": {
      "text/plain": [
       "datetime.timedelta"
      ]
     },
     "execution_count": 90,
     "metadata": {},
     "output_type": "execute_result"
    }
   ],
   "source": [
    "type(result)"
   ]
  },
  {
   "cell_type": "code",
   "execution_count": 91,
   "id": "ff83d16a",
   "metadata": {},
   "outputs": [
    {
     "data": {
      "text/plain": [
       "85"
      ]
     },
     "execution_count": 91,
     "metadata": {},
     "output_type": "execute_result"
    }
   ],
   "source": [
    "result.days"
   ]
  },
  {
   "cell_type": "code",
   "execution_count": null,
   "id": "b09e5fd6",
   "metadata": {},
   "outputs": [],
   "source": []
  },
  {
   "cell_type": "code",
   "execution_count": null,
   "id": "14c4b309",
   "metadata": {},
   "outputs": [],
   "source": []
  },
  {
   "cell_type": "code",
   "execution_count": 92,
   "id": "1a1e4d5e",
   "metadata": {},
   "outputs": [],
   "source": [
    "# With Date and Time both\n",
    "\n",
    "login_time = datetime.datetime(2021,3,12,5,14,32)\n",
    "logout_time = datetime.datetime(2021,6,5,12,3,6)"
   ]
  },
  {
   "cell_type": "code",
   "execution_count": 93,
   "id": "9af00ea2",
   "metadata": {},
   "outputs": [
    {
     "data": {
      "text/plain": [
       "datetime.timedelta(days=85, seconds=24514)"
      ]
     },
     "execution_count": 93,
     "metadata": {},
     "output_type": "execute_result"
    }
   ],
   "source": [
    "logout_time - login_time"
   ]
  },
  {
   "cell_type": "code",
   "execution_count": 94,
   "id": "52519380",
   "metadata": {},
   "outputs": [],
   "source": [
    "result = logout_time - login_time"
   ]
  },
  {
   "cell_type": "code",
   "execution_count": 95,
   "id": "0527c295",
   "metadata": {},
   "outputs": [
    {
     "data": {
      "text/plain": [
       "85"
      ]
     },
     "execution_count": 95,
     "metadata": {},
     "output_type": "execute_result"
    }
   ],
   "source": [
    "result.days"
   ]
  },
  {
   "cell_type": "code",
   "execution_count": 96,
   "id": "a49c46fe",
   "metadata": {},
   "outputs": [
    {
     "data": {
      "text/plain": [
       "7368514.0"
      ]
     },
     "execution_count": 96,
     "metadata": {},
     "output_type": "execute_result"
    }
   ],
   "source": [
    "result.total_seconds()"
   ]
  },
  {
   "cell_type": "code",
   "execution_count": 97,
   "id": "0abb1612",
   "metadata": {},
   "outputs": [
    {
     "data": {
      "text/plain": [
       "85.28372685185185"
      ]
     },
     "execution_count": 97,
     "metadata": {},
     "output_type": "execute_result"
    }
   ],
   "source": [
    "result.total_seconds()/60/60/24"
   ]
  },
  {
   "cell_type": "code",
   "execution_count": null,
   "id": "28d5b754",
   "metadata": {},
   "outputs": [],
   "source": []
  },
  {
   "cell_type": "code",
   "execution_count": null,
   "id": "7f2d27be",
   "metadata": {},
   "outputs": [],
   "source": []
  },
  {
   "cell_type": "markdown",
   "id": "543c3708",
   "metadata": {},
   "source": [
    "## 2.4 Python Math and Random Module\n",
    "\n",
    "Helps you to work with the different math functions "
   ]
  },
  {
   "cell_type": "markdown",
   "id": "d0c05a80",
   "metadata": {},
   "source": [
    "### 2.4.1 Math Module\n",
    "\n",
    "* importing math\n",
    "* math constants\n",
    "* general math functions\n",
    "* log functions and more\n",
    "\n",
    "**Note:** If you need more powerful tools related to `math` check out `numpy` module\n",
    "\n",
    "for more info: https://docs.python.org/3/library/math.html "
   ]
  },
  {
   "cell_type": "code",
   "execution_count": 98,
   "id": "410c9941",
   "metadata": {},
   "outputs": [],
   "source": [
    "import math\n",
    "\n",
    "# Helps with all the basic math functions"
   ]
  },
  {
   "cell_type": "code",
   "execution_count": 99,
   "id": "a1397083",
   "metadata": {},
   "outputs": [
    {
     "data": {
      "text/plain": [
       "3.141592653589793"
      ]
     },
     "execution_count": 99,
     "metadata": {},
     "output_type": "execute_result"
    }
   ],
   "source": [
    "math.pi"
   ]
  },
  {
   "cell_type": "code",
   "execution_count": 100,
   "id": "0933c574",
   "metadata": {},
   "outputs": [
    {
     "data": {
      "text/plain": [
       "inf"
      ]
     },
     "execution_count": 100,
     "metadata": {},
     "output_type": "execute_result"
    }
   ],
   "source": [
    "math.inf"
   ]
  },
  {
   "cell_type": "code",
   "execution_count": 101,
   "id": "649678ba",
   "metadata": {},
   "outputs": [
    {
     "data": {
      "text/plain": [
       "2.718281828459045"
      ]
     },
     "execution_count": 101,
     "metadata": {},
     "output_type": "execute_result"
    }
   ],
   "source": [
    "math.e"
   ]
  },
  {
   "cell_type": "code",
   "execution_count": 102,
   "id": "1398f748",
   "metadata": {},
   "outputs": [
    {
     "data": {
      "text/plain": [
       "nan"
      ]
     },
     "execution_count": 102,
     "metadata": {},
     "output_type": "execute_result"
    }
   ],
   "source": [
    "math.nan"
   ]
  },
  {
   "cell_type": "code",
   "execution_count": 103,
   "id": "aa4cc76f",
   "metadata": {},
   "outputs": [],
   "source": [
    "x = 12.12"
   ]
  },
  {
   "cell_type": "code",
   "execution_count": 104,
   "id": "4d013dbd",
   "metadata": {},
   "outputs": [
    {
     "data": {
      "text/plain": [
       "12"
      ]
     },
     "execution_count": 104,
     "metadata": {},
     "output_type": "execute_result"
    }
   ],
   "source": [
    "math.floor(x) # The lowest close"
   ]
  },
  {
   "cell_type": "code",
   "execution_count": 105,
   "id": "157ae8f5",
   "metadata": {},
   "outputs": [
    {
     "data": {
      "text/plain": [
       "13"
      ]
     },
     "execution_count": 105,
     "metadata": {},
     "output_type": "execute_result"
    }
   ],
   "source": [
    "math.ceil(x) # The highest close"
   ]
  },
  {
   "cell_type": "code",
   "execution_count": 106,
   "id": "fc5d2440",
   "metadata": {},
   "outputs": [
    {
     "data": {
      "text/plain": [
       "2"
      ]
     },
     "execution_count": 106,
     "metadata": {},
     "output_type": "execute_result"
    }
   ],
   "source": [
    "round(2.5)"
   ]
  },
  {
   "cell_type": "code",
   "execution_count": 107,
   "id": "ad77fc78",
   "metadata": {},
   "outputs": [
    {
     "data": {
      "text/plain": [
       "4"
      ]
     },
     "execution_count": 107,
     "metadata": {},
     "output_type": "execute_result"
    }
   ],
   "source": [
    "round(3.5)"
   ]
  },
  {
   "cell_type": "code",
   "execution_count": null,
   "id": "7d2f6cc5",
   "metadata": {},
   "outputs": [],
   "source": []
  },
  {
   "cell_type": "code",
   "execution_count": 108,
   "id": "c4d171fe",
   "metadata": {},
   "outputs": [
    {
     "data": {
      "text/plain": [
       "3.3219280948873626"
      ]
     },
     "execution_count": 108,
     "metadata": {},
     "output_type": "execute_result"
    }
   ],
   "source": [
    "math.log(10,2)"
   ]
  },
  {
   "cell_type": "code",
   "execution_count": 109,
   "id": "4a203488",
   "metadata": {},
   "outputs": [
    {
     "data": {
      "text/plain": [
       "5.0"
      ]
     },
     "execution_count": 109,
     "metadata": {},
     "output_type": "execute_result"
    }
   ],
   "source": [
    "math.log10(100000)"
   ]
  },
  {
   "cell_type": "code",
   "execution_count": 110,
   "id": "0845906d",
   "metadata": {},
   "outputs": [
    {
     "data": {
      "text/plain": [
       "8.0"
      ]
     },
     "execution_count": 110,
     "metadata": {},
     "output_type": "execute_result"
    }
   ],
   "source": [
    "math.log2(256)"
   ]
  },
  {
   "cell_type": "code",
   "execution_count": null,
   "id": "ce970303",
   "metadata": {},
   "outputs": [],
   "source": []
  },
  {
   "cell_type": "code",
   "execution_count": 111,
   "id": "9966954d",
   "metadata": {},
   "outputs": [
    {
     "data": {
      "text/plain": [
       "180.0"
      ]
     },
     "execution_count": 111,
     "metadata": {},
     "output_type": "execute_result"
    }
   ],
   "source": [
    "math.degrees(math.pi)"
   ]
  },
  {
   "cell_type": "markdown",
   "id": "fa547a11",
   "metadata": {},
   "source": [
    "### 2.4.1 Python random Module\n",
    "\n",
    "* importing random\n",
    "* random seed\n",
    "* random integer\n",
    "* random choice\n",
    "* random shuffle\n",
    "\n",
    "**Note:** If you need more powerful tools related to `random` check out `numpy` module\n",
    "\n",
    "for more info : https://docs.python.org/3/library/random.html "
   ]
  },
  {
   "cell_type": "code",
   "execution_count": 112,
   "id": "bf824c5b",
   "metadata": {},
   "outputs": [],
   "source": [
    "import random "
   ]
  },
  {
   "cell_type": "markdown",
   "id": "5c82508b",
   "metadata": {},
   "source": [
    "####  To produce a random number"
   ]
  },
  {
   "cell_type": "code",
   "execution_count": 113,
   "id": "9a553198",
   "metadata": {},
   "outputs": [
    {
     "data": {
      "text/plain": [
       "47"
      ]
     },
     "execution_count": 113,
     "metadata": {},
     "output_type": "execute_result"
    }
   ],
   "source": [
    "random.randint(0,100)"
   ]
  },
  {
   "cell_type": "code",
   "execution_count": 117,
   "id": "d23783f2",
   "metadata": {},
   "outputs": [
    {
     "data": {
      "text/plain": [
       "49"
      ]
     },
     "execution_count": 117,
     "metadata": {},
     "output_type": "execute_result"
    }
   ],
   "source": [
    "# How to get the same random number\n",
    "\n",
    "random.seed(0) # Seed number can be anything\n",
    "\n",
    "random.randint(0,100)"
   ]
  },
  {
   "cell_type": "code",
   "execution_count": 118,
   "id": "e113fedd",
   "metadata": {},
   "outputs": [
    {
     "data": {
      "text/plain": [
       "97"
      ]
     },
     "execution_count": 118,
     "metadata": {},
     "output_type": "execute_result"
    }
   ],
   "source": [
    "random.randint(0,100)"
   ]
  },
  {
   "cell_type": "code",
   "execution_count": 119,
   "id": "f3ac30a2",
   "metadata": {},
   "outputs": [
    {
     "data": {
      "text/plain": [
       "53"
      ]
     },
     "execution_count": 119,
     "metadata": {},
     "output_type": "execute_result"
    }
   ],
   "source": [
    "random.randint(0,100)"
   ]
  },
  {
   "cell_type": "code",
   "execution_count": 120,
   "id": "9f8775a7",
   "metadata": {},
   "outputs": [
    {
     "data": {
      "text/plain": [
       "5"
      ]
     },
     "execution_count": 120,
     "metadata": {},
     "output_type": "execute_result"
    }
   ],
   "source": [
    "random.randint(0,100)"
   ]
  },
  {
   "cell_type": "code",
   "execution_count": 121,
   "id": "0323d74c",
   "metadata": {},
   "outputs": [
    {
     "name": "stdout",
     "output_type": "stream",
     "text": [
      "49\n",
      "97\n",
      "53\n",
      "5\n",
      "33\n"
     ]
    }
   ],
   "source": [
    "random.seed(0) # Generates a continious set of random number\n",
    "\n",
    "print(random.randint(0,100))\n",
    "print(random.randint(0,100))\n",
    "print(random.randint(0,100))\n",
    "print(random.randint(0,100))\n",
    "print(random.randint(0,100))"
   ]
  },
  {
   "cell_type": "markdown",
   "id": "a1845854",
   "metadata": {},
   "source": [
    "#### To get a random object from a list"
   ]
  },
  {
   "cell_type": "code",
   "execution_count": 122,
   "id": "a2898287",
   "metadata": {},
   "outputs": [],
   "source": [
    "mylist = [1,2,3,4,5,6,7,8,8,8,223,5,45,7567,12]"
   ]
  },
  {
   "cell_type": "code",
   "execution_count": 123,
   "id": "6146b81f",
   "metadata": {},
   "outputs": [
    {
     "data": {
      "text/plain": [
       "8"
      ]
     },
     "execution_count": 123,
     "metadata": {},
     "output_type": "execute_result"
    }
   ],
   "source": [
    "random.choice(mylist) # Gives out a random obk=ject from the given container"
   ]
  },
  {
   "cell_type": "code",
   "execution_count": 124,
   "id": "d3130a45",
   "metadata": {},
   "outputs": [
    {
     "data": {
      "text/plain": [
       "[1, 2, 3, 4, 5, 6, 7, 8, 8, 8, 223, 5, 45, 7567, 12]"
      ]
     },
     "execution_count": 124,
     "metadata": {},
     "output_type": "execute_result"
    }
   ],
   "source": [
    "mylist # The list is still the same"
   ]
  },
  {
   "cell_type": "code",
   "execution_count": null,
   "id": "9c5f0cd6",
   "metadata": {},
   "outputs": [],
   "source": []
  },
  {
   "cell_type": "code",
   "execution_count": null,
   "id": "d3b43d41",
   "metadata": {},
   "outputs": [],
   "source": []
  },
  {
   "cell_type": "markdown",
   "id": "30e45ad9",
   "metadata": {},
   "source": [
    "#### To get multiple values from the list\n",
    "\n",
    "1. Can pick the same number twice - sample with replacement\n",
    "2. Cannot pick the same number twice - sample without replacements"
   ]
  },
  {
   "cell_type": "code",
   "execution_count": 126,
   "id": "82684518",
   "metadata": {},
   "outputs": [
    {
     "data": {
      "text/plain": [
       "[7567, 4, 3, 3, 2, 5, 12, 8, 223, 8]"
      ]
     },
     "execution_count": 126,
     "metadata": {},
     "output_type": "execute_result"
    }
   ],
   "source": [
    "random.choices(population=mylist,k=10) # with replacemnmets"
   ]
  },
  {
   "cell_type": "code",
   "execution_count": 127,
   "id": "711b9861",
   "metadata": {},
   "outputs": [
    {
     "data": {
      "text/plain": [
       "[3, 5, 2, 5, 45, 6, 8, 223, 12, 4]"
      ]
     },
     "execution_count": 127,
     "metadata": {},
     "output_type": "execute_result"
    }
   ],
   "source": [
    "random.sample(population=mylist,k=10) # without replacements"
   ]
  },
  {
   "cell_type": "code",
   "execution_count": null,
   "id": "6ec8af55",
   "metadata": {},
   "outputs": [],
   "source": []
  },
  {
   "cell_type": "markdown",
   "id": "77a21d76",
   "metadata": {},
   "source": [
    "#### To shuffle a list\n",
    "\n",
    "**Note:** No need of reassignment"
   ]
  },
  {
   "cell_type": "code",
   "execution_count": 129,
   "id": "53bc63d9",
   "metadata": {},
   "outputs": [
    {
     "data": {
      "text/plain": [
       "[1, 2, 3, 4, 5, 6, 7, 8, 8, 8, 223, 5, 45, 7567, 12]"
      ]
     },
     "execution_count": 129,
     "metadata": {},
     "output_type": "execute_result"
    }
   ],
   "source": [
    "mylist"
   ]
  },
  {
   "cell_type": "code",
   "execution_count": 130,
   "id": "78394cfa",
   "metadata": {},
   "outputs": [],
   "source": [
    "random.shuffle(mylist)"
   ]
  },
  {
   "cell_type": "code",
   "execution_count": 131,
   "id": "5998626d",
   "metadata": {},
   "outputs": [
    {
     "data": {
      "text/plain": [
       "[5, 2, 3, 12, 7, 45, 1, 5, 7567, 8, 8, 4, 223, 8, 6]"
      ]
     },
     "execution_count": 131,
     "metadata": {},
     "output_type": "execute_result"
    }
   ],
   "source": [
    "mylist"
   ]
  },
  {
   "cell_type": "code",
   "execution_count": null,
   "id": "fb206030",
   "metadata": {},
   "outputs": [],
   "source": []
  },
  {
   "cell_type": "code",
   "execution_count": null,
   "id": "4bfb6b25",
   "metadata": {},
   "outputs": [],
   "source": []
  },
  {
   "cell_type": "markdown",
   "id": "9ced600f",
   "metadata": {},
   "source": [
    "## 2.5 Python Debugger\n",
    "\n",
    "A smart and helpful interactive builtin module for debugging some errors.\n",
    "\n",
    "\n",
    "for more info : https://docs.python.org/3/library/pdb.html"
   ]
  },
  {
   "cell_type": "code",
   "execution_count": 133,
   "id": "afdccf23",
   "metadata": {},
   "outputs": [
    {
     "ename": "TypeError",
     "evalue": "can only concatenate list (not \"int\") to list",
     "output_type": "error",
     "traceback": [
      "\u001b[0;31m---------------------------------------------------------------------------\u001b[0m",
      "\u001b[0;31mTypeError\u001b[0m                                 Traceback (most recent call last)",
      "\u001b[0;32m<ipython-input-133-e6e404ac4f19>\u001b[0m in \u001b[0;36m<module>\u001b[0;34m\u001b[0m\n\u001b[1;32m      4\u001b[0m \u001b[0;34m\u001b[0m\u001b[0m\n\u001b[1;32m      5\u001b[0m \u001b[0madd\u001b[0m \u001b[0;34m=\u001b[0m \u001b[0mmyage\u001b[0m \u001b[0;34m+\u001b[0m \u001b[0;36m20\u001b[0m\u001b[0;34m\u001b[0m\u001b[0;34m\u001b[0m\u001b[0m\n\u001b[0;32m----> 6\u001b[0;31m \u001b[0madd1\u001b[0m \u001b[0;34m=\u001b[0m \u001b[0mmylist\u001b[0m \u001b[0;34m+\u001b[0m \u001b[0mmyage\u001b[0m\u001b[0;34m\u001b[0m\u001b[0;34m\u001b[0m\u001b[0m\n\u001b[0m\u001b[1;32m      7\u001b[0m \u001b[0madd2\u001b[0m \u001b[0;34m=\u001b[0m \u001b[0madd1\u001b[0m \u001b[0;34m+\u001b[0m \u001b[0mmyname\u001b[0m\u001b[0;34m\u001b[0m\u001b[0;34m\u001b[0m\u001b[0m\n",
      "\u001b[0;31mTypeError\u001b[0m: can only concatenate list (not \"int\") to list"
     ]
    }
   ],
   "source": [
    "mylist = [2,7,96]\n",
    "myname = \"Bhupesh\"\n",
    "myage = 24\n",
    "\n",
    "add = myage + 20\n",
    "add1 = mylist + myage\n",
    "add2 = add1 + myname"
   ]
  },
  {
   "cell_type": "code",
   "execution_count": 134,
   "id": "9de84ccc",
   "metadata": {},
   "outputs": [
    {
     "name": "stdout",
     "output_type": "stream",
     "text": [
      "44\n"
     ]
    },
    {
     "ename": "TypeError",
     "evalue": "can only concatenate list (not \"int\") to list",
     "output_type": "error",
     "traceback": [
      "\u001b[0;31m---------------------------------------------------------------------------\u001b[0m",
      "\u001b[0;31mTypeError\u001b[0m                                 Traceback (most recent call last)",
      "\u001b[0;32m<ipython-input-134-468b62184b0f>\u001b[0m in \u001b[0;36m<module>\u001b[0;34m\u001b[0m\n\u001b[1;32m     10\u001b[0m \u001b[0madd\u001b[0m \u001b[0;34m=\u001b[0m \u001b[0mmyage\u001b[0m \u001b[0;34m+\u001b[0m \u001b[0;36m20\u001b[0m\u001b[0;34m\u001b[0m\u001b[0;34m\u001b[0m\u001b[0m\n\u001b[1;32m     11\u001b[0m \u001b[0mprint\u001b[0m\u001b[0;34m(\u001b[0m\u001b[0madd\u001b[0m\u001b[0;34m)\u001b[0m\u001b[0;34m\u001b[0m\u001b[0;34m\u001b[0m\u001b[0m\n\u001b[0;32m---> 12\u001b[0;31m \u001b[0madd1\u001b[0m \u001b[0;34m=\u001b[0m \u001b[0mmylist\u001b[0m \u001b[0;34m+\u001b[0m \u001b[0mmyage\u001b[0m\u001b[0;34m\u001b[0m\u001b[0;34m\u001b[0m\u001b[0m\n\u001b[0m\u001b[1;32m     13\u001b[0m \u001b[0mprint\u001b[0m\u001b[0;34m(\u001b[0m\u001b[0madd1\u001b[0m\u001b[0;34m)\u001b[0m\u001b[0;34m\u001b[0m\u001b[0;34m\u001b[0m\u001b[0m\n\u001b[1;32m     14\u001b[0m \u001b[0madd2\u001b[0m \u001b[0;34m=\u001b[0m \u001b[0madd1\u001b[0m \u001b[0;34m+\u001b[0m \u001b[0mmyname\u001b[0m\u001b[0;34m\u001b[0m\u001b[0;34m\u001b[0m\u001b[0m\n",
      "\u001b[0;31mTypeError\u001b[0m: can only concatenate list (not \"int\") to list"
     ]
    }
   ],
   "source": [
    "# We got error on line 6\n",
    "# Usually we try to see the erroe with print functions\n",
    "\n",
    "\n",
    "\n",
    "mylist = [2,7,96]\n",
    "myname = \"Bhupesh\"\n",
    "myage = 24\n",
    "\n",
    "add = myage + 20\n",
    "print(add)\n",
    "add1 = mylist + myage\n",
    "print(add1)\n",
    "add2 = add1 + myname\n",
    "print(add2)"
   ]
  },
  {
   "cell_type": "markdown",
   "id": "6da0b80b",
   "metadata": {},
   "source": [
    "What if we have thousands of line here and then we are doing such opeartins inthe bottom section ?\n",
    "\n",
    "We won't be able to check the variable and why its casuing error"
   ]
  },
  {
   "cell_type": "code",
   "execution_count": 135,
   "id": "3569d7f9",
   "metadata": {},
   "outputs": [],
   "source": [
    "# WE can take the help of Python Inbuilt Debugger\n",
    "\n",
    "import pdb"
   ]
  },
  {
   "cell_type": "code",
   "execution_count": 143,
   "id": "6816129f",
   "metadata": {},
   "outputs": [
    {
     "name": "stdout",
     "output_type": "stream",
     "text": [
      "--Return--\n",
      "None\n",
      "> \u001b[0;32m<ipython-input-143-75d948ded3e4>\u001b[0m(7)\u001b[0;36m<module>\u001b[0;34m()\u001b[0m\n",
      "\u001b[0;32m      5 \u001b[0;31m\u001b[0madd\u001b[0m \u001b[0;34m=\u001b[0m \u001b[0mmyage\u001b[0m \u001b[0;34m+\u001b[0m \u001b[0;36m20\u001b[0m\u001b[0;34m\u001b[0m\u001b[0;34m\u001b[0m\u001b[0m\n",
      "\u001b[0m\u001b[0;32m      6 \u001b[0;31m\u001b[0madd1\u001b[0m \u001b[0;34m=\u001b[0m \u001b[0mmylist\u001b[0m\u001b[0;34m[\u001b[0m\u001b[0;36m0\u001b[0m\u001b[0;34m]\u001b[0m \u001b[0;34m+\u001b[0m \u001b[0mmyage\u001b[0m\u001b[0;34m\u001b[0m\u001b[0;34m\u001b[0m\u001b[0m\n",
      "\u001b[0m\u001b[0;32m----> 7 \u001b[0;31m\u001b[0mpdb\u001b[0m\u001b[0;34m.\u001b[0m\u001b[0mset_trace\u001b[0m\u001b[0;34m(\u001b[0m\u001b[0;34m)\u001b[0m \u001b[0;31m# To check the lines and varibale to this point, added before the line where we are getting error\u001b[0m\u001b[0;34m\u001b[0m\u001b[0;34m\u001b[0m\u001b[0m\n",
      "\u001b[0m\u001b[0;32m      8 \u001b[0;31m\u001b[0madd2\u001b[0m \u001b[0;34m=\u001b[0m \u001b[0madd1\u001b[0m \u001b[0;34m+\u001b[0m \u001b[0mlen\u001b[0m\u001b[0;34m(\u001b[0m\u001b[0mmyname\u001b[0m\u001b[0;34m)\u001b[0m\u001b[0;34m\u001b[0m\u001b[0;34m\u001b[0m\u001b[0m\n",
      "\u001b[0m\u001b[0;32m      9 \u001b[0;31m\u001b[0mprint\u001b[0m\u001b[0;34m(\u001b[0m\u001b[0madd2\u001b[0m\u001b[0;34m)\u001b[0m\u001b[0;34m\u001b[0m\u001b[0;34m\u001b[0m\u001b[0m\n",
      "\u001b[0m\n",
      "ipdb> q\n"
     ]
    },
    {
     "ename": "BdbQuit",
     "evalue": "",
     "output_type": "error",
     "traceback": [
      "\u001b[0;31m---------------------------------------------------------------------------\u001b[0m",
      "\u001b[0;31mBdbQuit\u001b[0m                                   Traceback (most recent call last)",
      "\u001b[0;32m<ipython-input-143-75d948ded3e4>\u001b[0m in \u001b[0;36m<module>\u001b[0;34m\u001b[0m\n\u001b[1;32m      5\u001b[0m \u001b[0madd\u001b[0m \u001b[0;34m=\u001b[0m \u001b[0mmyage\u001b[0m \u001b[0;34m+\u001b[0m \u001b[0;36m20\u001b[0m\u001b[0;34m\u001b[0m\u001b[0;34m\u001b[0m\u001b[0m\n\u001b[1;32m      6\u001b[0m \u001b[0madd1\u001b[0m \u001b[0;34m=\u001b[0m \u001b[0mmylist\u001b[0m\u001b[0;34m[\u001b[0m\u001b[0;36m0\u001b[0m\u001b[0;34m]\u001b[0m \u001b[0;34m+\u001b[0m \u001b[0mmyage\u001b[0m\u001b[0;34m\u001b[0m\u001b[0;34m\u001b[0m\u001b[0m\n\u001b[0;32m----> 7\u001b[0;31m \u001b[0mpdb\u001b[0m\u001b[0;34m.\u001b[0m\u001b[0mset_trace\u001b[0m\u001b[0;34m(\u001b[0m\u001b[0;34m)\u001b[0m \u001b[0;31m# To check the lines and varibale to this point, added before the line where we are getting error\u001b[0m\u001b[0;34m\u001b[0m\u001b[0;34m\u001b[0m\u001b[0m\n\u001b[0m\u001b[1;32m      8\u001b[0m \u001b[0madd2\u001b[0m \u001b[0;34m=\u001b[0m \u001b[0madd1\u001b[0m \u001b[0;34m+\u001b[0m \u001b[0mlen\u001b[0m\u001b[0;34m(\u001b[0m\u001b[0mmyname\u001b[0m\u001b[0;34m)\u001b[0m\u001b[0;34m\u001b[0m\u001b[0;34m\u001b[0m\u001b[0m\n\u001b[1;32m      9\u001b[0m \u001b[0mprint\u001b[0m\u001b[0;34m(\u001b[0m\u001b[0madd2\u001b[0m\u001b[0;34m)\u001b[0m\u001b[0;34m\u001b[0m\u001b[0;34m\u001b[0m\u001b[0m\n",
      "\u001b[0;32m~/miniconda3/lib/python3.8/bdb.py\u001b[0m in \u001b[0;36mtrace_dispatch\u001b[0;34m(self, frame, event, arg)\u001b[0m\n\u001b[1;32m     90\u001b[0m             \u001b[0;32mreturn\u001b[0m \u001b[0mself\u001b[0m\u001b[0;34m.\u001b[0m\u001b[0mdispatch_call\u001b[0m\u001b[0;34m(\u001b[0m\u001b[0mframe\u001b[0m\u001b[0;34m,\u001b[0m \u001b[0marg\u001b[0m\u001b[0;34m)\u001b[0m\u001b[0;34m\u001b[0m\u001b[0;34m\u001b[0m\u001b[0m\n\u001b[1;32m     91\u001b[0m         \u001b[0;32mif\u001b[0m \u001b[0mevent\u001b[0m \u001b[0;34m==\u001b[0m \u001b[0;34m'return'\u001b[0m\u001b[0;34m:\u001b[0m\u001b[0;34m\u001b[0m\u001b[0;34m\u001b[0m\u001b[0m\n\u001b[0;32m---> 92\u001b[0;31m             \u001b[0;32mreturn\u001b[0m \u001b[0mself\u001b[0m\u001b[0;34m.\u001b[0m\u001b[0mdispatch_return\u001b[0m\u001b[0;34m(\u001b[0m\u001b[0mframe\u001b[0m\u001b[0;34m,\u001b[0m \u001b[0marg\u001b[0m\u001b[0;34m)\u001b[0m\u001b[0;34m\u001b[0m\u001b[0;34m\u001b[0m\u001b[0m\n\u001b[0m\u001b[1;32m     93\u001b[0m         \u001b[0;32mif\u001b[0m \u001b[0mevent\u001b[0m \u001b[0;34m==\u001b[0m \u001b[0;34m'exception'\u001b[0m\u001b[0;34m:\u001b[0m\u001b[0;34m\u001b[0m\u001b[0;34m\u001b[0m\u001b[0m\n\u001b[1;32m     94\u001b[0m             \u001b[0;32mreturn\u001b[0m \u001b[0mself\u001b[0m\u001b[0;34m.\u001b[0m\u001b[0mdispatch_exception\u001b[0m\u001b[0;34m(\u001b[0m\u001b[0mframe\u001b[0m\u001b[0;34m,\u001b[0m \u001b[0marg\u001b[0m\u001b[0;34m)\u001b[0m\u001b[0;34m\u001b[0m\u001b[0;34m\u001b[0m\u001b[0m\n",
      "\u001b[0;32m~/miniconda3/lib/python3.8/bdb.py\u001b[0m in \u001b[0;36mdispatch_return\u001b[0;34m(self, frame, arg)\u001b[0m\n\u001b[1;32m    152\u001b[0m             \u001b[0;32mfinally\u001b[0m\u001b[0;34m:\u001b[0m\u001b[0;34m\u001b[0m\u001b[0;34m\u001b[0m\u001b[0m\n\u001b[1;32m    153\u001b[0m                 \u001b[0mself\u001b[0m\u001b[0;34m.\u001b[0m\u001b[0mframe_returning\u001b[0m \u001b[0;34m=\u001b[0m \u001b[0;32mNone\u001b[0m\u001b[0;34m\u001b[0m\u001b[0;34m\u001b[0m\u001b[0m\n\u001b[0;32m--> 154\u001b[0;31m             \u001b[0;32mif\u001b[0m \u001b[0mself\u001b[0m\u001b[0;34m.\u001b[0m\u001b[0mquitting\u001b[0m\u001b[0;34m:\u001b[0m \u001b[0;32mraise\u001b[0m \u001b[0mBdbQuit\u001b[0m\u001b[0;34m\u001b[0m\u001b[0;34m\u001b[0m\u001b[0m\n\u001b[0m\u001b[1;32m    155\u001b[0m             \u001b[0;31m# The user issued a 'next' or 'until' command.\u001b[0m\u001b[0;34m\u001b[0m\u001b[0;34m\u001b[0m\u001b[0;34m\u001b[0m\u001b[0m\n\u001b[1;32m    156\u001b[0m             \u001b[0;32mif\u001b[0m \u001b[0mself\u001b[0m\u001b[0;34m.\u001b[0m\u001b[0mstopframe\u001b[0m \u001b[0;32mis\u001b[0m \u001b[0mframe\u001b[0m \u001b[0;32mand\u001b[0m \u001b[0mself\u001b[0m\u001b[0;34m.\u001b[0m\u001b[0mstoplineno\u001b[0m \u001b[0;34m!=\u001b[0m \u001b[0;34m-\u001b[0m\u001b[0;36m1\u001b[0m\u001b[0;34m:\u001b[0m\u001b[0;34m\u001b[0m\u001b[0;34m\u001b[0m\u001b[0m\n",
      "\u001b[0;31mBdbQuit\u001b[0m: "
     ]
    }
   ],
   "source": [
    "mylist = [2,7,96]\n",
    "myname = \"Bhupesh\"\n",
    "myage = 24\n",
    "\n",
    "add = myage + 20\n",
    "add1 = mylist[0] + myage\n",
    "pdb.set_trace() # To check the lines and varibale to this point, added before the line where we are getting error\n",
    "add2 = add1 + len(myname)\n",
    "print(add2)"
   ]
  },
  {
   "cell_type": "code",
   "execution_count": 142,
   "id": "750b4a0b",
   "metadata": {},
   "outputs": [],
   "source": [
    "# To quit the debugger enter `q`"
   ]
  },
  {
   "cell_type": "code",
   "execution_count": null,
   "id": "b72f83de",
   "metadata": {},
   "outputs": [],
   "source": []
  }
 ],
 "metadata": {
  "kernelspec": {
   "display_name": "Python 3",
   "language": "python",
   "name": "python3"
  },
  "language_info": {
   "codemirror_mode": {
    "name": "ipython",
    "version": 3
   },
   "file_extension": ".py",
   "mimetype": "text/x-python",
   "name": "python",
   "nbconvert_exporter": "python",
   "pygments_lexer": "ipython3",
   "version": "3.8.5"
  }
 },
 "nbformat": 4,
 "nbformat_minor": 5
}
