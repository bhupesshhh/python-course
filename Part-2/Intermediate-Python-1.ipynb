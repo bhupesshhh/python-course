{
 "cells": [
  {
   "cell_type": "markdown",
   "id": "b17265cf",
   "metadata": {},
   "source": [
    "# Intermediate Python 1\n",
    "\n",
    "* Error Handling\n",
    "* Try, Except and Finally Format\n",
    "* Pylint Testing Tools\n",
    "* Unittest Testing Tools\n",
    "* Python Decorators\n",
    "* Python Generators"
   ]
  },
  {
   "cell_type": "markdown",
   "id": "e16b308b",
   "metadata": {},
   "source": [
    "## 1.1 Error handling in Python\n",
    "\n",
    "Just like any other language, Python is also prone to errors and we are human we make a lot of mistakes while working. \n",
    "But we can tackle those errors here with a set of rules.\n",
    "\n",
    "**Why do we need to tackle errors ?**\n",
    "\n",
    "- If we do not handle the error our code block will stop and not allowed to run any further.\n",
    "\n",
    "- Error handling helps us to take up on unexpected errors which can arise later."
   ]
  },
  {
   "cell_type": "code",
   "execution_count": 1,
   "id": "d186d94b",
   "metadata": {},
   "outputs": [],
   "source": [
    "# Example\n",
    "\n",
    "def take_integer():\n",
    "    \n",
    "    number = int(input(\"Enter any integer: \"))\n",
    "    \n",
    "    return number"
   ]
  },
  {
   "cell_type": "code",
   "execution_count": 2,
   "id": "e012aa1d",
   "metadata": {},
   "outputs": [
    {
     "name": "stdout",
     "output_type": "stream",
     "text": [
      "Enter any integer: 12\n",
      "Task Completed\n"
     ]
    }
   ],
   "source": [
    "take_integer()\n",
    "print(\"Task Completed\")"
   ]
  },
  {
   "cell_type": "code",
   "execution_count": 3,
   "id": "79711210",
   "metadata": {},
   "outputs": [
    {
     "name": "stdout",
     "output_type": "stream",
     "text": [
      "Enter any integer: abc\n"
     ]
    },
    {
     "ename": "ValueError",
     "evalue": "invalid literal for int() with base 10: 'abc'",
     "output_type": "error",
     "traceback": [
      "\u001b[0;31m---------------------------------------------------------------------------\u001b[0m",
      "\u001b[0;31mValueError\u001b[0m                                Traceback (most recent call last)",
      "\u001b[0;32m<ipython-input-3-370aece4458e>\u001b[0m in \u001b[0;36m<module>\u001b[0;34m\u001b[0m\n\u001b[0;32m----> 1\u001b[0;31m \u001b[0mtake_integer\u001b[0m\u001b[0;34m(\u001b[0m\u001b[0;34m)\u001b[0m\u001b[0;34m\u001b[0m\u001b[0;34m\u001b[0m\u001b[0m\n\u001b[0m\u001b[1;32m      2\u001b[0m \u001b[0mprint\u001b[0m\u001b[0;34m(\u001b[0m\u001b[0;34m\"Task Completed\"\u001b[0m\u001b[0;34m)\u001b[0m\u001b[0;34m\u001b[0m\u001b[0;34m\u001b[0m\u001b[0m\n",
      "\u001b[0;32m<ipython-input-1-f369f87377ac>\u001b[0m in \u001b[0;36mtake_integer\u001b[0;34m()\u001b[0m\n\u001b[1;32m      3\u001b[0m \u001b[0;32mdef\u001b[0m \u001b[0mtake_integer\u001b[0m\u001b[0;34m(\u001b[0m\u001b[0;34m)\u001b[0m\u001b[0;34m:\u001b[0m\u001b[0;34m\u001b[0m\u001b[0;34m\u001b[0m\u001b[0m\n\u001b[1;32m      4\u001b[0m \u001b[0;34m\u001b[0m\u001b[0m\n\u001b[0;32m----> 5\u001b[0;31m     \u001b[0mnumber\u001b[0m \u001b[0;34m=\u001b[0m \u001b[0mint\u001b[0m\u001b[0;34m(\u001b[0m\u001b[0minput\u001b[0m\u001b[0;34m(\u001b[0m\u001b[0;34m\"Enter any integer: \"\u001b[0m\u001b[0;34m)\u001b[0m\u001b[0;34m)\u001b[0m\u001b[0;34m\u001b[0m\u001b[0;34m\u001b[0m\u001b[0m\n\u001b[0m\u001b[1;32m      6\u001b[0m \u001b[0;34m\u001b[0m\u001b[0m\n\u001b[1;32m      7\u001b[0m     \u001b[0;32mreturn\u001b[0m \u001b[0mnumber\u001b[0m\u001b[0;34m\u001b[0m\u001b[0;34m\u001b[0m\u001b[0m\n",
      "\u001b[0;31mValueError\u001b[0m: invalid literal for int() with base 10: 'abc'"
     ]
    }
   ],
   "source": [
    "take_integer()\n",
    "print(\"Task Completed\")"
   ]
  },
  {
   "cell_type": "markdown",
   "id": "d0dc3deb",
   "metadata": {},
   "source": [
    "Here we get `ValueError` which states the reason of error but it also stops the function to run further code or code cells. Like we didn't got the result of `print` function.\n",
    "\n",
    "\n",
    "To stop or handle this kind of unexpected error we take the help of `try,except and finally` keywords."
   ]
  },
  {
   "cell_type": "markdown",
   "id": "4de088cc",
   "metadata": {},
   "source": [
    "## 1.2 `try`, `except` and `finally` Format in Python"
   ]
  },
  {
   "cell_type": "markdown",
   "id": "97ea0b08",
   "metadata": {},
   "source": [
    "### 1.2.1 Use of try,except and finally :\n",
    "\n",
    "* **`try`** : A section of code we wants to run (May have an error).\n",
    "\n",
    "* **`except`** : A section of code that will run if the `try` block has any error. \n",
    "\n",
    "* **`finally`** : A section of code that will run, no matter if there is any error or not."
   ]
  },
  {
   "cell_type": "markdown",
   "id": "63d0a988",
   "metadata": {},
   "source": [
    "### 1.2.2 Use of try,except and finally :\n",
    "\n",
    "`try:\n",
    "    # A dection of code (With or without Error)\n",
    "except:\n",
    "    # A section of code will run if there is any error\n",
    "finally:\n",
    "    # A section of code that will always run`"
   ]
  },
  {
   "cell_type": "code",
   "execution_count": 14,
   "id": "9e3c3dfe",
   "metadata": {},
   "outputs": [],
   "source": [
    "# We can rewrite that problem in a better way\n",
    "\n",
    "def take_integer():\n",
    "    \n",
    "    try:\n",
    "        number = int(input(\"Enter your number:\"))\n",
    "    except:\n",
    "        print(\"Incorrect input, Number is not integer\")\n",
    "    finally:\n",
    "        print(\"Function Complete!\")"
   ]
  },
  {
   "cell_type": "code",
   "execution_count": 16,
   "id": "d826a9b0",
   "metadata": {},
   "outputs": [
    {
     "name": "stdout",
     "output_type": "stream",
     "text": [
      "Enter your number:12\n",
      "Function Complete!\n",
      "Task Completed\n"
     ]
    }
   ],
   "source": [
    "take_integer()\n",
    "print(\"Task Completed\")"
   ]
  },
  {
   "cell_type": "code",
   "execution_count": 17,
   "id": "657258f9",
   "metadata": {},
   "outputs": [
    {
     "name": "stdout",
     "output_type": "stream",
     "text": [
      "Enter your number:abcde\n",
      "Incorrect input, Number is not integer\n",
      "Function Complete!\n",
      "Task Completed\n"
     ]
    }
   ],
   "source": [
    "take_integer()\n",
    "print(\"Task Completed\")"
   ]
  },
  {
   "cell_type": "code",
   "execution_count": null,
   "id": "3fc4dc75",
   "metadata": {},
   "outputs": [],
   "source": []
  },
  {
   "cell_type": "markdown",
   "id": "7f982f36",
   "metadata": {},
   "source": [
    "### 1.2.3 Use of try,except and else :\n",
    "\n",
    "`try:\n",
    "    # A dection of code (With or without Error)\n",
    "except:\n",
    "    # A section of code will run if there is any error\n",
    "else:\n",
    "    # A section of code will run if there is no error`"
   ]
  },
  {
   "cell_type": "code",
   "execution_count": 11,
   "id": "7eaba46d",
   "metadata": {},
   "outputs": [],
   "source": [
    "def sum_integer(a,b):\n",
    "    \n",
    "    try:\n",
    "        total = a + b\n",
    "    except:\n",
    "        print(\"Incorrect input, Number is not integer\")\n",
    "    else:\n",
    "        return total"
   ]
  },
  {
   "cell_type": "code",
   "execution_count": 12,
   "id": "60aaa2bf",
   "metadata": {},
   "outputs": [
    {
     "data": {
      "text/plain": [
       "22"
      ]
     },
     "execution_count": 12,
     "metadata": {},
     "output_type": "execute_result"
    }
   ],
   "source": [
    "sum_integer(10,12)"
   ]
  },
  {
   "cell_type": "code",
   "execution_count": 13,
   "id": "0767cde8",
   "metadata": {},
   "outputs": [
    {
     "name": "stdout",
     "output_type": "stream",
     "text": [
      "Incorrect input, Number is not integer\n"
     ]
    }
   ],
   "source": [
    "sum_integer(10,\"bhupesh\")"
   ]
  },
  {
   "cell_type": "markdown",
   "id": "93ece261",
   "metadata": {},
   "source": [
    "### 1.2.3 Use of try,except and else for different types of errors.\n",
    "\n",
    "For more info : https://docs.python.org/3/library/exceptions.html"
   ]
  },
  {
   "cell_type": "code",
   "execution_count": 23,
   "id": "0cacd902",
   "metadata": {},
   "outputs": [
    {
     "name": "stdout",
     "output_type": "stream",
     "text": [
      "Error, You are using incorrect mode for operation\n",
      "Code Block Complete\n"
     ]
    }
   ],
   "source": [
    "try:\n",
    "    file = open(\"example.txt\",\"r\")\n",
    "    file.write(\"Just trying it out!\")\n",
    "except OSError:\n",
    "    print(\"Error, You are using incorrect mode for operation\")\n",
    "except:\n",
    "    print(\"there is some error\")\n",
    "finally:\n",
    "    print(\"Code Block Complete\")"
   ]
  },
  {
   "cell_type": "markdown",
   "id": "95a0bb2f",
   "metadata": {},
   "source": [
    "We can add as many type of exceptions and errors if we like or we can just add `except` which will handle all erros at once."
   ]
  },
  {
   "cell_type": "code",
   "execution_count": 25,
   "id": "2eadb1d5",
   "metadata": {},
   "outputs": [
    {
     "ename": "TypeError",
     "evalue": "unsupported operand type(s) for ** or pow(): 'str' and 'int'",
     "output_type": "error",
     "traceback": [
      "\u001b[0;31m---------------------------------------------------------------------------\u001b[0m",
      "\u001b[0;31mTypeError\u001b[0m                                 Traceback (most recent call last)",
      "\u001b[0;32m<ipython-input-25-780ec04a9185>\u001b[0m in \u001b[0;36m<module>\u001b[0;34m\u001b[0m\n\u001b[1;32m      1\u001b[0m \u001b[0;31m# Example 1\u001b[0m\u001b[0;34m\u001b[0m\u001b[0;34m\u001b[0m\u001b[0;34m\u001b[0m\u001b[0m\n\u001b[1;32m      2\u001b[0m \u001b[0;32mfor\u001b[0m \u001b[0mi\u001b[0m \u001b[0;32min\u001b[0m \u001b[0;34m[\u001b[0m\u001b[0;34m'a'\u001b[0m\u001b[0;34m,\u001b[0m\u001b[0;34m'b'\u001b[0m\u001b[0;34m,\u001b[0m\u001b[0;34m'c'\u001b[0m\u001b[0;34m]\u001b[0m\u001b[0;34m:\u001b[0m\u001b[0;34m\u001b[0m\u001b[0;34m\u001b[0m\u001b[0m\n\u001b[0;32m----> 3\u001b[0;31m     \u001b[0mprint\u001b[0m\u001b[0;34m(\u001b[0m\u001b[0mi\u001b[0m\u001b[0;34m**\u001b[0m\u001b[0;36m2\u001b[0m\u001b[0;34m)\u001b[0m\u001b[0;34m\u001b[0m\u001b[0;34m\u001b[0m\u001b[0m\n\u001b[0m",
      "\u001b[0;31mTypeError\u001b[0m: unsupported operand type(s) for ** or pow(): 'str' and 'int'"
     ]
    }
   ],
   "source": [
    "# Example 1\n",
    "for i in ['a','b','c']:\n",
    "    print(i**2)"
   ]
  },
  {
   "cell_type": "code",
   "execution_count": 26,
   "id": "828f6d57",
   "metadata": {},
   "outputs": [
    {
     "name": "stdout",
     "output_type": "stream",
     "text": [
      "It looks like you made a mistake\n"
     ]
    }
   ],
   "source": [
    "# Solution 1\n",
    "try:\n",
    "    for i in ['a','b','c']:\n",
    "        print(i**2)\n",
    "except:\n",
    "    print(\"It looks like you made a mistake\")"
   ]
  },
  {
   "cell_type": "code",
   "execution_count": 28,
   "id": "fd2b4e34",
   "metadata": {},
   "outputs": [
    {
     "name": "stdout",
     "output_type": "stream",
     "text": [
      "Please provide a number: abc\n"
     ]
    },
    {
     "ename": "ValueError",
     "evalue": "invalid literal for int() with base 10: 'abc'",
     "output_type": "error",
     "traceback": [
      "\u001b[0;31m---------------------------------------------------------------------------\u001b[0m",
      "\u001b[0;31mValueError\u001b[0m                                Traceback (most recent call last)",
      "\u001b[0;32m<ipython-input-28-ddf6e575f84e>\u001b[0m in \u001b[0;36m<module>\u001b[0;34m\u001b[0m\n\u001b[1;32m      1\u001b[0m \u001b[0;31m# Example 2\u001b[0m\u001b[0;34m\u001b[0m\u001b[0;34m\u001b[0m\u001b[0;34m\u001b[0m\u001b[0m\n\u001b[0;32m----> 2\u001b[0;31m \u001b[0mnumber\u001b[0m \u001b[0;34m=\u001b[0m \u001b[0mint\u001b[0m\u001b[0;34m(\u001b[0m\u001b[0minput\u001b[0m\u001b[0;34m(\u001b[0m\u001b[0;34m\"Please provide a number: \"\u001b[0m\u001b[0;34m)\u001b[0m\u001b[0;34m)\u001b[0m\u001b[0;34m\u001b[0m\u001b[0;34m\u001b[0m\u001b[0m\n\u001b[0m",
      "\u001b[0;31mValueError\u001b[0m: invalid literal for int() with base 10: 'abc'"
     ]
    }
   ],
   "source": [
    "# Example 2\n",
    "number = int(input(\"Please provide a number: \"))"
   ]
  },
  {
   "cell_type": "code",
   "execution_count": 29,
   "id": "4bb16769",
   "metadata": {},
   "outputs": [],
   "source": [
    "# Solution 2\n",
    "def take_integer():\n",
    "    while True:\n",
    "        try:\n",
    "            number = int(input(\"enter any integer: \"))\n",
    "        except:\n",
    "            print(\"Incorrect input, Number is not integer\")\n",
    "            continue\n",
    "        else:\n",
    "            num=number**2\n",
    "            print(f\"Thank you, square of your {number} is:{num}\")\n",
    "            break"
   ]
  },
  {
   "cell_type": "code",
   "execution_count": 30,
   "id": "715649c7",
   "metadata": {},
   "outputs": [
    {
     "name": "stdout",
     "output_type": "stream",
     "text": [
      "enter any integer: 12\n",
      "Thank you, square of your 12 is:144\n"
     ]
    }
   ],
   "source": [
    "take_integer()"
   ]
  },
  {
   "cell_type": "code",
   "execution_count": 31,
   "id": "f2e5285e",
   "metadata": {},
   "outputs": [
    {
     "name": "stdout",
     "output_type": "stream",
     "text": [
      "enter any integer: abcde\n",
      "Incorrect input, Number is not integer\n",
      "enter any integer: bhupesh\n",
      "Incorrect input, Number is not integer\n",
      "enter any integer: 12.121212\n",
      "Incorrect input, Number is not integer\n",
      "enter any integer: 123\n",
      "Thank you, square of your 123 is:15129\n"
     ]
    }
   ],
   "source": [
    "take_integer()"
   ]
  },
  {
   "cell_type": "code",
   "execution_count": null,
   "id": "ee80c9eb",
   "metadata": {},
   "outputs": [],
   "source": []
  },
  {
   "cell_type": "code",
   "execution_count": null,
   "id": "80345d08",
   "metadata": {},
   "outputs": [],
   "source": []
  },
  {
   "cell_type": "markdown",
   "id": "d8848599",
   "metadata": {},
   "source": [
    "## 1.3 Pylint Library for Testing\n",
    "\n",
    "Pylint is a Python static code analysis tool which looks for programming errors, helps enforcing a coding standard, sniffs for code smells and offers simple refactoring suggestions.\n",
    "\n",
    "For more info : https://pypi.org/project/pylint/"
   ]
  },
  {
   "cell_type": "markdown",
   "id": "a191cad1",
   "metadata": {},
   "source": [
    "### Step to use pylint\n",
    "\n",
    "1. You need to make a program with `.py` format\n",
    "2. Install pylint Library : `pip install pylint`\n",
    "3. Check on the documentations for the different modes and codes.\n",
    "4. Check errors on your code by going to th terminal and running `pylint myfile.py -r y`\n",
    "5. It will run an analysis and give you an extended report on your code."
   ]
  },
  {
   "cell_type": "markdown",
   "id": "34559165",
   "metadata": {},
   "source": [
    "**Note: For big use, large programs and professional use**"
   ]
  },
  {
   "cell_type": "code",
   "execution_count": null,
   "id": "c4d368c8",
   "metadata": {},
   "outputs": [],
   "source": []
  },
  {
   "cell_type": "markdown",
   "id": "3d7b08fd",
   "metadata": {},
   "source": [
    "## 1.4 Unittest Library for Testing\n",
    "\n",
    "\n",
    "Unittest Library allows you to write your own test for any programs. So you can write your own test cases, check them against your code and verufy if you're getting the right result or not.\n",
    "\n",
    "* Need good knowledge of Object Oriented Class to use the functionality\n",
    "\n",
    "for more info : https://docs.python.org/3/library/unittest.html "
   ]
  },
  {
   "cell_type": "markdown",
   "id": "9d7e338c",
   "metadata": {},
   "source": [
    "### Use of Unittest\n",
    " \n",
    "- To Check if the codes written are giving the right output needed\n",
    "- To check out all the codes with various cases"
   ]
  },
  {
   "cell_type": "markdown",
   "id": "e4e9bf14",
   "metadata": {},
   "source": [
    "### Format of Unittest\n",
    "\n",
    "`\n",
    "#### Imports\n",
    "import unittest\n",
    "\n",
    "import example_code\n",
    "\n",
    "#### Test Structure\n",
    "\n",
    "\n",
    "class TestExample(unittest.TestCase):\n",
    "\n",
    "    # First Test\n",
    "    def test_one_word(self):\n",
    "        sample = \"bhupesh\"\n",
    "        result = example_code.capital_everything(sample)\n",
    "        self.assertEqual(result, \"Bhupesh\")\n",
    "\n",
    "    # Second Test\n",
    "    def test_all(self):\n",
    "        sample = \"bhupesh is really cool\"\n",
    "        result = example_code.capital_everything(sample)\n",
    "        self.assertEqual(result, \"Bhupesh Is Really Cool\")\n",
    "\n",
    "\n",
    "if __name__ == \"__main__\":\n",
    "\n",
    "    unittest.main()\n",
    "\n",
    "`"
   ]
  },
  {
   "cell_type": "markdown",
   "id": "26b2439f",
   "metadata": {},
   "source": [
    "### Format of the our code\n",
    "\n",
    "`\n",
    "def capital_everything(string):\n",
    "    \n",
    "    return string.title()\n",
    "\n",
    "`"
   ]
  },
  {
   "cell_type": "markdown",
   "id": "ea6ac60f",
   "metadata": {},
   "source": [
    "### Steps to check the code\n",
    "\n",
    "1. Allows the user to make their code with some return\n",
    "2. Import the code into the unittest folder with the defined functions and all\n",
    "3. Run the file on python `python testfile.py`\n",
    "4. We'll get the result with number of test cases we passed or failed."
   ]
  },
  {
   "cell_type": "code",
   "execution_count": null,
   "id": "0f403bb2",
   "metadata": {},
   "outputs": [],
   "source": []
  },
  {
   "cell_type": "code",
   "execution_count": null,
   "id": "657412b5",
   "metadata": {},
   "outputs": [],
   "source": []
  },
  {
   "cell_type": "markdown",
   "id": "c8e27a5e",
   "metadata": {},
   "source": [
    "## 1.5 Python Decorators"
   ]
  },
  {
   "cell_type": "code",
   "execution_count": null,
   "id": "a9b850a2",
   "metadata": {},
   "outputs": [],
   "source": []
  }
 ],
 "metadata": {
  "kernelspec": {
   "display_name": "Python 3",
   "language": "python",
   "name": "python3"
  },
  "language_info": {
   "codemirror_mode": {
    "name": "ipython",
    "version": 3
   },
   "file_extension": ".py",
   "mimetype": "text/x-python",
   "name": "python",
   "nbconvert_exporter": "python",
   "pygments_lexer": "ipython3",
   "version": "3.8.5"
  }
 },
 "nbformat": 4,
 "nbformat_minor": 5
}
