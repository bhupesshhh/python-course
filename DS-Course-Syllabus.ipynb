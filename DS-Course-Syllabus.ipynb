{
 "cells": [
  {
   "cell_type": "markdown",
   "metadata": {},
   "source": [
    "# Data Science"
   ]
  },
  {
   "cell_type": "markdown",
   "metadata": {},
   "source": [
    "## 1. Introduction to Data Science\n",
    "\n",
    "* What is Data Science?\n",
    "* Wy do we need Data Science ?\n",
    "* History and future of Data Science\n",
    "* Different Data Science Tools\n",
    "* Application of Data Science\n",
    "* Role of Data Scientist"
   ]
  },
  {
   "cell_type": "markdown",
   "metadata": {},
   "source": [
    "## 2. Introduction to Python\n",
    "\n",
    "* Why Python ?\n",
    "* How to use Python ?\n",
    "* Expressions and Variables\n",
    "* Data types in Python\n",
    "* Arithmatic and String Operations\n",
    "* Data Structures in Python\n",
    "* Input/Output in Python"
   ]
  },
  {
   "cell_type": "markdown",
   "metadata": {},
   "source": [
    "## 3. Intermediate Python\n",
    "\n",
    "* Statements and Control Flow\n",
    "* Conditioning and Branching\n",
    "* Methods and Functions\n",
    "* Objects and Class\n",
    "* Object Oriented Programming\n",
    "\n",
    "**Minor Project 1**\n",
    "\n",
    "**Minor Project 2**"
   ]
  },
  {
   "cell_type": "markdown",
   "metadata": {},
   "source": [
    "## 4. Numpy and Pandas\n",
    "\n",
    "* Numpy Introduction\n",
    "* Pandas Introduction\n",
    "* Describing and Summarising\n",
    "* Selecting and Viewing Data\n",
    "* Manipulating Data\n",
    "* Loading and Saving Data"
   ]
  },
  {
   "cell_type": "markdown",
   "metadata": {},
   "source": [
    "## 5. Data Analysis\n",
    "\n",
    "* Importing Data and Dataset\n",
    "* Identifying and Handling Missing Values\n",
    "* Data Formatting\n",
    "* Data Normalisation and Indicator Varialbles\n",
    "* Introduction to Matplotlib\n",
    "* Summarising the Dataframe\n",
    "\n",
    "**Minor Project 3**"
   ]
  },
  {
   "cell_type": "markdown",
   "metadata": {},
   "source": [
    "## 6. Introduction to Machine Learning\n",
    "\n",
    "* What is Machine Learning ?\n",
    "* Introduction to Scikit-Learn\n",
    "* Different Types of Data\n",
    "* Different Machine learning Models\n",
    "* General Machine Learning Workflow\n",
    "* Modelling and Prediction\n",
    "* Evaluation, Tuning and Reporting\n",
    "\n",
    "**Minor Project 4**"
   ]
  },
  {
   "cell_type": "code",
   "execution_count": null,
   "metadata": {},
   "outputs": [],
   "source": []
  }
 ],
 "metadata": {
  "kernelspec": {
   "display_name": "Python 3",
   "language": "python",
   "name": "python3"
  },
  "language_info": {
   "codemirror_mode": {
    "name": "ipython",
    "version": 3
   },
   "file_extension": ".py",
   "mimetype": "text/x-python",
   "name": "python",
   "nbconvert_exporter": "python",
   "pygments_lexer": "ipython3",
   "version": "3.8.5"
  }
 },
 "nbformat": 4,
 "nbformat_minor": 4
}
